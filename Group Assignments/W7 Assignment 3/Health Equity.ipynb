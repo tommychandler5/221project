{
 "cells": [
  {
   "cell_type": "markdown",
   "id": "b6779960-c4c1-45b2-9fa8-008e66e26bff",
   "metadata": {},
   "source": [
    "### HEALTH EQUITY INDICATORS; SAN FRANCISCO, CA 2020 ###"
   ]
  },
  {
   "cell_type": "markdown",
   "id": "e6ab8927-d5d5-4744-9100-017615c6edcd",
   "metadata": {},
   "source": [
    "In this notebook, I will combine the data I have collected and analyzed thus far on COVID-19 burden and access to health insurance in San Francisco. I am going to add information on hospital locations in the city and look at the proximity of hospitals to the neighborhoods that are most affected by COVID-19. "
   ]
  },
  {
   "cell_type": "markdown",
   "id": "da5107e5-3fad-4fd3-8815-78a020dff2f1",
   "metadata": {},
   "source": [
    "#### IMPORTING DATA ####"
   ]
  },
  {
   "cell_type": "code",
   "execution_count": 2,
   "id": "26cc4310-a4c5-4d91-8920-9372a3787d7c",
   "metadata": {},
   "outputs": [],
   "source": [
    "#importing libraries\n",
    "import pandas as pd\n",
    "import geopandas as gpd\n",
    "import plotly.express as px"
   ]
  },
  {
   "cell_type": "markdown",
   "id": "a93b3650-13ae-4606-b04b-60f947183481",
   "metadata": {},
   "source": [
    "First, I am going to pull in data that will connect the census tracts with actual recognized neighborhoods in San Francisco."
   ]
  },
  {
   "cell_type": "code",
   "execution_count": 3,
   "id": "1e4e8a01-9973-47e1-beeb-7e9e0ba8efd2",
   "metadata": {},
   "outputs": [
    {
     "name": "stderr",
     "output_type": "stream",
     "text": [
      "ERROR 1: PROJ: proj_create_from_database: Open of /opt/conda/share/proj failed\n"
     ]
    },
    {
     "ename": "DriverError",
     "evalue": "W7 Assignment 3/data/SF2020_Neighborhoods_CTs.geojson: No such file or directory",
     "output_type": "error",
     "traceback": [
      "\u001b[0;31m---------------------------------------------------------------------------\u001b[0m",
      "\u001b[0;31mCPLE_OpenFailedError\u001b[0m                      Traceback (most recent call last)",
      "File \u001b[0;32mfiona/_shim.pyx:83\u001b[0m, in \u001b[0;36mfiona._shim.gdal_open_vector\u001b[0;34m()\u001b[0m\n",
      "File \u001b[0;32mfiona/_err.pyx:291\u001b[0m, in \u001b[0;36mfiona._err.exc_wrap_pointer\u001b[0;34m()\u001b[0m\n",
      "\u001b[0;31mCPLE_OpenFailedError\u001b[0m: W7 Assignment 3/data/SF2020_Neighborhoods_CTs.geojson: No such file or directory",
      "\nDuring handling of the above exception, another exception occurred:\n",
      "\u001b[0;31mDriverError\u001b[0m                               Traceback (most recent call last)",
      "Cell \u001b[0;32mIn[3], line 2\u001b[0m\n\u001b[1;32m      1\u001b[0m \u001b[38;5;66;03m#pull in the Analysis Neighborhoods data set from DataSF\u001b[39;00m\n\u001b[0;32m----> 2\u001b[0m nb \u001b[38;5;241m=\u001b[39m \u001b[43mgpd\u001b[49m\u001b[38;5;241;43m.\u001b[39;49m\u001b[43mread_file\u001b[49m\u001b[43m(\u001b[49m\u001b[38;5;124;43m'\u001b[39;49m\u001b[38;5;124;43mW7 Assignment 3/data/SF2020_Neighborhoods_CTs.geojson\u001b[39;49m\u001b[38;5;124;43m'\u001b[39;49m\u001b[43m)\u001b[49m\n",
      "File \u001b[0;32m/opt/conda/lib/python3.10/site-packages/geopandas/io/file.py:259\u001b[0m, in \u001b[0;36m_read_file\u001b[0;34m(filename, bbox, mask, rows, engine, **kwargs)\u001b[0m\n\u001b[1;32m    256\u001b[0m     path_or_bytes \u001b[38;5;241m=\u001b[39m filename\n\u001b[1;32m    258\u001b[0m \u001b[38;5;28;01mif\u001b[39;00m engine \u001b[38;5;241m==\u001b[39m \u001b[38;5;124m\"\u001b[39m\u001b[38;5;124mfiona\u001b[39m\u001b[38;5;124m\"\u001b[39m:\n\u001b[0;32m--> 259\u001b[0m     \u001b[38;5;28;01mreturn\u001b[39;00m \u001b[43m_read_file_fiona\u001b[49m\u001b[43m(\u001b[49m\n\u001b[1;32m    260\u001b[0m \u001b[43m        \u001b[49m\u001b[43mpath_or_bytes\u001b[49m\u001b[43m,\u001b[49m\u001b[43m \u001b[49m\u001b[43mfrom_bytes\u001b[49m\u001b[43m,\u001b[49m\u001b[43m \u001b[49m\u001b[43mbbox\u001b[49m\u001b[38;5;241;43m=\u001b[39;49m\u001b[43mbbox\u001b[49m\u001b[43m,\u001b[49m\u001b[43m \u001b[49m\u001b[43mmask\u001b[49m\u001b[38;5;241;43m=\u001b[39;49m\u001b[43mmask\u001b[49m\u001b[43m,\u001b[49m\u001b[43m \u001b[49m\u001b[43mrows\u001b[49m\u001b[38;5;241;43m=\u001b[39;49m\u001b[43mrows\u001b[49m\u001b[43m,\u001b[49m\u001b[43m \u001b[49m\u001b[38;5;241;43m*\u001b[39;49m\u001b[38;5;241;43m*\u001b[39;49m\u001b[43mkwargs\u001b[49m\n\u001b[1;32m    261\u001b[0m \u001b[43m    \u001b[49m\u001b[43m)\u001b[49m\n\u001b[1;32m    262\u001b[0m \u001b[38;5;28;01melif\u001b[39;00m engine \u001b[38;5;241m==\u001b[39m \u001b[38;5;124m\"\u001b[39m\u001b[38;5;124mpyogrio\u001b[39m\u001b[38;5;124m\"\u001b[39m:\n\u001b[1;32m    263\u001b[0m     \u001b[38;5;28;01mreturn\u001b[39;00m _read_file_pyogrio(\n\u001b[1;32m    264\u001b[0m         path_or_bytes, bbox\u001b[38;5;241m=\u001b[39mbbox, mask\u001b[38;5;241m=\u001b[39mmask, rows\u001b[38;5;241m=\u001b[39mrows, \u001b[38;5;241m*\u001b[39m\u001b[38;5;241m*\u001b[39mkwargs\n\u001b[1;32m    265\u001b[0m     )\n",
      "File \u001b[0;32m/opt/conda/lib/python3.10/site-packages/geopandas/io/file.py:303\u001b[0m, in \u001b[0;36m_read_file_fiona\u001b[0;34m(path_or_bytes, from_bytes, bbox, mask, rows, where, **kwargs)\u001b[0m\n\u001b[1;32m    300\u001b[0m     reader \u001b[38;5;241m=\u001b[39m fiona\u001b[38;5;241m.\u001b[39mopen\n\u001b[1;32m    302\u001b[0m \u001b[38;5;28;01mwith\u001b[39;00m fiona_env():\n\u001b[0;32m--> 303\u001b[0m     \u001b[38;5;28;01mwith\u001b[39;00m \u001b[43mreader\u001b[49m\u001b[43m(\u001b[49m\u001b[43mpath_or_bytes\u001b[49m\u001b[43m,\u001b[49m\u001b[43m \u001b[49m\u001b[38;5;241;43m*\u001b[39;49m\u001b[38;5;241;43m*\u001b[39;49m\u001b[43mkwargs\u001b[49m\u001b[43m)\u001b[49m \u001b[38;5;28;01mas\u001b[39;00m features:\n\u001b[1;32m    304\u001b[0m         crs \u001b[38;5;241m=\u001b[39m features\u001b[38;5;241m.\u001b[39mcrs_wkt\n\u001b[1;32m    305\u001b[0m         \u001b[38;5;66;03m# attempt to get EPSG code\u001b[39;00m\n",
      "File \u001b[0;32m/opt/conda/lib/python3.10/site-packages/fiona/env.py:408\u001b[0m, in \u001b[0;36mensure_env_with_credentials.<locals>.wrapper\u001b[0;34m(*args, **kwargs)\u001b[0m\n\u001b[1;32m    405\u001b[0m \u001b[38;5;129m@wraps\u001b[39m(f)\n\u001b[1;32m    406\u001b[0m \u001b[38;5;28;01mdef\u001b[39;00m \u001b[38;5;21mwrapper\u001b[39m(\u001b[38;5;241m*\u001b[39margs, \u001b[38;5;241m*\u001b[39m\u001b[38;5;241m*\u001b[39mkwargs):\n\u001b[1;32m    407\u001b[0m     \u001b[38;5;28;01mif\u001b[39;00m local\u001b[38;5;241m.\u001b[39m_env:\n\u001b[0;32m--> 408\u001b[0m         \u001b[38;5;28;01mreturn\u001b[39;00m \u001b[43mf\u001b[49m\u001b[43m(\u001b[49m\u001b[38;5;241;43m*\u001b[39;49m\u001b[43margs\u001b[49m\u001b[43m,\u001b[49m\u001b[43m \u001b[49m\u001b[38;5;241;43m*\u001b[39;49m\u001b[38;5;241;43m*\u001b[39;49m\u001b[43mkwargs\u001b[49m\u001b[43m)\u001b[49m\n\u001b[1;32m    409\u001b[0m     \u001b[38;5;28;01melse\u001b[39;00m:\n\u001b[1;32m    410\u001b[0m         \u001b[38;5;28;01mif\u001b[39;00m \u001b[38;5;28misinstance\u001b[39m(args[\u001b[38;5;241m0\u001b[39m], \u001b[38;5;28mstr\u001b[39m):\n",
      "File \u001b[0;32m/opt/conda/lib/python3.10/site-packages/fiona/__init__.py:264\u001b[0m, in \u001b[0;36mopen\u001b[0;34m(fp, mode, driver, schema, crs, encoding, layer, vfs, enabled_drivers, crs_wkt, **kwargs)\u001b[0m\n\u001b[1;32m    261\u001b[0m     path \u001b[38;5;241m=\u001b[39m parse_path(fp)\n\u001b[1;32m    263\u001b[0m \u001b[38;5;28;01mif\u001b[39;00m mode \u001b[38;5;129;01min\u001b[39;00m (\u001b[38;5;124m'\u001b[39m\u001b[38;5;124ma\u001b[39m\u001b[38;5;124m'\u001b[39m, \u001b[38;5;124m'\u001b[39m\u001b[38;5;124mr\u001b[39m\u001b[38;5;124m'\u001b[39m):\n\u001b[0;32m--> 264\u001b[0m     c \u001b[38;5;241m=\u001b[39m \u001b[43mCollection\u001b[49m\u001b[43m(\u001b[49m\u001b[43mpath\u001b[49m\u001b[43m,\u001b[49m\u001b[43m \u001b[49m\u001b[43mmode\u001b[49m\u001b[43m,\u001b[49m\u001b[43m \u001b[49m\u001b[43mdriver\u001b[49m\u001b[38;5;241;43m=\u001b[39;49m\u001b[43mdriver\u001b[49m\u001b[43m,\u001b[49m\u001b[43m \u001b[49m\u001b[43mencoding\u001b[49m\u001b[38;5;241;43m=\u001b[39;49m\u001b[43mencoding\u001b[49m\u001b[43m,\u001b[49m\n\u001b[1;32m    265\u001b[0m \u001b[43m                   \u001b[49m\u001b[43mlayer\u001b[49m\u001b[38;5;241;43m=\u001b[39;49m\u001b[43mlayer\u001b[49m\u001b[43m,\u001b[49m\u001b[43m \u001b[49m\u001b[43menabled_drivers\u001b[49m\u001b[38;5;241;43m=\u001b[39;49m\u001b[43menabled_drivers\u001b[49m\u001b[43m,\u001b[49m\u001b[43m \u001b[49m\u001b[38;5;241;43m*\u001b[39;49m\u001b[38;5;241;43m*\u001b[39;49m\u001b[43mkwargs\u001b[49m\u001b[43m)\u001b[49m\n\u001b[1;32m    266\u001b[0m \u001b[38;5;28;01melif\u001b[39;00m mode \u001b[38;5;241m==\u001b[39m \u001b[38;5;124m'\u001b[39m\u001b[38;5;124mw\u001b[39m\u001b[38;5;124m'\u001b[39m:\n\u001b[1;32m    267\u001b[0m     \u001b[38;5;28;01mif\u001b[39;00m schema:\n\u001b[1;32m    268\u001b[0m         \u001b[38;5;66;03m# Make an ordered dict of schema properties.\u001b[39;00m\n",
      "File \u001b[0;32m/opt/conda/lib/python3.10/site-packages/fiona/collection.py:162\u001b[0m, in \u001b[0;36mCollection.__init__\u001b[0;34m(self, path, mode, driver, schema, crs, encoding, layer, vsi, archive, enabled_drivers, crs_wkt, ignore_fields, ignore_geometry, **kwargs)\u001b[0m\n\u001b[1;32m    160\u001b[0m \u001b[38;5;28;01mif\u001b[39;00m \u001b[38;5;28mself\u001b[39m\u001b[38;5;241m.\u001b[39mmode \u001b[38;5;241m==\u001b[39m \u001b[38;5;124m'\u001b[39m\u001b[38;5;124mr\u001b[39m\u001b[38;5;124m'\u001b[39m:\n\u001b[1;32m    161\u001b[0m     \u001b[38;5;28mself\u001b[39m\u001b[38;5;241m.\u001b[39msession \u001b[38;5;241m=\u001b[39m Session()\n\u001b[0;32m--> 162\u001b[0m     \u001b[38;5;28;43mself\u001b[39;49m\u001b[38;5;241;43m.\u001b[39;49m\u001b[43msession\u001b[49m\u001b[38;5;241;43m.\u001b[39;49m\u001b[43mstart\u001b[49m\u001b[43m(\u001b[49m\u001b[38;5;28;43mself\u001b[39;49m\u001b[43m,\u001b[49m\u001b[43m \u001b[49m\u001b[38;5;241;43m*\u001b[39;49m\u001b[38;5;241;43m*\u001b[39;49m\u001b[43mkwargs\u001b[49m\u001b[43m)\u001b[49m\n\u001b[1;32m    163\u001b[0m \u001b[38;5;28;01melif\u001b[39;00m \u001b[38;5;28mself\u001b[39m\u001b[38;5;241m.\u001b[39mmode \u001b[38;5;129;01min\u001b[39;00m (\u001b[38;5;124m'\u001b[39m\u001b[38;5;124ma\u001b[39m\u001b[38;5;124m'\u001b[39m, \u001b[38;5;124m'\u001b[39m\u001b[38;5;124mw\u001b[39m\u001b[38;5;124m'\u001b[39m):\n\u001b[1;32m    164\u001b[0m     \u001b[38;5;28mself\u001b[39m\u001b[38;5;241m.\u001b[39msession \u001b[38;5;241m=\u001b[39m WritingSession()\n",
      "File \u001b[0;32mfiona/ogrext.pyx:540\u001b[0m, in \u001b[0;36mfiona.ogrext.Session.start\u001b[0;34m()\u001b[0m\n",
      "File \u001b[0;32mfiona/_shim.pyx:90\u001b[0m, in \u001b[0;36mfiona._shim.gdal_open_vector\u001b[0;34m()\u001b[0m\n",
      "\u001b[0;31mDriverError\u001b[0m: W7 Assignment 3/data/SF2020_Neighborhoods_CTs.geojson: No such file or directory"
     ]
    }
   ],
   "source": [
    "#pull in the Analysis Neighborhoods data set from DataSF\n",
    "nb = gpd.read_file('W)"
   ]
  },
  {
   "cell_type": "code",
   "execution_count": null,
   "id": "1d8c606a-ec10-4d8b-b3af-26ff04f9e27d",
   "metadata": {},
   "outputs": [],
   "source": [
    "nb.shape"
   ]
  },
  {
   "cell_type": "markdown",
   "id": "f930dd5c-3ff6-4af2-96f9-c31d56afd3c4",
   "metadata": {},
   "source": [
    "It looks like there are 242 census tracts which aligns with the data sets I have been working with."
   ]
  },
  {
   "cell_type": "code",
   "execution_count": null,
   "id": "d4ef48d2-89e3-4766-8801-a2f4a87a861d",
   "metadata": {},
   "outputs": [],
   "source": [
    "nb.head(5)"
   ]
  },
  {
   "cell_type": "markdown",
   "id": "e5d8f9b9-874a-47d5-ae19-78d8e7b98a77",
   "metadata": {},
   "source": [
    "I will now clean up this data a bit and drop some of the census tracts that correspond to islands with no residents."
   ]
  },
  {
   "cell_type": "code",
   "execution_count": null,
   "id": "36a8a942-6699-4dbe-b4fa-1dbb470c557c",
   "metadata": {},
   "outputs": [],
   "source": [
    "#dropping the Farrollones census tract because it has messed with our maps in the past\n",
    "nb = nb.drop(labels=3, axis=0)"
   ]
  },
  {
   "cell_type": "code",
   "execution_count": null,
   "id": "3d87566c-7e77-4799-abb7-c6a48796016a",
   "metadata": {},
   "outputs": [],
   "source": [
    "nb.shape"
   ]
  },
  {
   "cell_type": "markdown",
   "id": "2c7cbfdc-cf60-48d3-9004-463e585909a7",
   "metadata": {},
   "source": [
    "Ok, it appears the tract was dropped!"
   ]
  },
  {
   "cell_type": "code",
   "execution_count": null,
   "id": "37035ec2-8c76-49d1-8f1b-531f3c083275",
   "metadata": {},
   "outputs": [],
   "source": [
    "#renaming the six columns\n",
    "nb.columns = ['Name',\n",
    "              'Neighborhood', \n",
    "              'Census Tract',\n",
    "              'Supervisor District 2022',\n",
    "              'Data Loaded',\n",
    "              'County Code',\n",
    "              'State Code',\n",
    "              'Supervisor District 2012',\n",
    "              'Data as of',\n",
    "              'Object ID',\n",
    "              'FIPS',\n",
    "              'Geometry',]"
   ]
  },
  {
   "cell_type": "code",
   "execution_count": null,
   "id": "e34a7fc6-39cb-4a45-93d3-abb5d972c79c",
   "metadata": {},
   "outputs": [],
   "source": [
    "#checking that the above function worked\n",
    "nb.head()"
   ]
  },
  {
   "cell_type": "code",
   "execution_count": null,
   "id": "90793d5b-f3eb-435e-ae24-4e9b0a0208fd",
   "metadata": {},
   "outputs": [],
   "source": [
    "# getting a count on how many census tracts are in each neighborhood\n",
    "nb['Neighborhood'].value_counts()"
   ]
  },
  {
   "cell_type": "markdown",
   "id": "f0868ace-3d69-4cb9-9277-ce75dabec8f6",
   "metadata": {},
   "source": [
    "Great, I am excited to see how this overlays with the health indicator data!\n",
    "\n",
    "But before that happend, I need to join this data with the spatial data from 2020 census tracts. Then, I will start to map."
   ]
  },
  {
   "cell_type": "code",
   "execution_count": null,
   "id": "77090bf9-6c2a-4d6a-a829-ea64bbd18496",
   "metadata": {},
   "outputs": [],
   "source": [
    "# bring in the geojson file with census tracts\n",
    "tracts=gpd.read_file('W7 Assignment 3/data/2020CTs.geojson')\n",
    "# see what the data looks like\n",
    "tracts.head()"
   ]
  },
  {
   "cell_type": "code",
   "execution_count": null,
   "id": "3f2e63c3-2aa1-45da-87f6-ba6802371dcb",
   "metadata": {},
   "outputs": [],
   "source": [
    "#seeing how many rows and columns we're working with \n",
    "tracts.shape"
   ]
  },
  {
   "cell_type": "markdown",
   "id": "65a317b0-651c-4fd8-a3d7-84611bc77bd0",
   "metadata": {},
   "source": [
    "This is almost a match with the 241 tracts from the neighborhood data set. But I will pull a bit more info before merging this with the neighborhood data."
   ]
  },
  {
   "cell_type": "code",
   "execution_count": null,
   "id": "a2d6cc3d-acfb-4179-bc5f-09e55d0be42d",
   "metadata": {},
   "outputs": [],
   "source": [
    "tracts.info(5)"
   ]
  },
  {
   "cell_type": "markdown",
   "id": "30b0df82-0b52-40fa-a870-c8c6e6094893",
   "metadata": {},
   "source": [
    "Based on this list of columns, we really only need the census tract number (tractce10) and geometry columns in order to merge the two data sets. Let's move forward with doing so."
   ]
  },
  {
   "cell_type": "code",
   "execution_count": null,
   "id": "4c52b6f4-198c-4f97-985e-b1d18d56344f",
   "metadata": {},
   "outputs": [],
   "source": [
    "tracts = tracts[['tractce','geometry']]\n",
    "tracts.head()"
   ]
  },
  {
   "cell_type": "markdown",
   "id": "9cc4eab5-15f1-4a43-b78f-dd12f74b7a2b",
   "metadata": {},
   "source": [
    "We have the census tract number, but we need a full FIPS code to merge. We'll add '06' for the state of California and '075' for the county of San Francisco to the census tract number as follows."
   ]
  },
  {
   "cell_type": "code",
   "execution_count": null,
   "id": "a410eada-4696-44db-976a-dc5055427c46",
   "metadata": {},
   "outputs": [],
   "source": [
    "# create a FIPS column before merging\n",
    "tracts['FIPS'] ='06' + '075' + tracts['tractce']"
   ]
  },
  {
   "cell_type": "code",
   "execution_count": null,
   "id": "c85e0471-1d9e-401d-858b-889e2b6d3e30",
   "metadata": {},
   "outputs": [],
   "source": [
    "# double check that we have a new and complete FIPS code column\n",
    "tracts.head()"
   ]
  },
  {
   "cell_type": "markdown",
   "id": "f1a319bf-566f-4723-bb00-fa5b385582b8",
   "metadata": {},
   "source": [
    "Great, that worked! Now the FIPS codes will match the structure of the FIPS codes from the other data set which will make it possible to merge the two files."
   ]
  },
  {
   "cell_type": "code",
   "execution_count": null,
   "id": "a45a4c82-59d4-4226-ad07-1c02ce3b1245",
   "metadata": {},
   "outputs": [],
   "source": [
    "# create a new dataframe based on the join, tracts is spatial data so must come first\n",
    "nhoods=tracts.merge(nb,on=\"FIPS\")"
   ]
  },
  {
   "cell_type": "code",
   "execution_count": null,
   "id": "40f63568-e376-4cc8-b234-8c0ae5d85497",
   "metadata": {},
   "outputs": [],
   "source": [
    "nhoods.head(5)"
   ]
  },
  {
   "cell_type": "code",
   "execution_count": null,
   "id": "d4c86ba9-e13b-4d4e-a069-430be85dd261",
   "metadata": {},
   "outputs": [],
   "source": [
    "# define the columns to keep, which include: geometry, FIPS and Neighborhood\n",
    "columns_to_keep = ['geometry',\n",
    "                   'FIPS',\n",
    "                   'Neighborhood']"
   ]
  },
  {
   "cell_type": "code",
   "execution_count": null,
   "id": "12235028-60a8-4f32-ba55-ea7d9269a445",
   "metadata": {},
   "outputs": [],
   "source": [
    "# copy and create a new function, nhoods2, that just displays the defined columns to keep\n",
    "nhoods2 = nhoods[columns_to_keep].copy()\n",
    "nhoods2"
   ]
  },
  {
   "cell_type": "markdown",
   "id": "fe0a4e55-9276-4d9e-a7f1-2b2cd3293bec",
   "metadata": {},
   "source": [
    "This is exactly what we need in order to start mapping our neighborhoods of census tracts! In the next section, I will import the COVID-19 data and then the health insurance data and then map it over the neighborhoods. But first, I want to see what the neighborhoods look like mapped out!"
   ]
  },
  {
   "cell_type": "code",
   "execution_count": null,
   "id": "7389c64f-4c3a-45f9-9c67-1bdc153499c4",
   "metadata": {},
   "outputs": [],
   "source": [
    "#simple plot map with colors\n",
    "nhoods.plot(column='Neighborhood')"
   ]
  },
  {
   "cell_type": "markdown",
   "id": "b634642a-f62f-47bc-8734-ae8bd03d8a65",
   "metadata": {},
   "source": [
    "### COVID-19 DATA ###"
   ]
  },
  {
   "cell_type": "code",
   "execution_count": null,
   "id": "8a64fbd6-0195-4a25-b4fc-9f1e1cdba7dd",
   "metadata": {},
   "outputs": [],
   "source": [
    "# import the data and create it as a new variable\n",
    "COVIDdf = pd.read_csv('W7 Assignment 3/data/COVID-19 Data SF.csv')"
   ]
  },
  {
   "cell_type": "code",
   "execution_count": null,
   "id": "341f040f-fb51-4ad0-9bb7-2fe0463f59f1",
   "metadata": {},
   "outputs": [],
   "source": [
    "COVIDdf.info"
   ]
  },
  {
   "cell_type": "markdown",
   "id": "81281c66-9896-4f0f-95fe-c91a709fc92a",
   "metadata": {},
   "source": [
    "Great news, there are 241 rows AKA 241 census tracts. This matches the neighborhood data!"
   ]
  },
  {
   "cell_type": "code",
   "execution_count": null,
   "id": "e16e2032-d3f9-478c-8cae-807e137ca71c",
   "metadata": {},
   "outputs": [],
   "source": [
    "# check for leading zeros\n",
    "COVIDdf['id'].sample(5)"
   ]
  },
  {
   "cell_type": "code",
   "execution_count": null,
   "id": "5ebdab5d-9194-46e7-a0f8-4ee59bc026a7",
   "metadata": {},
   "outputs": [],
   "source": [
    "# adding leading zeros because I can see this column does not have them\n",
    "COVIDdf = pd.read_csv(\n",
    "    'W7 Assignment 3/data/COVID-19 Data SF.csv',\n",
    "    dtype=\n",
    "    {\n",
    "        'id':str,\n",
    "    }\n",
    ")"
   ]
  },
  {
   "cell_type": "code",
   "execution_count": null,
   "id": "21054221-f0fb-4502-8773-e0247914584d",
   "metadata": {},
   "outputs": [],
   "source": [
    "# making sure leading zeros made it in\n",
    "COVIDdf['id'].sample(5)"
   ]
  },
  {
   "cell_type": "code",
   "execution_count": null,
   "id": "fe2f60d5-a07f-4bdf-b07b-6deed177e41b",
   "metadata": {},
   "outputs": [],
   "source": [
    "COVIDdf.head(5)"
   ]
  },
  {
   "cell_type": "markdown",
   "id": "57350548-e2e9-468f-bcc3-fbf142101c97",
   "metadata": {},
   "source": [
    "Now that the COVID-19 data is uploaded, I will try to merge the COVID-19 data with the neighborhood data. "
   ]
  },
  {
   "cell_type": "code",
   "execution_count": null,
   "id": "250be730-4532-4919-abf5-8d78bc18233f",
   "metadata": {},
   "outputs": [],
   "source": [
    "#renaming the COVID-19 data file column from id to FIPS\n",
    "COVIDdf = COVIDdf.rename(columns={'id': 'FIPS'})"
   ]
  },
  {
   "cell_type": "code",
   "execution_count": null,
   "id": "b451b325-4390-4ca8-8e9d-03577d910e4e",
   "metadata": {},
   "outputs": [],
   "source": [
    "COVIDdf.head(5)"
   ]
  },
  {
   "cell_type": "code",
   "execution_count": null,
   "id": "de6cca4a-b2f2-4259-90af-1babdb16066f",
   "metadata": {},
   "outputs": [],
   "source": [
    "# create a new dataframe based on the join\n",
    "tracts_COVID=nhoods2.merge(COVIDdf,on=\"FIPS\")"
   ]
  },
  {
   "cell_type": "code",
   "execution_count": null,
   "id": "1e87cad3-1179-4b15-8031-76a04db2179d",
   "metadata": {},
   "outputs": [],
   "source": [
    "# what does it look like now?\n",
    "tracts_COVID.head()"
   ]
  },
  {
   "cell_type": "markdown",
   "id": "9139d924-ff89-43a2-8f94-012b24182972",
   "metadata": {},
   "source": [
    "Now I will make a bar chart that shows the 5 census tracts in SF with the highest rate of COVID-19 cases and highest number of COVID-19 deaths."
   ]
  },
  {
   "cell_type": "code",
   "execution_count": null,
   "id": "6ed30420-6f6d-487b-ba08-237e843c4702",
   "metadata": {},
   "outputs": [],
   "source": [
    "COVIDdf=COVIDdf.sort_values(by='rate',ascending = False)"
   ]
  },
  {
   "cell_type": "code",
   "execution_count": null,
   "id": "a39d733d-b55e-4ab5-b28d-795a526e8a24",
   "metadata": {},
   "outputs": [],
   "source": [
    "# creating a bar chart\n",
    "COVIDdf.head(5).plot.barh(x='FIPS',\n",
    "    y='rate', \n",
    "    title='Top 5 Census Tracts in SF with Highest Rate of COVID-19 Cases')"
   ]
  },
  {
   "cell_type": "code",
   "execution_count": null,
   "id": "ffe43e74-c9de-4b04-abb6-2b9149eefdd1",
   "metadata": {},
   "outputs": [],
   "source": [
    "COVIDdf=COVIDdf.sort_values(by='deaths',ascending = False)"
   ]
  },
  {
   "cell_type": "code",
   "execution_count": null,
   "id": "5c7f873d-3331-4c09-a43d-1f51900e7e92",
   "metadata": {},
   "outputs": [],
   "source": [
    "# creating a bar chart\n",
    "COVIDdf.head(5).plot.barh(x='FIPS',\n",
    "    y='deaths', \n",
    "    title='Top 5 Census Tracts in SF with Highest Number of COVID-19 Deaths')"
   ]
  },
  {
   "cell_type": "markdown",
   "id": "0b66e08b-630b-415f-b981-66a1f6e81eb0",
   "metadata": {},
   "source": [
    "### MAPPING ###"
   ]
  },
  {
   "cell_type": "code",
   "execution_count": null,
   "id": "c5cff9bf-b354-4900-9a32-6ec0b827915f",
   "metadata": {},
   "outputs": [],
   "source": [
    "import folium"
   ]
  },
  {
   "cell_type": "code",
   "execution_count": null,
   "id": "b1237c83-5330-460e-ae97-d56c65801e93",
   "metadata": {},
   "outputs": [],
   "source": [
    "# mpaping COVID case count by neighborhood\n",
    "m = folium.Map(location=[37.7,-122.4],\n",
    "zoom_start = 12,\n",
    "tiles='CartoDB positron',\n",
    "attribution='CartoDB')\n",
    "\n",
    "# plot chorpleth over the base map\n",
    "folium.Choropleth(\n",
    "    geo_data=tracts_COVID, # geo data\n",
    "    data=tracts_COVID, # data\n",
    "    key_on='feature.properties.FIPS', # key, or merge column\n",
    "    columns=['FIPS', 'rate'], # [key, value]\n",
    "    fill_color='BuPu',\n",
    "    line_weight=0.1,\n",
    "    fill_opacity=0.8,\n",
    "    line_opacity=0.2, # line opacity (of the border)\n",
    "    legend_name='COVID Rate by Census Tract, SF').add_to(m)\n",
    "\n",
    "# name on the legend color bar\n",
    "m"
   ]
  },
  {
   "cell_type": "code",
   "execution_count": null,
   "id": "cb90aa2a-c557-49ae-b306-8c039c631a5b",
   "metadata": {},
   "outputs": [],
   "source": [
    "# mapping COVID rate by neighborhood\n",
    "m = folium.Map(location=[37.7,-122.4],\n",
    "zoom_start = 12,\n",
    "tiles='CartoDB positron',\n",
    "attribution='CartoDB')\n",
    "\n",
    "# plot chorpleth over the base map\n",
    "folium.Choropleth(\n",
    "    geo_data=tracts_COVID, # geo data\n",
    "    data=tracts_COVID, # data\n",
    "    key_on='feature.properties.FIPS', # key, or merge column\n",
    "    columns=['FIPS', 'count'], # [key, value]\n",
    "    fill_color='BuPu',\n",
    "    line_weight=0.1,\n",
    "    fill_opacity=0.8,\n",
    "    line_opacity=0.2, # line opacity (of the border)\n",
    "    legend_name='COVID Count by Census Tract, SF').add_to(m)\n",
    "\n",
    "# name on the legend color bar\n",
    "m"
   ]
  },
  {
   "cell_type": "markdown",
   "id": "c438b24b-8d68-4426-96df-cd31c6102399",
   "metadata": {},
   "source": [
    "### HEALTH INSURANCE DATA ###"
   ]
  },
  {
   "cell_type": "code",
   "execution_count": null,
   "id": "b387bfe8-ed06-4597-bc8c-583c34fb5c07",
   "metadata": {},
   "outputs": [],
   "source": [
    "# importing health insurance coverage data\n",
    "HIdf = pd.read_csv('W7 Assignment 3/data/Health Insurance.csv')"
   ]
  },
  {
   "cell_type": "code",
   "execution_count": null,
   "id": "1488402e-8c0b-43aa-b59f-a7df5d6a511c",
   "metadata": {},
   "outputs": [],
   "source": [
    "HIdf.shape"
   ]
  },
  {
   "cell_type": "code",
   "execution_count": null,
   "id": "ae0234c6-2bea-4a3f-bbbc-5d7e8584489d",
   "metadata": {},
   "outputs": [],
   "source": []
  }
 ],
 "metadata": {
  "kernelspec": {
   "display_name": "Python 3 (ipykernel)",
   "language": "python",
   "name": "python3"
  },
  "language_info": {
   "codemirror_mode": {
    "name": "ipython",
    "version": 3
   },
   "file_extension": ".py",
   "mimetype": "text/x-python",
   "name": "python",
   "nbconvert_exporter": "python",
   "pygments_lexer": "ipython3",
   "version": "3.10.8"
  }
 },
 "nbformat": 4,
 "nbformat_minor": 5
}
