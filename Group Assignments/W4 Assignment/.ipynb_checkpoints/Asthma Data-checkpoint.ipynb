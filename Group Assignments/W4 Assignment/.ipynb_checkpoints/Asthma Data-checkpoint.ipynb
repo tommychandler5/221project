{
 "cells": [
  {
   "cell_type": "code",
   "execution_count": 1,
   "id": "7ac96a20-0d12-482a-bdbd-be1486145b0f",
   "metadata": {},
   "outputs": [],
   "source": [
    "import pandas as pd"
   ]
  },
  {
   "cell_type": "code",
   "execution_count": 17,
   "id": "ba3e4251-bc0a-4e42-923f-239ff7fc961a",
   "metadata": {},
   "outputs": [],
   "source": [
    "asth = pd.read_csv('data/sf_asthma_data.csv')"
   ]
  },
  {
   "cell_type": "code",
   "execution_count": 18,
   "id": "5086d67d-4e8b-422f-92cc-235ce4fb60c7",
   "metadata": {},
   "outputs": [
    {
     "data": {
      "text/plain": [
       "(195, 7)"
      ]
     },
     "execution_count": 18,
     "metadata": {},
     "output_type": "execute_result"
    }
   ],
   "source": [
    "asth.shape"
   ]
  },
  {
   "cell_type": "code",
   "execution_count": 19,
   "id": "d49c137b-83d1-4853-9367-7c852713e711",
   "metadata": {},
   "outputs": [
    {
     "data": {
      "text/html": [
       "<div>\n",
       "<style scoped>\n",
       "    .dataframe tbody tr th:only-of-type {\n",
       "        vertical-align: middle;\n",
       "    }\n",
       "\n",
       "    .dataframe tbody tr th {\n",
       "        vertical-align: top;\n",
       "    }\n",
       "\n",
       "    .dataframe thead th {\n",
       "        text-align: right;\n",
       "    }\n",
       "</style>\n",
       "<table border=\"1\" class=\"dataframe\">\n",
       "  <thead>\n",
       "    <tr style=\"text-align: right;\">\n",
       "      <th></th>\n",
       "      <th>FIPS</th>\n",
       "      <th>Total Population</th>\n",
       "      <th>ZIP</th>\n",
       "      <th>Longitude</th>\n",
       "      <th>Latitude</th>\n",
       "      <th>Asthma</th>\n",
       "      <th>Asthma Pctl</th>\n",
       "    </tr>\n",
       "  </thead>\n",
       "  <tbody>\n",
       "    <tr>\n",
       "      <th>0</th>\n",
       "      <td>6075023200</td>\n",
       "      <td>3972</td>\n",
       "      <td>94124</td>\n",
       "      <td>-122.386139</td>\n",
       "      <td>37.727755</td>\n",
       "      <td>123.98</td>\n",
       "      <td>96.44</td>\n",
       "    </tr>\n",
       "    <tr>\n",
       "      <th>1</th>\n",
       "      <td>6075017902</td>\n",
       "      <td>3008</td>\n",
       "      <td>94130</td>\n",
       "      <td>-122.419701</td>\n",
       "      <td>37.861948</td>\n",
       "      <td>106.14</td>\n",
       "      <td>94.28</td>\n",
       "    </tr>\n",
       "    <tr>\n",
       "      <th>2</th>\n",
       "      <td>6075023103</td>\n",
       "      <td>2890</td>\n",
       "      <td>94124</td>\n",
       "      <td>-122.375965</td>\n",
       "      <td>37.735632</td>\n",
       "      <td>123.98</td>\n",
       "      <td>96.44</td>\n",
       "    </tr>\n",
       "  </tbody>\n",
       "</table>\n",
       "</div>"
      ],
      "text/plain": [
       "         FIPS  Total Population    ZIP   Longitude   Latitude  Asthma  \\\n",
       "0  6075023200              3972  94124 -122.386139  37.727755  123.98   \n",
       "1  6075017902              3008  94130 -122.419701  37.861948  106.14   \n",
       "2  6075023103              2890  94124 -122.375965  37.735632  123.98   \n",
       "\n",
       "   Asthma Pctl  \n",
       "0        96.44  \n",
       "1        94.28  \n",
       "2        96.44  "
      ]
     },
     "execution_count": 19,
     "metadata": {},
     "output_type": "execute_result"
    }
   ],
   "source": [
    "asth.head(3)"
   ]
  },
  {
   "cell_type": "code",
   "execution_count": 20,
   "id": "82bd7437-769c-445f-b787-3582eab4eb28",
   "metadata": {},
   "outputs": [
    {
     "name": "stdout",
     "output_type": "stream",
     "text": [
      "<class 'pandas.core.frame.DataFrame'>\n",
      "RangeIndex: 195 entries, 0 to 194\n",
      "Data columns (total 7 columns):\n",
      " #   Column            Non-Null Count  Dtype  \n",
      "---  ------            --------------  -----  \n",
      " 0   FIPS              195 non-null    int64  \n",
      " 1   Total Population  195 non-null    int64  \n",
      " 2   ZIP               195 non-null    int64  \n",
      " 3   Longitude         195 non-null    float64\n",
      " 4   Latitude          195 non-null    float64\n",
      " 5   Asthma            195 non-null    float64\n",
      " 6   Asthma Pctl       195 non-null    float64\n",
      "dtypes: float64(4), int64(3)\n",
      "memory usage: 10.8 KB\n"
     ]
    }
   ],
   "source": [
    "asth.info()"
   ]
  },
  {
   "cell_type": "code",
   "execution_count": 21,
   "id": "a4c8cd1d-773c-45ca-a048-3f2bdd8a1b8c",
   "metadata": {},
   "outputs": [],
   "source": [
    "asth = pd.read_csv(\n",
    "    'data/sf_asthma_data.csv',\n",
    "    dtype=\n",
    "    {\n",
    "        'FIPS':str\n",
    "    }\n",
    ")"
   ]
  },
  {
   "cell_type": "code",
   "execution_count": 22,
   "id": "1996d595-e9ee-44d7-9f31-898d7a93574b",
   "metadata": {},
   "outputs": [
    {
     "data": {
      "text/html": [
       "<div>\n",
       "<style scoped>\n",
       "    .dataframe tbody tr th:only-of-type {\n",
       "        vertical-align: middle;\n",
       "    }\n",
       "\n",
       "    .dataframe tbody tr th {\n",
       "        vertical-align: top;\n",
       "    }\n",
       "\n",
       "    .dataframe thead th {\n",
       "        text-align: right;\n",
       "    }\n",
       "</style>\n",
       "<table border=\"1\" class=\"dataframe\">\n",
       "  <thead>\n",
       "    <tr style=\"text-align: right;\">\n",
       "      <th></th>\n",
       "      <th>FIPS</th>\n",
       "      <th>Total Population</th>\n",
       "      <th>ZIP</th>\n",
       "      <th>Longitude</th>\n",
       "      <th>Latitude</th>\n",
       "      <th>Asthma</th>\n",
       "      <th>Asthma Pctl</th>\n",
       "    </tr>\n",
       "  </thead>\n",
       "  <tbody>\n",
       "    <tr>\n",
       "      <th>0</th>\n",
       "      <td>06075023200</td>\n",
       "      <td>3972</td>\n",
       "      <td>94124</td>\n",
       "      <td>-122.386139</td>\n",
       "      <td>37.727755</td>\n",
       "      <td>123.98</td>\n",
       "      <td>96.44</td>\n",
       "    </tr>\n",
       "    <tr>\n",
       "      <th>1</th>\n",
       "      <td>06075017902</td>\n",
       "      <td>3008</td>\n",
       "      <td>94130</td>\n",
       "      <td>-122.419701</td>\n",
       "      <td>37.861948</td>\n",
       "      <td>106.14</td>\n",
       "      <td>94.28</td>\n",
       "    </tr>\n",
       "    <tr>\n",
       "      <th>2</th>\n",
       "      <td>06075023103</td>\n",
       "      <td>2890</td>\n",
       "      <td>94124</td>\n",
       "      <td>-122.375965</td>\n",
       "      <td>37.735632</td>\n",
       "      <td>123.98</td>\n",
       "      <td>96.44</td>\n",
       "    </tr>\n",
       "    <tr>\n",
       "      <th>3</th>\n",
       "      <td>06075023001</td>\n",
       "      <td>5398</td>\n",
       "      <td>94124</td>\n",
       "      <td>-122.401760</td>\n",
       "      <td>37.735192</td>\n",
       "      <td>123.98</td>\n",
       "      <td>96.44</td>\n",
       "    </tr>\n",
       "    <tr>\n",
       "      <th>4</th>\n",
       "      <td>06075023400</td>\n",
       "      <td>3661</td>\n",
       "      <td>94124</td>\n",
       "      <td>-122.390088</td>\n",
       "      <td>37.721593</td>\n",
       "      <td>123.98</td>\n",
       "      <td>96.44</td>\n",
       "    </tr>\n",
       "  </tbody>\n",
       "</table>\n",
       "</div>"
      ],
      "text/plain": [
       "          FIPS  Total Population    ZIP   Longitude   Latitude  Asthma  \\\n",
       "0  06075023200              3972  94124 -122.386139  37.727755  123.98   \n",
       "1  06075017902              3008  94130 -122.419701  37.861948  106.14   \n",
       "2  06075023103              2890  94124 -122.375965  37.735632  123.98   \n",
       "3  06075023001              5398  94124 -122.401760  37.735192  123.98   \n",
       "4  06075023400              3661  94124 -122.390088  37.721593  123.98   \n",
       "\n",
       "   Asthma Pctl  \n",
       "0        96.44  \n",
       "1        94.28  \n",
       "2        96.44  \n",
       "3        96.44  \n",
       "4        96.44  "
      ]
     },
     "execution_count": 22,
     "metadata": {},
     "output_type": "execute_result"
    }
   ],
   "source": [
    "asth.head()"
   ]
  },
  {
   "cell_type": "code",
   "execution_count": 23,
   "id": "fa6a4423-afad-4f6b-a583-91bcf06ca136",
   "metadata": {},
   "outputs": [],
   "source": [
    "# define columns to keep\n",
    "columns_to_keep = ['FIPS',\n",
    "                   'Asthma']"
   ]
  },
  {
   "cell_type": "code",
   "execution_count": 24,
   "id": "8b7891c8-bad1-4355-8e5f-6fcf1f8c2176",
   "metadata": {},
   "outputs": [],
   "source": [
    "#new name and assign value\n",
    "asth2 = pov[columns_to_keep]"
   ]
  },
  {
   "cell_type": "code",
   "execution_count": 26,
   "id": "16917ad4-b3aa-44df-80bc-5ada5cc62ee4",
   "metadata": {},
   "outputs": [
    {
     "name": "stdout",
     "output_type": "stream",
     "text": [
      "<class 'pandas.core.frame.DataFrame'>\n",
      "RangeIndex: 195 entries, 0 to 194\n",
      "Data columns (total 2 columns):\n",
      " #   Column  Non-Null Count  Dtype  \n",
      "---  ------  --------------  -----  \n",
      " 0   FIPS    195 non-null    object \n",
      " 1   Asthma  195 non-null    float64\n",
      "dtypes: float64(1), object(1)\n",
      "memory usage: 3.2+ KB\n"
     ]
    }
   ],
   "source": [
    "asth2.info()"
   ]
  },
  {
   "cell_type": "code",
   "execution_count": 27,
   "id": "105b86a8-90e1-4948-9060-a4eba66d5a48",
   "metadata": {},
   "outputs": [
    {
     "data": {
      "text/html": [
       "<div>\n",
       "<style scoped>\n",
       "    .dataframe tbody tr th:only-of-type {\n",
       "        vertical-align: middle;\n",
       "    }\n",
       "\n",
       "    .dataframe tbody tr th {\n",
       "        vertical-align: top;\n",
       "    }\n",
       "\n",
       "    .dataframe thead th {\n",
       "        text-align: right;\n",
       "    }\n",
       "</style>\n",
       "<table border=\"1\" class=\"dataframe\">\n",
       "  <thead>\n",
       "    <tr style=\"text-align: right;\">\n",
       "      <th></th>\n",
       "      <th>FIPS</th>\n",
       "      <th>Asthma</th>\n",
       "    </tr>\n",
       "  </thead>\n",
       "  <tbody>\n",
       "    <tr>\n",
       "      <th>163</th>\n",
       "      <td>06075013102</td>\n",
       "      <td>24.04</td>\n",
       "    </tr>\n",
       "    <tr>\n",
       "      <th>12</th>\n",
       "      <td>06075025702</td>\n",
       "      <td>64.46</td>\n",
       "    </tr>\n",
       "  </tbody>\n",
       "</table>\n",
       "</div>"
      ],
      "text/plain": [
       "            FIPS  Asthma\n",
       "163  06075013102   24.04\n",
       "12   06075025702   64.46"
      ]
     },
     "execution_count": 27,
     "metadata": {},
     "output_type": "execute_result"
    }
   ],
   "source": [
    "asth2.sample(2)"
   ]
  },
  {
   "cell_type": "code",
   "execution_count": 29,
   "id": "58bc407a-cf31-409e-89d5-b32788a9079d",
   "metadata": {},
   "outputs": [
    {
     "data": {
      "text/plain": [
       "43.814"
      ]
     },
     "execution_count": 29,
     "metadata": {},
     "output_type": "execute_result"
    }
   ],
   "source": [
    "#find the mean \n",
    "asth2['Asthma'].mean()"
   ]
  },
  {
   "cell_type": "code",
   "execution_count": 30,
   "id": "acbcf532-8dbe-4791-ae61-50a29d4716bc",
   "metadata": {},
   "outputs": [
    {
     "data": {
      "text/plain": [
       "37.86"
      ]
     },
     "execution_count": 30,
     "metadata": {},
     "output_type": "execute_result"
    }
   ],
   "source": [
    "#find the median \n",
    "asth2['Asthma'].median()"
   ]
  },
  {
   "cell_type": "code",
   "execution_count": 31,
   "id": "27cd86a6-7037-4ac8-9d80-73f4ee3a6717",
   "metadata": {},
   "outputs": [
    {
     "data": {
      "text/plain": [
       "count    195.000000\n",
       "mean      43.814000\n",
       "std       25.808798\n",
       "min       13.340000\n",
       "25%       24.990000\n",
       "50%       37.860000\n",
       "75%       54.750000\n",
       "max      123.980000\n",
       "Name: Asthma, dtype: float64"
      ]
     },
     "execution_count": 31,
     "metadata": {},
     "output_type": "execute_result"
    }
   ],
   "source": [
    "#now get a quick stats summary\n",
    "asth2['Asthma'].describe()"
   ]
  },
  {
   "cell_type": "code",
   "execution_count": 32,
   "id": "78cdeb65-a3a6-4ace-9168-d73f5243e205",
   "metadata": {},
   "outputs": [
    {
     "data": {
      "text/plain": [
       "<AxesSubplot: ylabel='Frequency'>"
      ]
     },
     "execution_count": 32,
     "metadata": {},
     "output_type": "execute_result"
    },
    {
     "data": {
      "image/png": "[encoded data removed]",
      "text/plain": [
       "<Figure size 640x480 with 1 Axes>"
      ]
     },
     "metadata": {},
     "output_type": "display_data"
    }
   ],
   "source": [
    "# start by ploting it as a historgram with 10 bins\n",
    "asth2['Asthma'].plot.hist(bins=10)"
   ]
  },
  {
   "cell_type": "code",
   "execution_count": 33,
   "id": "e7bbdf9c-cef9-400c-a5b8-896f8a001216",
   "metadata": {},
   "outputs": [],
   "source": [
    "asth_sorted = asth2.sort_values(by='Asthma',ascending = True)"
   ]
  },
  {
   "cell_type": "code",
   "execution_count": 34,
   "id": "6fa79cf6-5fda-4d1a-b7a0-2a1ab8a0e32f",
   "metadata": {},
   "outputs": [
    {
     "data": {
      "text/html": [
       "<div>\n",
       "<style scoped>\n",
       "    .dataframe tbody tr th:only-of-type {\n",
       "        vertical-align: middle;\n",
       "    }\n",
       "\n",
       "    .dataframe tbody tr th {\n",
       "        vertical-align: top;\n",
       "    }\n",
       "\n",
       "    .dataframe thead th {\n",
       "        text-align: right;\n",
       "    }\n",
       "</style>\n",
       "<table border=\"1\" class=\"dataframe\">\n",
       "  <thead>\n",
       "    <tr style=\"text-align: right;\">\n",
       "      <th></th>\n",
       "      <th>FIPS</th>\n",
       "      <th>Asthma</th>\n",
       "    </tr>\n",
       "  </thead>\n",
       "  <tbody>\n",
       "    <tr>\n",
       "      <th>187</th>\n",
       "      <td>06075060100</td>\n",
       "      <td>13.34</td>\n",
       "    </tr>\n",
       "    <tr>\n",
       "      <th>160</th>\n",
       "      <td>06075012800</td>\n",
       "      <td>14.01</td>\n",
       "    </tr>\n",
       "    <tr>\n",
       "      <th>183</th>\n",
       "      <td>06075012901</td>\n",
       "      <td>14.46</td>\n",
       "    </tr>\n",
       "  </tbody>\n",
       "</table>\n",
       "</div>"
      ],
      "text/plain": [
       "            FIPS  Asthma\n",
       "187  06075060100   13.34\n",
       "160  06075012800   14.01\n",
       "183  06075012901   14.46"
      ]
     },
     "execution_count": 34,
     "metadata": {},
     "output_type": "execute_result"
    }
   ],
   "source": [
    "asth_sorted[['FIPS','Asthma']].head(3)"
   ]
  },
  {
   "cell_type": "code",
   "execution_count": 36,
   "id": "62a20ae5-f79f-453a-8b3d-e6ae602e026d",
   "metadata": {},
   "outputs": [],
   "source": [
    "asth_sorted = asth2.sort_values(by='Asthma',ascending = False)"
   ]
  },
  {
   "cell_type": "code",
   "execution_count": 37,
   "id": "95c13055-30ec-493e-8ac2-8e611a936e9f",
   "metadata": {},
   "outputs": [
    {
     "data": {
      "text/html": [
       "<div>\n",
       "<style scoped>\n",
       "    .dataframe tbody tr th:only-of-type {\n",
       "        vertical-align: middle;\n",
       "    }\n",
       "\n",
       "    .dataframe tbody tr th {\n",
       "        vertical-align: top;\n",
       "    }\n",
       "\n",
       "    .dataframe thead th {\n",
       "        text-align: right;\n",
       "    }\n",
       "</style>\n",
       "<table border=\"1\" class=\"dataframe\">\n",
       "  <thead>\n",
       "    <tr style=\"text-align: right;\">\n",
       "      <th></th>\n",
       "      <th>FIPS</th>\n",
       "      <th>Asthma</th>\n",
       "    </tr>\n",
       "  </thead>\n",
       "  <tbody>\n",
       "    <tr>\n",
       "      <th>0</th>\n",
       "      <td>06075023200</td>\n",
       "      <td>123.98</td>\n",
       "    </tr>\n",
       "    <tr>\n",
       "      <th>2</th>\n",
       "      <td>06075023103</td>\n",
       "      <td>123.98</td>\n",
       "    </tr>\n",
       "    <tr>\n",
       "      <th>3</th>\n",
       "      <td>06075023001</td>\n",
       "      <td>123.98</td>\n",
       "    </tr>\n",
       "  </tbody>\n",
       "</table>\n",
       "</div>"
      ],
      "text/plain": [
       "          FIPS  Asthma\n",
       "0  06075023200  123.98\n",
       "2  06075023103  123.98\n",
       "3  06075023001  123.98"
      ]
     },
     "execution_count": 37,
     "metadata": {},
     "output_type": "execute_result"
    }
   ],
   "source": [
    "asth_sorted[['FIPS','Asthma']].head(3)"
   ]
  },
  {
   "cell_type": "markdown",
   "id": "18c2d2f3-716e-4f8c-a360-2552904b8aba",
   "metadata": {},
   "source": [
    "All three of the above tracts are located next to each other in BVHP"
   ]
  },
  {
   "cell_type": "code",
   "execution_count": 38,
   "id": "9b378a23-7a06-4abc-bcbc-98261207fa37",
   "metadata": {},
   "outputs": [
    {
     "data": {
      "text/plain": [
       "<AxesSubplot: xlabel='FIPS'>"
      ]
     },
     "execution_count": 38,
     "metadata": {},
     "output_type": "execute_result"
    },
    {
     "data": {
      "image/png": "[encoded data removed]",
      "text/plain": [
       "<Figure size 640x480 with 1 Axes>"
      ]
     },
     "metadata": {},
     "output_type": "display_data"
    }
   ],
   "source": [
    "# plot it\n",
    "asth_sorted.head(5).plot.bar(x='FIPS',\n",
    "                            y='Asthma')"
   ]
  },
  {
   "cell_type": "code",
   "execution_count": 39,
   "id": "cba30504-7543-46e4-8e7a-46eca2c3cf19",
   "metadata": {},
   "outputs": [
    {
     "data": {
      "text/plain": [
       "<AxesSubplot: title={'center': 'SF Census Tracts with the Highest Asthma Rates'}, ylabel='FIPS'>"
      ]
     },
     "execution_count": 39,
     "metadata": {},
     "output_type": "execute_result"
    },
    {
     "data": {
      "image/png": "[encoded data removed]",
      "text/plain": [
       "<Figure size 640x480 with 1 Axes>"
      ]
     },
     "metadata": {},
     "output_type": "display_data"
    }
   ],
   "source": [
    "# we can make the bar chart look a bit prettier\n",
    "asth_sorted.head(5).plot.barh(x='FIPS',\n",
    "                            y='Asthma', \n",
    "                            title='SF Census Tracts with the Highest Asthma Rates',\n",
    "                            color='pink')"
   ]
  },
  {
   "cell_type": "code",
   "execution_count": 40,
   "id": "cd3c4a40-5d0b-405e-b129-66d3089c960d",
   "metadata": {},
   "outputs": [
    {
     "data": {
      "text/html": [
       "<div>\n",
       "<style scoped>\n",
       "    .dataframe tbody tr th:only-of-type {\n",
       "        vertical-align: middle;\n",
       "    }\n",
       "\n",
       "    .dataframe tbody tr th {\n",
       "        vertical-align: top;\n",
       "    }\n",
       "\n",
       "    .dataframe thead th {\n",
       "        text-align: right;\n",
       "    }\n",
       "</style>\n",
       "<table border=\"1\" class=\"dataframe\">\n",
       "  <thead>\n",
       "    <tr style=\"text-align: right;\">\n",
       "      <th></th>\n",
       "      <th>FIPS</th>\n",
       "      <th>Asthma</th>\n",
       "    </tr>\n",
       "  </thead>\n",
       "  <tbody>\n",
       "    <tr>\n",
       "      <th>0</th>\n",
       "      <td>06075023200</td>\n",
       "      <td>123.98</td>\n",
       "    </tr>\n",
       "    <tr>\n",
       "      <th>1</th>\n",
       "      <td>06075017902</td>\n",
       "      <td>106.14</td>\n",
       "    </tr>\n",
       "    <tr>\n",
       "      <th>2</th>\n",
       "      <td>06075023103</td>\n",
       "      <td>123.98</td>\n",
       "    </tr>\n",
       "    <tr>\n",
       "      <th>3</th>\n",
       "      <td>06075023001</td>\n",
       "      <td>123.98</td>\n",
       "    </tr>\n",
       "    <tr>\n",
       "      <th>4</th>\n",
       "      <td>06075023400</td>\n",
       "      <td>123.98</td>\n",
       "    </tr>\n",
       "    <tr>\n",
       "      <th>5</th>\n",
       "      <td>06075023102</td>\n",
       "      <td>123.98</td>\n",
       "    </tr>\n",
       "    <tr>\n",
       "      <th>6</th>\n",
       "      <td>06075980600</td>\n",
       "      <td>123.98</td>\n",
       "    </tr>\n",
       "    <tr>\n",
       "      <th>7</th>\n",
       "      <td>06075023300</td>\n",
       "      <td>123.98</td>\n",
       "    </tr>\n",
       "    <tr>\n",
       "      <th>8</th>\n",
       "      <td>06075061200</td>\n",
       "      <td>123.98</td>\n",
       "    </tr>\n",
       "    <tr>\n",
       "      <th>13</th>\n",
       "      <td>06075023003</td>\n",
       "      <td>123.98</td>\n",
       "    </tr>\n",
       "    <tr>\n",
       "      <th>83</th>\n",
       "      <td>06075016200</td>\n",
       "      <td>108.90</td>\n",
       "    </tr>\n",
       "  </tbody>\n",
       "</table>\n",
       "</div>"
      ],
      "text/plain": [
       "           FIPS  Asthma\n",
       "0   06075023200  123.98\n",
       "1   06075017902  106.14\n",
       "2   06075023103  123.98\n",
       "3   06075023001  123.98\n",
       "4   06075023400  123.98\n",
       "5   06075023102  123.98\n",
       "6   06075980600  123.98\n",
       "7   06075023300  123.98\n",
       "8   06075061200  123.98\n",
       "13  06075023003  123.98\n",
       "83  06075016200  108.90"
      ]
     },
     "execution_count": 40,
     "metadata": {},
     "output_type": "execute_result"
    }
   ],
   "source": [
    "asth2[asth2['Asthma']>100]"
   ]
  },
  {
   "cell_type": "code",
   "execution_count": null,
   "id": "f0a12fb2-362f-4aee-b351-10e8b87be8dc",
   "metadata": {},
   "outputs": [],
   "source": []
  }
 ],
 "metadata": {
  "kernelspec": {
   "display_name": "Python 3 (ipykernel)",
   "language": "python",
   "name": "python3"
  },
  "language_info": {
   "codemirror_mode": {
    "name": "ipython",
    "version": 3
   },
   "file_extension": ".py",
   "mimetype": "text/x-python",
   "name": "python",
   "nbconvert_exporter": "python",
   "pygments_lexer": "ipython3",
   "version": "3.10.8"
  }
 },
 "nbformat": 4,
 "nbformat_minor": 5
}
