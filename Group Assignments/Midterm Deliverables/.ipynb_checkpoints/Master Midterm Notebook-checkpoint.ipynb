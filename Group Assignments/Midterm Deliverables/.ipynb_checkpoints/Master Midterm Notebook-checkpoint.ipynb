{
 "cells": [
  {
   "cell_type": "markdown",
   "id": "cfcc97dc-db4b-4719-9fd2-bb49c9c9f138",
   "metadata": {},
   "source": [
    "# A Legacy of Racism, Redlining & Health Inequities in San Francisco \n",
    "\n",
    "### Team Code & Cry\n",
    "DaYoung Lee, Quinn Haaga, Tommy Chandler & Rachel Kovinsky"
   ]
  },
  {
   "cell_type": "markdown",
   "id": "3bb3c855-c813-4762-96f7-033745a06bc5",
   "metadata": {},
   "source": [
    "### Intro & Research Question"
   ]
  },
  {
   "cell_type": "markdown",
   "id": "0cacc356-d5fa-43b5-ae6b-139c630c69ed",
   "metadata": {},
   "source": [
    "Since its inception in the 1930s, the practice of redlining has impacted the quality of life in cities across the country. By labeling certain neighborhoods as “hazardous” and deeming them as less than, the HOLC's redlining maps willingly enabled decades of discrimination, disinvestment, and neglect of primarily non-white communities. Today, the impact of redlining continues to be seen and felt in many communities, and San Francisco is no exception. \n",
    "\n",
    "Redlining has gained increasing prominence in U.S. housing discourse, but the lasting implications of this practice go far beyond home ownership and intergenerational wealth. As such, our final project will examine the relationship between historic redlining practices and current health disparities within the context of San Francisco. Specifically, we want to examine the correlation between the areas that were deemed as “hazardous” and the potentially negative health outcomes experienced in those areas today, including asthma rates and COVID-related deaths. Our research will be guided by the larger question: is there a relationship between historically redlined areas in San Francisco and current health disparities? Further, how did redlining in the 1930s intersect within environmental injustices in the decades that follow?"
   ]
  },
  {
   "cell_type": "markdown",
   "id": "5ab95a2d-6eb7-4e15-89e9-97063c0c59c7",
   "metadata": {},
   "source": [
    "### Project Links"
   ]
  },
  {
   "cell_type": "markdown",
   "id": "4afee507-165d-4fe7-9680-29631403d343",
   "metadata": {},
   "source": [
    "Link to Project Proposal\n",
    "\n",
    "Link to Project Presentation \n",
    "\n",
    "Link to notebook on asthma rates\n",
    "\n",
    "Link to notebook on covid data\n",
    "\n",
    "Link to notebook on land use and zoning\n",
    "\n",
    "Link to notebook on poverty rates"
   ]
  },
  {
   "cell_type": "markdown",
   "id": "2a60be7f-d22d-4d03-87b1-0000e0a60320",
   "metadata": {},
   "source": [
    "### Division of Labor\n",
    "\n",
    "DaYoung: finding and analyzing data on asthma rates and hospitalizations, by census tract\n",
    "\n",
    "Quinn: taking deep dive into COVID-19 data to determine what metrics and sources are the best indicator of larger health inequities\n",
    "\n",
    "Tommy: researching zoning & analyzing land-use across San Francisco; also responsible for posting and updating the repo on a weekly basis, as needed\n",
    "\n",
    "Rachel: finding and analyzing data on poverty rates by census tract; also cleaning and compiling redlining data and shapefiles from the Mapping Inequality project"
   ]
  },
  {
   "cell_type": "code",
   "execution_count": null,
   "id": "fa9a5a14-7f47-4360-8173-9dc3e992643f",
   "metadata": {},
   "outputs": [],
   "source": []
  }
 ],
 "metadata": {
  "kernelspec": {
   "display_name": "Python 3 (ipykernel)",
   "language": "python",
   "name": "python3"
  },
  "language_info": {
   "codemirror_mode": {
    "name": "ipython",
    "version": 3
   },
   "file_extension": ".py",
   "mimetype": "text/x-python",
   "name": "python",
   "nbconvert_exporter": "python",
   "pygments_lexer": "ipython3",
   "version": "3.10.8"
  }
 },
 "nbformat": 4,
 "nbformat_minor": 5
}
