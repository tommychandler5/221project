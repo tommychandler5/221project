{
 "cells": [
  {
   "cell_type": "markdown",
   "id": "cfcc97dc-db4b-4719-9fd2-bb49c9c9f138",
   "metadata": {},
   "source": [
    "# A Legacy of Racism, Redlining & Health Inequities in San Francisco \n",
    "\n",
    "### Team Code & Cry\n",
    "Tommy Chandler, Quinn Haaga, Rachel Kovinsky & DaYoung Lee "
   ]
  },
  {
   "cell_type": "markdown",
   "id": "3bb3c855-c813-4762-96f7-033745a06bc5",
   "metadata": {},
   "source": [
    "### Introduction & Research Question"
   ]
  },
  {
   "cell_type": "markdown",
   "id": "0cacc356-d5fa-43b5-ae6b-139c630c69ed",
   "metadata": {},
   "source": [
    "Since its inception in the 1930s, redlining has shaped the built environment of cities across the country. With color-coded maps and a grading system that ranked neighborhoods according to risk, the Home Owners' Loan Corporation (HOLC) institutionalized a system of discrimination and disinvestment that primarily targeted low-income communities of color. Today, the lasting impacts of this practice continue to be felt in over 200 U.S. cities and towns, and San Francisco is no exception.\n",
    "\n",
    "In recent years, redlining has gained increasing prominence in local housing discourse – but the lasting implications of this practice go far beyond home ownership and intergenerational wealth. Our final project accordingly examines the relationship between historic redlining practices and current health disparities in San Francisco. We assess this relationship by contextualizing redlined areas in relation to the health outcomes experienced in those neighborhoods today. We additionally conducted research into land use trends and zoning, built a comprehensive health index and analyzed access to healthcare in neighborhoods across San Francisco. \n",
    "\n",
    "In a greater sense, our research has been guided by the following questions: is there a relationship between historically redlined areas and current health disparities in San Francisco? What can redlining practices from the 1930s reveal about current issues of environmental injustice and health inequity? What are the implications of these findings for future policies and planning decisions? "
   ]
  },
  {
   "cell_type": "markdown",
   "id": "5ab95a2d-6eb7-4e15-89e9-97063c0c59c7",
   "metadata": {},
   "source": [
    "### Project Links"
   ]
  },
  {
   "cell_type": "markdown",
   "id": "4afee507-165d-4fe7-9680-29631403d343",
   "metadata": {},
   "source": [
    "[Link to Final Presentation](https://docs.google.com/presentation/d/1PuFynkYMGrOOzXmFjt6iL3N4DkhzhxEbbGXH526x2Vs/edit?usp=sharing)\n",
    "\n",
    "[Link to Project Proposal](https://github.com/tommychandler5/221project)\n",
    "\n",
    "\n",
    "Notebook on 2010 neighborhood boundaries: [github](https://github.com/tommychandler5/221project/blob/main/Group%20Assignments/Final%20Deliverables%20/2010%20SF%20Census%20Tracts%20to%20Neighborhoods.ipynb) | [jupyter](https://jupyter.idre.ucla.edu/hub/user-redirect/lab/tree/221project/Group%20Assignments/Final%20Deliverables%20/2010%20SF%20Census%20Tracts%20to%20Neighborhoods.ipynb)\n",
    "\n",
    "Notebook on 2020 neighborhood boundaries: [github](https://github.com/tommychandler5/221project/blob/main/Group%20Assignments/Final%20Deliverables%20/2020%20SF%20Census%20Tracts%20to%20Neighborhoods.ipynb) | [jupyter](https://jupyter.idre.ucla.edu/hub/user-redirect/lab/tree/221project/Group%20Assignments/Final%20Deliverables%20/2020%20SF%20Census%20Tracts%20to%20Neighborhoods.ipynb)\n",
    "\n",
    "Notebook on redlining/residential security map of SF: [github](https://github.com/tommychandler5/221project/blob/main/Group%20Assignments/Final%20Deliverables%20/Historic%20Redlining%20Map.ipynb) | [jupyter](https://jupyter.idre.ucla.edu/hub/user-redirect/lab/tree/221project/Group%20Assignments/Final%20Deliverables%20/Historic%20Redlining%20Map.ipynb)\n",
    "\n",
    "\n",
    "Notebook on land use and zoning: [github](https://github.com/tommychandler5/221project/blob/main/Group%20Assignments/Final%20Deliverables%20/Zoning%20and%20Land%20Use.ipynb) | [jupyter](https://jupyter.idre.ucla.edu/hub/user-redirect/lab/tree/221project/Group%20Assignments/Final%20Deliverables%20/Final%20Zoning%20and%20Land%20Use.ipynb)\n",
    "\n",
    "\n",
    "Notebook on health index: [github](https://github.com/tommychandler5/221project/blob/main/Group%20Assignments/Final%20Deliverables%20/Health%20Index.ipynb) | [jupyter](https://jupyter.idre.ucla.edu/hub/user-redirect/lab/tree/221project/Group%20Assignments/Final%20Deliverables%20/Health%20Index.ipynb)\n",
    "\n",
    "\n",
    "Notebook on health equity: [github](https://github.com/tommychandler5/221project/blob/main/Group%20Assignments/Final%20Deliverables%20/Health%20Equity.ipynb)| [jupyter](https://jupyter.idre.ucla.edu/hub/user-redirect/lab/tree/221project/Group%20Assignments/Final%20Deliverables%20/Health%20Equity.ipynbb\\)"
   ]
  },
  {
   "cell_type": "markdown",
   "id": "94dc0e7f-0d76-418c-839e-ed515c4e4cb7",
   "metadata": {},
   "source": [
    "### Data Sources\n",
    "\n",
    "Throughout our project, we rely on the following sources for data: \n",
    "\n",
    "• [CalEnviroScreen](https://oehha.ca.gov/calenviroscreen) for all health data compiled within the health index – all of which was based on 2015-2019 ACS data, corresponding to 2010 census boundaries\n",
    "\n",
    "• [DataSF](https://datasf.org/opendata/) for the 2010 and 2020 neighborhood analysis boundaries, land use and zoning information, health insurance coverage, COVID-19 outcomes and current hospital locations\n",
    "\n",
    "• [The Mapping Inequality Project](https://dsl.richmond.edu/panorama/redlining/#loc=5/39.1/-94.58) for high-quality digital scans of the original HOLC redlining maps, as well as shapefiles that identify the boundaries of redlined areas in San Francisco and fit them to 2010 and 2020 census tract boundaries \n"
   ]
  },
  {
   "cell_type": "markdown",
   "id": "2a60be7f-d22d-4d03-87b1-0000e0a60320",
   "metadata": {},
   "source": [
    "### Division of Labor\n",
    "\n",
    "Tommy Chandler: Researched zoning regulations and analyzed land use across San Francisco, paying particular attention to industrial areas. Created all maps, charts, and analysis within the 'Land Use & Zoning' notebook.\n",
    "\n",
    "Quinn Haaga: Sourced, researched and analyzed all hospital, healthcare, and COVID-19 related data within the 'Health Equity' notebook.\n",
    "\n",
    "Rachel Kovinsky: Organized the project outline, sourced data, and created three foundational notebooks (‘2010 SF Census Tracts to Neighborhoods,’ ‘2020 SF Census Tracts to Neighborhoods,’ and ‘Historic Redlining Maps’) to create a baseline for shared geography and neighborhood boundaries that were used across other notebooks and visualizations. \n",
    "\n",
    "DaYoung Lee: Compiled and cleaned theCalEnviroScreen data to create the comprehensive Health Index and all visualizations within the ‘Health Index’ notebook.\n",
    "\n",
    "All four group members met regularly to organize information, share findings, assign tasks, and evenly distribute the workload."
   ]
  },
  {
   "cell_type": "code",
   "execution_count": null,
   "id": "fa9a5a14-7f47-4360-8173-9dc3e992643f",
   "metadata": {},
   "outputs": [],
   "source": []
  }
 ],
 "metadata": {
  "kernelspec": {
   "display_name": "Python 3 (ipykernel)",
   "language": "python",
   "name": "python3"
  },
  "language_info": {
   "codemirror_mode": {
    "name": "ipython",
    "version": 3
   },
   "file_extension": ".py",
   "mimetype": "text/x-python",
   "name": "python",
   "nbconvert_exporter": "python",
   "pygments_lexer": "ipython3",
   "version": "3.10.8"
  }
 },
 "nbformat": 4,
 "nbformat_minor": 5
}
