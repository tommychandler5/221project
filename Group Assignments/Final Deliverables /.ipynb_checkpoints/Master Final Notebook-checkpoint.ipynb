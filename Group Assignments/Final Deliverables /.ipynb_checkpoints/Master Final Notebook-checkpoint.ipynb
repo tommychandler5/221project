{
 "cells": [
  {
   "cell_type": "markdown",
   "id": "cfcc97dc-db4b-4719-9fd2-bb49c9c9f138",
   "metadata": {},
   "source": [
    "# A Legacy of Racism, Redlining & Health Inequities in San Francisco \n",
    "\n",
    "### Team Code & Cry\n",
    "Tommy Chandler, Quinn Haaga, Rachel Kovinsky & DaYoung Lee "
   ]
  },
  {
   "cell_type": "markdown",
   "id": "3bb3c855-c813-4762-96f7-033745a06bc5",
   "metadata": {},
   "source": [
    "### Introduction & Research Question"
   ]
  },
  {
   "cell_type": "markdown",
   "id": "0cacc356-d5fa-43b5-ae6b-139c630c69ed",
   "metadata": {},
   "source": [
    "Since its inception in the 1930s, redlining has dictated the quality of life for communities across the country. By labeling certain neighborhoods as “hazardous” and grading them accordingly, the HOLC's infamous redlining maps enabled decades of discrimination, disinvestment, and neglect of primarily non-white and low-income communities. Today, the impacts of this practice continue to be seen and felt in many cities, and San Francisco is no exception. \n",
    "\n",
    "While redlining has gained increasing prominence in U.S. housing discourse, its lasting implications go far beyond home ownership and intergenerational wealth. Accordingly, our final project seeks to examine the relationship between historic redlining practices and current health disparities within the context of San Francisco. Specifically, we will examine any correlations between the areas that were previously deemed as “hazardous” on the HOLC maps and the potentially negative health outcomes that are experienced in those areas today. To do so, we'll investigate land use trends, build a comprehensive health index, assess COVID-19 rates, and analyze access to health care in neighborhoods across San Francisco.  \n",
    "\n",
    "In a greater sense, our research will be guided by the larger question: is there a relationship between historically redlined areas and current health disparities in San Francisco? Further, how does redlining intersect with current of environmental injustice and health inequity?"
   ]
  },
  {
   "cell_type": "markdown",
   "id": "5ab95a2d-6eb7-4e15-89e9-97063c0c59c7",
   "metadata": {},
   "source": [
    "### Project Links"
   ]
  },
  {
   "cell_type": "markdown",
   "id": "4afee507-165d-4fe7-9680-29631403d343",
   "metadata": {},
   "source": [
    "[Link to Final Presentation](https://docs.google.com/presentation/d/1PuFynkYMGrOOzXmFjt6iL3N4DkhzhxEbbGXH526x2Vs/edit?usp=sharing)\n",
    "\n",
    "[Link to Project Proposal](https://github.com/tommychandler5/221project)\n",
    "\n",
    "\n",
    "Notebook on 2010 neighborhood boundaries: [github](https://github.com/tommychandler5/221project/blob/main/Group%20Assignments/W7%20Assignment%203/2010%20SF%20Census%20Tracts%20to%20Neighborhoods.ipynb) | [jupyter](https://jupyter.idre.ucla.edu/hub/user-redirect/lab/tree/221project/Group%20Assignments/Final%20Deliverables%20/2010%20SF%20Census%20Tracts%20to%20Neighborhoods.ipynb)\n",
    "\n",
    "Notebook on 2020 neighborhood boundaries: [github](https://github.com/tommychandler5/221project/blob/main/Group%20Assignments/W7%20Assignment%203/2020%20SF%20Census%20Tracts%20to%20Neighborhoods.ipynb) | [jupyter](https://jupyter.idre.ucla.edu/hub/user-redirect/lab/tree/221project/Group%20Assignments/Final%20Deliverables%20/2020%20SF%20Census%20Tracts%20to%20Neighborhoods.ipynb)\n",
    "\n",
    "Notebook on historic redlining maps: [github](https://github.com/tommychandler5/221project/blob/main/Group%20Assignments/W7%20Assignment%203/Historic%20Redlining%20Map.ipynb) | [jupyter](https://jupyter.idre.ucla.edu/hub/user-redirect/lab/tree/221project/Group%20Assignments/Final%20Deliverables%20/Historic%20Redlining%20Map.ipynb)\n",
    "\n",
    "\n",
    "Notebook on land use and zoning: [github](https://github.com/tommychandler5/up221-tommy/blob/9f0ef50b52791379ae85bd3fbe7121ddfeb2e2ce/Week%207/W7_Zoning%20and%20Land%20Use.ipynb) | [jupyter](https://jupyter.idre.ucla.edu/hub/user-redirect/lab/tree/up221-tommy/Week%207/W7_Zoning%20and%20Land%20Use.ipynb)\n",
    "\n",
    "\n",
    "Notebook on health index: [github](https://github.com/tommychandler5/221project/blob/main/Group%20Assignments/W7%20Assignment%203/Health%20Index.ipynb) | [jupyter](https://jupyter.idre.ucla.edu/hub/user-redirect/lab/tree/221project/Group%20Assignments/Final%20Deliverables%20/Health%20Index.ipynb)\n",
    "\n",
    "\n",
    "Notebook on health equity and access to healthcare: [github](https://github.com/tommychandler5/221project/blob/main/Group%20Assignments/W7%20Assignment%203/Health%20Equity.ipynb)| [jupyter](https://jupyter.idre.ucla.edu/hub/user-redirect/lab/tree/221project/Group%20Assignments/Final%20Deliverables%20/Health%20Equity.ipynb)"
   ]
  },
  {
   "cell_type": "markdown",
   "id": "94dc0e7f-0d76-418c-839e-ed515c4e4cb7",
   "metadata": {},
   "source": [
    "### Data Sources\n",
    "\n",
    "Throughout our project, we primarily rely on the following sources for data: \n",
    "\n",
    "• [CalEnviroScreen](https://oehha.ca.gov/calenviroscreen) for all health indicator data used within the health index\n",
    "\n",
    "• [DataSF](https://datasf.org/opendata/) for data on COVID-19 outcomes, health insurance coverage, neighborhood boundaries, and land use/zoning\n",
    "\n",
    "• [The Mapping Inequality Project](https://dsl.richmond.edu/panorama/redlining/#loc=5/39.1/-94.58) for high-quality scans and images of historic redlining maps, as well as shapefiles for the boundaries of redlined areas"
   ]
  },
  {
   "cell_type": "markdown",
   "id": "2a60be7f-d22d-4d03-87b1-0000e0a60320",
   "metadata": {},
   "source": [
    "### Division of Labor\n",
    "\n",
    "DaYoung: cleaned and compiled CalEnviroScreen data into a health index, and created the 'Health Indices' notebook with maps to analyze this index\n",
    "\n",
    "Quinn: sourced and analyzed hospital, healthcare, and COVID-19 data within the 'Health Equity' notebook\n",
    "\n",
    "Tommy: researched zoning regulations and analyzed land use across San Francisco, focusing specifically on industrial areas; compiled findings and created maps within the 'Land Use & Zoning' notebook\n",
    "\n",
    "Rachel: organized the master notebook and created three foundational notebooks (2010 SF Census Tracts to Neighborhoods, 2020 SF Census Tracts to Neighborhoods, and Historic Redlining Maps) in order to create a baseline for shared geography and neighborhood boundaries to be used through the entirety of the project  \n",
    "\n",
    "All group members met regularly to organize information, share findings, assign tasks, and evenly distribute the larger work load. "
   ]
  },
  {
   "cell_type": "code",
   "execution_count": null,
   "id": "fa9a5a14-7f47-4360-8173-9dc3e992643f",
   "metadata": {},
   "outputs": [],
   "source": []
  }
 ],
 "metadata": {
  "kernelspec": {
   "display_name": "Python 3 (ipykernel)",
   "language": "python",
   "name": "python3"
  },
  "language_info": {
   "codemirror_mode": {
    "name": "ipython",
    "version": 3
   },
   "file_extension": ".py",
   "mimetype": "text/x-python",
   "name": "python",
   "nbconvert_exporter": "python",
   "pygments_lexer": "ipython3",
   "version": "3.10.8"
  }
 },
 "nbformat": 4,
 "nbformat_minor": 5
}
