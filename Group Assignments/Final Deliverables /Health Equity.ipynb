{
 "cells": [
  {
   "cell_type": "markdown",
   "id": "b6779960-c4c1-45b2-9fa8-008e66e26bff",
   "metadata": {},
   "source": [
    "### HEALTH EQUITY INDICATORS; SAN FRANCISCO, CA 2020 ###"
   ]
  },
  {
   "cell_type": "markdown",
   "id": "e6ab8927-d5d5-4744-9100-017615c6edcd",
   "metadata": {},
   "source": [
    "In this notebook, I will combine the data I have collected and analyzed thus far on COVID-19 burden and access to health insurance in San Francisco. I am going to add information on hospital locations in the city and look at the proximity of hospitals to the neighborhoods that are most affected by COVID-19. "
   ]
  },
  {
   "cell_type": "markdown",
   "id": "da5107e5-3fad-4fd3-8815-78a020dff2f1",
   "metadata": {},
   "source": [
    "#### IMPORTING DATA ####"
   ]
  },
  {
   "cell_type": "code",
   "execution_count": 40,
   "id": "26cc4310-a4c5-4d91-8920-9372a3787d7c",
   "metadata": {},
   "outputs": [],
   "source": [
    "#importing libraries\n",
    "import pandas as pd\n",
    "import geopandas as gpd\n",
    "import plotly.express as px"
   ]
  },
  {
   "cell_type": "markdown",
   "id": "a93b3650-13ae-4606-b04b-60f947183481",
   "metadata": {},
   "source": [
    "First, I am going to pull in data that will connect the census tracts with actual recognized neighborhoods in San Francisco."
   ]
  },
  {
   "cell_type": "code",
   "execution_count": 41,
   "id": "1e4e8a01-9973-47e1-beeb-7e9e0ba8efd2",
   "metadata": {},
   "outputs": [],
   "source": [
    "#pull in the Analysis Neighborhoods data set from DataSF\n",
    "nb = gpd.read_file('data/SF2020_Neighborhoods_CTs.geojson')"
   ]
  },
  {
   "cell_type": "code",
   "execution_count": 42,
   "id": "1d8c606a-ec10-4d8b-b3af-26ff04f9e27d",
   "metadata": {},
   "outputs": [
    {
     "data": {
      "text/plain": [
       "(242, 12)"
      ]
     },
     "execution_count": 42,
     "metadata": {},
     "output_type": "execute_result"
    }
   ],
   "source": [
    "nb.shape"
   ]
  },
  {
   "cell_type": "markdown",
   "id": "f930dd5c-3ff6-4af2-96f9-c31d56afd3c4",
   "metadata": {},
   "source": [
    "It looks like there are 242 census tracts which aligns with the data sets I have been working with."
   ]
  },
  {
   "cell_type": "code",
   "execution_count": 43,
   "id": "d4ef48d2-89e3-4766-8801-a2f4a87a861d",
   "metadata": {},
   "outputs": [
    {
     "data": {
      "text/html": [
       "<div>\n",
       "<style scoped>\n",
       "    .dataframe tbody tr th:only-of-type {\n",
       "        vertical-align: middle;\n",
       "    }\n",
       "\n",
       "    .dataframe tbody tr th {\n",
       "        vertical-align: top;\n",
       "    }\n",
       "\n",
       "    .dataframe thead th {\n",
       "        text-align: right;\n",
       "    }\n",
       "</style>\n",
       "<table border=\"1\" class=\"dataframe\">\n",
       "  <thead>\n",
       "    <tr style=\"text-align: right;\">\n",
       "      <th></th>\n",
       "      <th>name</th>\n",
       "      <th>neighborhoods_analysis_boundaries</th>\n",
       "      <th>tractce</th>\n",
       "      <th>sup_dist_2022</th>\n",
       "      <th>data_loaded_at</th>\n",
       "      <th>county_fp</th>\n",
       "      <th>state_fp</th>\n",
       "      <th>sup_dist_2012</th>\n",
       "      <th>data_as_of</th>\n",
       "      <th>object_id</th>\n",
       "      <th>geoid</th>\n",
       "      <th>geometry</th>\n",
       "    </tr>\n",
       "  </thead>\n",
       "  <tbody>\n",
       "    <tr>\n",
       "      <th>0</th>\n",
       "      <td>9809</td>\n",
       "      <td>Bayview Hunters Point</td>\n",
       "      <td>980900</td>\n",
       "      <td>10</td>\n",
       "      <td>2022-07-08 14:12:00</td>\n",
       "      <td>075</td>\n",
       "      <td>06</td>\n",
       "      <td>10</td>\n",
       "      <td>2022-07-08 21:09:48.141</td>\n",
       "      <td>242</td>\n",
       "      <td>06075980900</td>\n",
       "      <td>MULTIPOLYGON (((-122.37276 37.74551, -122.3727...</td>\n",
       "    </tr>\n",
       "    <tr>\n",
       "      <th>1</th>\n",
       "      <td>9806</td>\n",
       "      <td>Bayview Hunters Point</td>\n",
       "      <td>980600</td>\n",
       "      <td>10</td>\n",
       "      <td>2022-07-08 14:12:00</td>\n",
       "      <td>075</td>\n",
       "      <td>06</td>\n",
       "      <td>10</td>\n",
       "      <td>2022-07-08 21:09:48.141</td>\n",
       "      <td>241</td>\n",
       "      <td>06075980600</td>\n",
       "      <td>MULTIPOLYGON (((-122.36519 37.73373, -122.3665...</td>\n",
       "    </tr>\n",
       "    <tr>\n",
       "      <th>2</th>\n",
       "      <td>9805.01</td>\n",
       "      <td>McLaren Park</td>\n",
       "      <td>980501</td>\n",
       "      <td>10</td>\n",
       "      <td>2022-07-08 14:12:00</td>\n",
       "      <td>075</td>\n",
       "      <td>06</td>\n",
       "      <td>10</td>\n",
       "      <td>2022-07-08 21:09:48.141</td>\n",
       "      <td>240</td>\n",
       "      <td>06075980501</td>\n",
       "      <td>MULTIPOLYGON (((-122.40667 37.71921, -122.4069...</td>\n",
       "    </tr>\n",
       "    <tr>\n",
       "      <th>3</th>\n",
       "      <td>9804.01</td>\n",
       "      <td>The Farallones</td>\n",
       "      <td>980401</td>\n",
       "      <td>4</td>\n",
       "      <td>2022-07-08 14:12:00</td>\n",
       "      <td>075</td>\n",
       "      <td>06</td>\n",
       "      <td>1</td>\n",
       "      <td>2022-07-08 21:09:48.141</td>\n",
       "      <td>239</td>\n",
       "      <td>06075980401</td>\n",
       "      <td>MULTIPOLYGON (((-123.00360 37.69325, -123.0040...</td>\n",
       "    </tr>\n",
       "    <tr>\n",
       "      <th>4</th>\n",
       "      <td>612</td>\n",
       "      <td>Bayview Hunters Point</td>\n",
       "      <td>061200</td>\n",
       "      <td>10</td>\n",
       "      <td>2022-07-08 14:12:00</td>\n",
       "      <td>075</td>\n",
       "      <td>06</td>\n",
       "      <td>10</td>\n",
       "      <td>2022-07-08 21:09:48.141</td>\n",
       "      <td>226</td>\n",
       "      <td>06075061200</td>\n",
       "      <td>MULTIPOLYGON (((-122.38528 37.74024, -122.3858...</td>\n",
       "    </tr>\n",
       "  </tbody>\n",
       "</table>\n",
       "</div>"
      ],
      "text/plain": [
       "      name neighborhoods_analysis_boundaries tractce sup_dist_2022  \\\n",
       "0     9809             Bayview Hunters Point  980900            10   \n",
       "1     9806             Bayview Hunters Point  980600            10   \n",
       "2  9805.01                      McLaren Park  980501            10   \n",
       "3  9804.01                    The Farallones  980401             4   \n",
       "4      612             Bayview Hunters Point  061200            10   \n",
       "\n",
       "       data_loaded_at county_fp state_fp sup_dist_2012  \\\n",
       "0 2022-07-08 14:12:00       075       06            10   \n",
       "1 2022-07-08 14:12:00       075       06            10   \n",
       "2 2022-07-08 14:12:00       075       06            10   \n",
       "3 2022-07-08 14:12:00       075       06             1   \n",
       "4 2022-07-08 14:12:00       075       06            10   \n",
       "\n",
       "               data_as_of object_id        geoid  \\\n",
       "0 2022-07-08 21:09:48.141       242  06075980900   \n",
       "1 2022-07-08 21:09:48.141       241  06075980600   \n",
       "2 2022-07-08 21:09:48.141       240  06075980501   \n",
       "3 2022-07-08 21:09:48.141       239  06075980401   \n",
       "4 2022-07-08 21:09:48.141       226  06075061200   \n",
       "\n",
       "                                            geometry  \n",
       "0  MULTIPOLYGON (((-122.37276 37.74551, -122.3727...  \n",
       "1  MULTIPOLYGON (((-122.36519 37.73373, -122.3665...  \n",
       "2  MULTIPOLYGON (((-122.40667 37.71921, -122.4069...  \n",
       "3  MULTIPOLYGON (((-123.00360 37.69325, -123.0040...  \n",
       "4  MULTIPOLYGON (((-122.38528 37.74024, -122.3858...  "
      ]
     },
     "execution_count": 43,
     "metadata": {},
     "output_type": "execute_result"
    }
   ],
   "source": [
    "nb.head(5)"
   ]
  },
  {
   "cell_type": "markdown",
   "id": "e5d8f9b9-874a-47d5-ae19-78d8e7b98a77",
   "metadata": {},
   "source": [
    "I will now clean up this data a bit and drop some of the census tracts that correspond to islands with no residents."
   ]
  },
  {
   "cell_type": "code",
   "execution_count": 44,
   "id": "36a8a942-6699-4dbe-b4fa-1dbb470c557c",
   "metadata": {},
   "outputs": [],
   "source": [
    "#dropping the Farrollones census tract because it has messed with our maps in the past\n",
    "nb = nb.drop(labels=3, axis=0)"
   ]
  },
  {
   "cell_type": "code",
   "execution_count": 45,
   "id": "3d87566c-7e77-4799-abb7-c6a48796016a",
   "metadata": {},
   "outputs": [
    {
     "data": {
      "text/plain": [
       "(241, 12)"
      ]
     },
     "execution_count": 45,
     "metadata": {},
     "output_type": "execute_result"
    }
   ],
   "source": [
    "nb.shape"
   ]
  },
  {
   "cell_type": "markdown",
   "id": "2c7cbfdc-cf60-48d3-9004-463e585909a7",
   "metadata": {},
   "source": [
    "Ok, it appears the tract was dropped!"
   ]
  },
  {
   "cell_type": "code",
   "execution_count": 46,
   "id": "37035ec2-8c76-49d1-8f1b-531f3c083275",
   "metadata": {},
   "outputs": [],
   "source": [
    "#renaming the six columns\n",
    "nb.columns = ['Name',\n",
    "              'Neighborhood', \n",
    "              'Census Tract',\n",
    "              'Supervisor District 2022',\n",
    "              'Data Loaded',\n",
    "              'County Code',\n",
    "              'State Code',\n",
    "              'Supervisor District 2012',\n",
    "              'Data as of',\n",
    "              'Object ID',\n",
    "              'FIPS',\n",
    "              'Geometry',]"
   ]
  },
  {
   "cell_type": "code",
   "execution_count": 47,
   "id": "e34a7fc6-39cb-4a45-93d3-abb5d972c79c",
   "metadata": {},
   "outputs": [
    {
     "data": {
      "text/html": [
       "<div>\n",
       "<style scoped>\n",
       "    .dataframe tbody tr th:only-of-type {\n",
       "        vertical-align: middle;\n",
       "    }\n",
       "\n",
       "    .dataframe tbody tr th {\n",
       "        vertical-align: top;\n",
       "    }\n",
       "\n",
       "    .dataframe thead th {\n",
       "        text-align: right;\n",
       "    }\n",
       "</style>\n",
       "<table border=\"1\" class=\"dataframe\">\n",
       "  <thead>\n",
       "    <tr style=\"text-align: right;\">\n",
       "      <th></th>\n",
       "      <th>Name</th>\n",
       "      <th>Neighborhood</th>\n",
       "      <th>Census Tract</th>\n",
       "      <th>Supervisor District 2022</th>\n",
       "      <th>Data Loaded</th>\n",
       "      <th>County Code</th>\n",
       "      <th>State Code</th>\n",
       "      <th>Supervisor District 2012</th>\n",
       "      <th>Data as of</th>\n",
       "      <th>Object ID</th>\n",
       "      <th>FIPS</th>\n",
       "      <th>Geometry</th>\n",
       "    </tr>\n",
       "  </thead>\n",
       "  <tbody>\n",
       "    <tr>\n",
       "      <th>0</th>\n",
       "      <td>9809</td>\n",
       "      <td>Bayview Hunters Point</td>\n",
       "      <td>980900</td>\n",
       "      <td>10</td>\n",
       "      <td>2022-07-08 14:12:00</td>\n",
       "      <td>075</td>\n",
       "      <td>06</td>\n",
       "      <td>10</td>\n",
       "      <td>2022-07-08 21:09:48.141</td>\n",
       "      <td>242</td>\n",
       "      <td>06075980900</td>\n",
       "      <td>MULTIPOLYGON (((-122.37276 37.74551, -122.3727...</td>\n",
       "    </tr>\n",
       "    <tr>\n",
       "      <th>1</th>\n",
       "      <td>9806</td>\n",
       "      <td>Bayview Hunters Point</td>\n",
       "      <td>980600</td>\n",
       "      <td>10</td>\n",
       "      <td>2022-07-08 14:12:00</td>\n",
       "      <td>075</td>\n",
       "      <td>06</td>\n",
       "      <td>10</td>\n",
       "      <td>2022-07-08 21:09:48.141</td>\n",
       "      <td>241</td>\n",
       "      <td>06075980600</td>\n",
       "      <td>MULTIPOLYGON (((-122.36519 37.73373, -122.3665...</td>\n",
       "    </tr>\n",
       "    <tr>\n",
       "      <th>2</th>\n",
       "      <td>9805.01</td>\n",
       "      <td>McLaren Park</td>\n",
       "      <td>980501</td>\n",
       "      <td>10</td>\n",
       "      <td>2022-07-08 14:12:00</td>\n",
       "      <td>075</td>\n",
       "      <td>06</td>\n",
       "      <td>10</td>\n",
       "      <td>2022-07-08 21:09:48.141</td>\n",
       "      <td>240</td>\n",
       "      <td>06075980501</td>\n",
       "      <td>MULTIPOLYGON (((-122.40667 37.71921, -122.4069...</td>\n",
       "    </tr>\n",
       "    <tr>\n",
       "      <th>4</th>\n",
       "      <td>612</td>\n",
       "      <td>Bayview Hunters Point</td>\n",
       "      <td>061200</td>\n",
       "      <td>10</td>\n",
       "      <td>2022-07-08 14:12:00</td>\n",
       "      <td>075</td>\n",
       "      <td>06</td>\n",
       "      <td>10</td>\n",
       "      <td>2022-07-08 21:09:48.141</td>\n",
       "      <td>226</td>\n",
       "      <td>06075061200</td>\n",
       "      <td>MULTIPOLYGON (((-122.38528 37.74024, -122.3858...</td>\n",
       "    </tr>\n",
       "    <tr>\n",
       "      <th>5</th>\n",
       "      <td>611.02</td>\n",
       "      <td>Chinatown</td>\n",
       "      <td>061102</td>\n",
       "      <td>3</td>\n",
       "      <td>2022-07-08 14:12:00</td>\n",
       "      <td>075</td>\n",
       "      <td>06</td>\n",
       "      <td>3</td>\n",
       "      <td>2022-07-08 21:09:48.141</td>\n",
       "      <td>225</td>\n",
       "      <td>06075061102</td>\n",
       "      <td>MULTIPOLYGON (((-122.40631 37.79426, -122.4068...</td>\n",
       "    </tr>\n",
       "  </tbody>\n",
       "</table>\n",
       "</div>"
      ],
      "text/plain": [
       "      Name           Neighborhood Census Tract Supervisor District 2022  \\\n",
       "0     9809  Bayview Hunters Point       980900                       10   \n",
       "1     9806  Bayview Hunters Point       980600                       10   \n",
       "2  9805.01           McLaren Park       980501                       10   \n",
       "4      612  Bayview Hunters Point       061200                       10   \n",
       "5   611.02              Chinatown       061102                        3   \n",
       "\n",
       "          Data Loaded County Code State Code Supervisor District 2012  \\\n",
       "0 2022-07-08 14:12:00         075         06                       10   \n",
       "1 2022-07-08 14:12:00         075         06                       10   \n",
       "2 2022-07-08 14:12:00         075         06                       10   \n",
       "4 2022-07-08 14:12:00         075         06                       10   \n",
       "5 2022-07-08 14:12:00         075         06                        3   \n",
       "\n",
       "               Data as of Object ID         FIPS  \\\n",
       "0 2022-07-08 21:09:48.141       242  06075980900   \n",
       "1 2022-07-08 21:09:48.141       241  06075980600   \n",
       "2 2022-07-08 21:09:48.141       240  06075980501   \n",
       "4 2022-07-08 21:09:48.141       226  06075061200   \n",
       "5 2022-07-08 21:09:48.141       225  06075061102   \n",
       "\n",
       "                                            Geometry  \n",
       "0  MULTIPOLYGON (((-122.37276 37.74551, -122.3727...  \n",
       "1  MULTIPOLYGON (((-122.36519 37.73373, -122.3665...  \n",
       "2  MULTIPOLYGON (((-122.40667 37.71921, -122.4069...  \n",
       "4  MULTIPOLYGON (((-122.38528 37.74024, -122.3858...  \n",
       "5  MULTIPOLYGON (((-122.40631 37.79426, -122.4068...  "
      ]
     },
     "execution_count": 47,
     "metadata": {},
     "output_type": "execute_result"
    }
   ],
   "source": [
    "#checking that the above function worked\n",
    "nb.head()"
   ]
  },
  {
   "cell_type": "code",
   "execution_count": 48,
   "id": "90793d5b-f3eb-435e-ae24-4e9b0a0208fd",
   "metadata": {},
   "outputs": [
    {
     "data": {
      "text/plain": [
       "Mission                           17\n",
       "Sunset/Parkside                   16\n",
       "Tenderloin                        12\n",
       "Outer Richmond                    11\n",
       "Bayview Hunters Point             11\n",
       "Financial District/South Beach    10\n",
       "Marina                             9\n",
       "Nob Hill                           9\n",
       "Pacific Heights                    9\n",
       "Excelsior                          8\n",
       "Castro/Upper Market                7\n",
       "Western Addition                   7\n",
       "West of Twin Peaks                 7\n",
       "South of Market                    7\n",
       "Russian Hill                       7\n",
       "Noe Valley                         6\n",
       "Bernal Heights                     6\n",
       "Oceanview/Merced/Ingleside         6\n",
       "Inner Sunset                       6\n",
       "Chinatown                          6\n",
       "Haight Ashbury                     5\n",
       "Hayes Valley                       5\n",
       "Outer Mission                      5\n",
       "North Beach                        5\n",
       "Potrero Hill                       5\n",
       "Inner Richmond                     5\n",
       "Visitacion Valley                  5\n",
       "Portola                            4\n",
       "Lakeshore                          4\n",
       "Lone Mountain/USF                  4\n",
       "Presidio Heights                   3\n",
       "Mission Bay                        3\n",
       "Twin Peaks                         2\n",
       "Glen Park                          2\n",
       "Treasure Island                    1\n",
       "Japantown                          1\n",
       "Presidio                           1\n",
       "Lincoln Park                       1\n",
       "Seacliff                           1\n",
       "Golden Gate Park                   1\n",
       "McLaren Park                       1\n",
       "Name: Neighborhood, dtype: int64"
      ]
     },
     "execution_count": 48,
     "metadata": {},
     "output_type": "execute_result"
    }
   ],
   "source": [
    "# getting a count on how many census tracts are in each neighborhood\n",
    "nb['Neighborhood'].value_counts()"
   ]
  },
  {
   "cell_type": "markdown",
   "id": "f0868ace-3d69-4cb9-9277-ce75dabec8f6",
   "metadata": {},
   "source": [
    "Great, I am excited to see how this overlays with the health indicator data!\n",
    "\n",
    "But before that happend, I need to join this data with the spatial data from 2020 census tracts. Then, I will start to map."
   ]
  },
  {
   "cell_type": "code",
   "execution_count": 49,
   "id": "77090bf9-6c2a-4d6a-a829-ea64bbd18496",
   "metadata": {},
   "outputs": [
    {
     "data": {
      "text/html": [
       "<div>\n",
       "<style scoped>\n",
       "    .dataframe tbody tr th:only-of-type {\n",
       "        vertical-align: middle;\n",
       "    }\n",
       "\n",
       "    .dataframe tbody tr th {\n",
       "        vertical-align: top;\n",
       "    }\n",
       "\n",
       "    .dataframe thead th {\n",
       "        text-align: right;\n",
       "    }\n",
       "</style>\n",
       "<table border=\"1\" class=\"dataframe\">\n",
       "  <thead>\n",
       "    <tr style=\"text-align: right;\">\n",
       "      <th></th>\n",
       "      <th>name</th>\n",
       "      <th>intptlon</th>\n",
       "      <th>awater</th>\n",
       "      <th>mtfcc</th>\n",
       "      <th>aland</th>\n",
       "      <th>namelsad</th>\n",
       "      <th>tractce</th>\n",
       "      <th>statefp</th>\n",
       "      <th>data_loaded_at</th>\n",
       "      <th>intptlat</th>\n",
       "      <th>funcstat</th>\n",
       "      <th>countyfp</th>\n",
       "      <th>data_as_of</th>\n",
       "      <th>geoid</th>\n",
       "      <th>geometry</th>\n",
       "    </tr>\n",
       "  </thead>\n",
       "  <tbody>\n",
       "    <tr>\n",
       "      <th>0</th>\n",
       "      <td>9805.01</td>\n",
       "      <td>-122.4193463</td>\n",
       "      <td>9769.0</td>\n",
       "      <td>G5020</td>\n",
       "      <td>1471536.0</td>\n",
       "      <td>Census Tract 9805.01</td>\n",
       "      <td>980501</td>\n",
       "      <td>06</td>\n",
       "      <td>2022-03-04</td>\n",
       "      <td>+37.7162081</td>\n",
       "      <td>S</td>\n",
       "      <td>075</td>\n",
       "      <td>2021-02-01</td>\n",
       "      <td>06075980501</td>\n",
       "      <td>MULTIPOLYGON (((-122.42722 37.71555, -122.4271...</td>\n",
       "    </tr>\n",
       "    <tr>\n",
       "      <th>1</th>\n",
       "      <td>171.02</td>\n",
       "      <td>-122.4504754</td>\n",
       "      <td>0.0</td>\n",
       "      <td>G5020</td>\n",
       "      <td>294894.0</td>\n",
       "      <td>Census Tract 171.02</td>\n",
       "      <td>017102</td>\n",
       "      <td>06</td>\n",
       "      <td>2022-03-04</td>\n",
       "      <td>+37.7654353</td>\n",
       "      <td>S</td>\n",
       "      <td>075</td>\n",
       "      <td>2021-02-01</td>\n",
       "      <td>06075017102</td>\n",
       "      <td>MULTIPOLYGON (((-122.45321 37.76825, -122.4516...</td>\n",
       "    </tr>\n",
       "    <tr>\n",
       "      <th>2</th>\n",
       "      <td>123.02</td>\n",
       "      <td>-122.4120970</td>\n",
       "      <td>0.0</td>\n",
       "      <td>G5020</td>\n",
       "      <td>92653.0</td>\n",
       "      <td>Census Tract 123.02</td>\n",
       "      <td>012302</td>\n",
       "      <td>06</td>\n",
       "      <td>2022-03-04</td>\n",
       "      <td>+37.7870222</td>\n",
       "      <td>S</td>\n",
       "      <td>075</td>\n",
       "      <td>2021-02-01</td>\n",
       "      <td>06075012302</td>\n",
       "      <td>MULTIPOLYGON (((-122.41500 37.78745, -122.4133...</td>\n",
       "    </tr>\n",
       "    <tr>\n",
       "      <th>3</th>\n",
       "      <td>168.01</td>\n",
       "      <td>-122.4290133</td>\n",
       "      <td>0.0</td>\n",
       "      <td>G5020</td>\n",
       "      <td>226534.0</td>\n",
       "      <td>Census Tract 168.01</td>\n",
       "      <td>016801</td>\n",
       "      <td>06</td>\n",
       "      <td>2022-03-04</td>\n",
       "      <td>+37.7713309</td>\n",
       "      <td>S</td>\n",
       "      <td>075</td>\n",
       "      <td>2021-02-01</td>\n",
       "      <td>06075016801</td>\n",
       "      <td>MULTIPOLYGON (((-122.43235 37.77378, -122.4308...</td>\n",
       "    </tr>\n",
       "    <tr>\n",
       "      <th>4</th>\n",
       "      <td>119.02</td>\n",
       "      <td>-122.4098067</td>\n",
       "      <td>0.0</td>\n",
       "      <td>G5020</td>\n",
       "      <td>93053.0</td>\n",
       "      <td>Census Tract 119.02</td>\n",
       "      <td>011902</td>\n",
       "      <td>06</td>\n",
       "      <td>2022-03-04</td>\n",
       "      <td>+37.7909959</td>\n",
       "      <td>S</td>\n",
       "      <td>075</td>\n",
       "      <td>2021-02-01</td>\n",
       "      <td>06075011902</td>\n",
       "      <td>MULTIPOLYGON (((-122.41246 37.79163, -122.4117...</td>\n",
       "    </tr>\n",
       "  </tbody>\n",
       "</table>\n",
       "</div>"
      ],
      "text/plain": [
       "      name      intptlon  awater  mtfcc      aland              namelsad  \\\n",
       "0  9805.01  -122.4193463  9769.0  G5020  1471536.0  Census Tract 9805.01   \n",
       "1   171.02  -122.4504754     0.0  G5020   294894.0   Census Tract 171.02   \n",
       "2   123.02  -122.4120970     0.0  G5020    92653.0   Census Tract 123.02   \n",
       "3   168.01  -122.4290133     0.0  G5020   226534.0   Census Tract 168.01   \n",
       "4   119.02  -122.4098067     0.0  G5020    93053.0   Census Tract 119.02   \n",
       "\n",
       "  tractce statefp data_loaded_at     intptlat funcstat countyfp data_as_of  \\\n",
       "0  980501      06     2022-03-04  +37.7162081        S      075 2021-02-01   \n",
       "1  017102      06     2022-03-04  +37.7654353        S      075 2021-02-01   \n",
       "2  012302      06     2022-03-04  +37.7870222        S      075 2021-02-01   \n",
       "3  016801      06     2022-03-04  +37.7713309        S      075 2021-02-01   \n",
       "4  011902      06     2022-03-04  +37.7909959        S      075 2021-02-01   \n",
       "\n",
       "         geoid                                           geometry  \n",
       "0  06075980501  MULTIPOLYGON (((-122.42722 37.71555, -122.4271...  \n",
       "1  06075017102  MULTIPOLYGON (((-122.45321 37.76825, -122.4516...  \n",
       "2  06075012302  MULTIPOLYGON (((-122.41500 37.78745, -122.4133...  \n",
       "3  06075016801  MULTIPOLYGON (((-122.43235 37.77378, -122.4308...  \n",
       "4  06075011902  MULTIPOLYGON (((-122.41246 37.79163, -122.4117...  "
      ]
     },
     "execution_count": 49,
     "metadata": {},
     "output_type": "execute_result"
    }
   ],
   "source": [
    "# bring in the geojson file with census tracts\n",
    "tracts=gpd.read_file('data/2020CTs.geojson')\n",
    "# see what the data looks like\n",
    "tracts.head()"
   ]
  },
  {
   "cell_type": "code",
   "execution_count": 50,
   "id": "3f2e63c3-2aa1-45da-87f6-ba6802371dcb",
   "metadata": {},
   "outputs": [
    {
     "data": {
      "text/plain": [
       "(244, 15)"
      ]
     },
     "execution_count": 50,
     "metadata": {},
     "output_type": "execute_result"
    }
   ],
   "source": [
    "#seeing how many rows and columns we're working with \n",
    "tracts.shape"
   ]
  },
  {
   "cell_type": "markdown",
   "id": "65a317b0-651c-4fd8-a3d7-84611bc77bd0",
   "metadata": {},
   "source": [
    "This is almost a match with the 241 tracts from the neighborhood data set. But I will pull a bit more info before merging this with the neighborhood data."
   ]
  },
  {
   "cell_type": "code",
   "execution_count": 51,
   "id": "a2d6cc3d-acfb-4179-bc5f-09e55d0be42d",
   "metadata": {},
   "outputs": [
    {
     "name": "stdout",
     "output_type": "stream",
     "text": [
      "<class 'geopandas.geodataframe.GeoDataFrame'>\n",
      "RangeIndex: 244 entries, 0 to 243\n",
      "Data columns (total 15 columns):\n",
      " #   Column          Non-Null Count  Dtype         \n",
      "---  ------          --------------  -----         \n",
      " 0   name            244 non-null    object        \n",
      " 1   intptlon        244 non-null    object        \n",
      " 2   awater          244 non-null    object        \n",
      " 3   mtfcc           244 non-null    object        \n",
      " 4   aland           244 non-null    object        \n",
      " 5   namelsad        244 non-null    object        \n",
      " 6   tractce         244 non-null    object        \n",
      " 7   statefp         244 non-null    object        \n",
      " 8   data_loaded_at  244 non-null    datetime64[ns]\n",
      " 9   intptlat        244 non-null    object        \n",
      " 10  funcstat        244 non-null    object        \n",
      " 11  countyfp        244 non-null    object        \n",
      " 12  data_as_of      244 non-null    datetime64[ns]\n",
      " 13  geoid           244 non-null    object        \n",
      " 14  geometry        244 non-null    geometry      \n",
      "dtypes: datetime64[ns](2), geometry(1), object(12)\n",
      "memory usage: 28.7+ KB\n"
     ]
    }
   ],
   "source": [
    "tracts.info(5)"
   ]
  },
  {
   "cell_type": "markdown",
   "id": "30b0df82-0b52-40fa-a870-c8c6e6094893",
   "metadata": {},
   "source": [
    "Based on this list of columns, we really only need the census tract number (tractce10) and geometry columns in order to merge the two data sets. Let's move forward with doing so."
   ]
  },
  {
   "cell_type": "code",
   "execution_count": 52,
   "id": "4c52b6f4-198c-4f97-985e-b1d18d56344f",
   "metadata": {},
   "outputs": [
    {
     "data": {
      "text/html": [
       "<div>\n",
       "<style scoped>\n",
       "    .dataframe tbody tr th:only-of-type {\n",
       "        vertical-align: middle;\n",
       "    }\n",
       "\n",
       "    .dataframe tbody tr th {\n",
       "        vertical-align: top;\n",
       "    }\n",
       "\n",
       "    .dataframe thead th {\n",
       "        text-align: right;\n",
       "    }\n",
       "</style>\n",
       "<table border=\"1\" class=\"dataframe\">\n",
       "  <thead>\n",
       "    <tr style=\"text-align: right;\">\n",
       "      <th></th>\n",
       "      <th>tractce</th>\n",
       "      <th>geometry</th>\n",
       "    </tr>\n",
       "  </thead>\n",
       "  <tbody>\n",
       "    <tr>\n",
       "      <th>0</th>\n",
       "      <td>980501</td>\n",
       "      <td>MULTIPOLYGON (((-122.42722 37.71555, -122.4271...</td>\n",
       "    </tr>\n",
       "    <tr>\n",
       "      <th>1</th>\n",
       "      <td>017102</td>\n",
       "      <td>MULTIPOLYGON (((-122.45321 37.76825, -122.4516...</td>\n",
       "    </tr>\n",
       "    <tr>\n",
       "      <th>2</th>\n",
       "      <td>012302</td>\n",
       "      <td>MULTIPOLYGON (((-122.41500 37.78745, -122.4133...</td>\n",
       "    </tr>\n",
       "    <tr>\n",
       "      <th>3</th>\n",
       "      <td>016801</td>\n",
       "      <td>MULTIPOLYGON (((-122.43235 37.77378, -122.4308...</td>\n",
       "    </tr>\n",
       "    <tr>\n",
       "      <th>4</th>\n",
       "      <td>011902</td>\n",
       "      <td>MULTIPOLYGON (((-122.41246 37.79163, -122.4117...</td>\n",
       "    </tr>\n",
       "  </tbody>\n",
       "</table>\n",
       "</div>"
      ],
      "text/plain": [
       "  tractce                                           geometry\n",
       "0  980501  MULTIPOLYGON (((-122.42722 37.71555, -122.4271...\n",
       "1  017102  MULTIPOLYGON (((-122.45321 37.76825, -122.4516...\n",
       "2  012302  MULTIPOLYGON (((-122.41500 37.78745, -122.4133...\n",
       "3  016801  MULTIPOLYGON (((-122.43235 37.77378, -122.4308...\n",
       "4  011902  MULTIPOLYGON (((-122.41246 37.79163, -122.4117..."
      ]
     },
     "execution_count": 52,
     "metadata": {},
     "output_type": "execute_result"
    }
   ],
   "source": [
    "tracts = tracts[['tractce','geometry']]\n",
    "tracts.head()"
   ]
  },
  {
   "cell_type": "markdown",
   "id": "9cc4eab5-15f1-4a43-b78f-dd12f74b7a2b",
   "metadata": {},
   "source": [
    "We have the census tract number, but we need a full FIPS code to merge. We'll add '06' for the state of California and '075' for the county of San Francisco to the census tract number as follows."
   ]
  },
  {
   "cell_type": "code",
   "execution_count": 53,
   "id": "a410eada-4696-44db-976a-dc5055427c46",
   "metadata": {},
   "outputs": [],
   "source": [
    "# create a FIPS column before merging\n",
    "tracts['FIPS'] ='06' + '075' + tracts['tractce']"
   ]
  },
  {
   "cell_type": "code",
   "execution_count": 54,
   "id": "c85e0471-1d9e-401d-858b-889e2b6d3e30",
   "metadata": {},
   "outputs": [
    {
     "data": {
      "text/html": [
       "<div>\n",
       "<style scoped>\n",
       "    .dataframe tbody tr th:only-of-type {\n",
       "        vertical-align: middle;\n",
       "    }\n",
       "\n",
       "    .dataframe tbody tr th {\n",
       "        vertical-align: top;\n",
       "    }\n",
       "\n",
       "    .dataframe thead th {\n",
       "        text-align: right;\n",
       "    }\n",
       "</style>\n",
       "<table border=\"1\" class=\"dataframe\">\n",
       "  <thead>\n",
       "    <tr style=\"text-align: right;\">\n",
       "      <th></th>\n",
       "      <th>tractce</th>\n",
       "      <th>geometry</th>\n",
       "      <th>FIPS</th>\n",
       "    </tr>\n",
       "  </thead>\n",
       "  <tbody>\n",
       "    <tr>\n",
       "      <th>0</th>\n",
       "      <td>980501</td>\n",
       "      <td>MULTIPOLYGON (((-122.42722 37.71555, -122.4271...</td>\n",
       "      <td>06075980501</td>\n",
       "    </tr>\n",
       "    <tr>\n",
       "      <th>1</th>\n",
       "      <td>017102</td>\n",
       "      <td>MULTIPOLYGON (((-122.45321 37.76825, -122.4516...</td>\n",
       "      <td>06075017102</td>\n",
       "    </tr>\n",
       "    <tr>\n",
       "      <th>2</th>\n",
       "      <td>012302</td>\n",
       "      <td>MULTIPOLYGON (((-122.41500 37.78745, -122.4133...</td>\n",
       "      <td>06075012302</td>\n",
       "    </tr>\n",
       "    <tr>\n",
       "      <th>3</th>\n",
       "      <td>016801</td>\n",
       "      <td>MULTIPOLYGON (((-122.43235 37.77378, -122.4308...</td>\n",
       "      <td>06075016801</td>\n",
       "    </tr>\n",
       "    <tr>\n",
       "      <th>4</th>\n",
       "      <td>011902</td>\n",
       "      <td>MULTIPOLYGON (((-122.41246 37.79163, -122.4117...</td>\n",
       "      <td>06075011902</td>\n",
       "    </tr>\n",
       "  </tbody>\n",
       "</table>\n",
       "</div>"
      ],
      "text/plain": [
       "  tractce                                           geometry         FIPS\n",
       "0  980501  MULTIPOLYGON (((-122.42722 37.71555, -122.4271...  06075980501\n",
       "1  017102  MULTIPOLYGON (((-122.45321 37.76825, -122.4516...  06075017102\n",
       "2  012302  MULTIPOLYGON (((-122.41500 37.78745, -122.4133...  06075012302\n",
       "3  016801  MULTIPOLYGON (((-122.43235 37.77378, -122.4308...  06075016801\n",
       "4  011902  MULTIPOLYGON (((-122.41246 37.79163, -122.4117...  06075011902"
      ]
     },
     "execution_count": 54,
     "metadata": {},
     "output_type": "execute_result"
    }
   ],
   "source": [
    "# double check that we have a new and complete FIPS code column\n",
    "tracts.head()"
   ]
  },
  {
   "cell_type": "markdown",
   "id": "f1a319bf-566f-4723-bb00-fa5b385582b8",
   "metadata": {},
   "source": [
    "Great, that worked! Now the FIPS codes will match the structure of the FIPS codes from the other data set which will make it possible to merge the two files."
   ]
  },
  {
   "cell_type": "code",
   "execution_count": 55,
   "id": "a45a4c82-59d4-4226-ad07-1c02ce3b1245",
   "metadata": {},
   "outputs": [],
   "source": [
    "# create a new dataframe based on the join, tracts is spatial data so must come first\n",
    "nhoods=tracts.merge(nb,on=\"FIPS\")"
   ]
  },
  {
   "cell_type": "code",
   "execution_count": 56,
   "id": "40f63568-e376-4cc8-b234-8c0ae5d85497",
   "metadata": {},
   "outputs": [
    {
     "data": {
      "text/html": [
       "<div>\n",
       "<style scoped>\n",
       "    .dataframe tbody tr th:only-of-type {\n",
       "        vertical-align: middle;\n",
       "    }\n",
       "\n",
       "    .dataframe tbody tr th {\n",
       "        vertical-align: top;\n",
       "    }\n",
       "\n",
       "    .dataframe thead th {\n",
       "        text-align: right;\n",
       "    }\n",
       "</style>\n",
       "<table border=\"1\" class=\"dataframe\">\n",
       "  <thead>\n",
       "    <tr style=\"text-align: right;\">\n",
       "      <th></th>\n",
       "      <th>tractce</th>\n",
       "      <th>geometry</th>\n",
       "      <th>FIPS</th>\n",
       "      <th>Name</th>\n",
       "      <th>Neighborhood</th>\n",
       "      <th>Census Tract</th>\n",
       "      <th>Supervisor District 2022</th>\n",
       "      <th>Data Loaded</th>\n",
       "      <th>County Code</th>\n",
       "      <th>State Code</th>\n",
       "      <th>Supervisor District 2012</th>\n",
       "      <th>Data as of</th>\n",
       "      <th>Object ID</th>\n",
       "      <th>Geometry</th>\n",
       "    </tr>\n",
       "  </thead>\n",
       "  <tbody>\n",
       "    <tr>\n",
       "      <th>0</th>\n",
       "      <td>980501</td>\n",
       "      <td>MULTIPOLYGON (((-122.42722 37.71555, -122.4271...</td>\n",
       "      <td>06075980501</td>\n",
       "      <td>9805.01</td>\n",
       "      <td>McLaren Park</td>\n",
       "      <td>980501</td>\n",
       "      <td>10</td>\n",
       "      <td>2022-07-08 14:12:00</td>\n",
       "      <td>075</td>\n",
       "      <td>06</td>\n",
       "      <td>10</td>\n",
       "      <td>2022-07-08 21:09:48.141</td>\n",
       "      <td>240</td>\n",
       "      <td>MULTIPOLYGON (((-122.40667 37.71921, -122.4069...</td>\n",
       "    </tr>\n",
       "    <tr>\n",
       "      <th>1</th>\n",
       "      <td>017102</td>\n",
       "      <td>MULTIPOLYGON (((-122.45321 37.76825, -122.4516...</td>\n",
       "      <td>06075017102</td>\n",
       "      <td>171.02</td>\n",
       "      <td>Haight Ashbury</td>\n",
       "      <td>017102</td>\n",
       "      <td>8</td>\n",
       "      <td>2022-07-08 14:12:00</td>\n",
       "      <td>075</td>\n",
       "      <td>06</td>\n",
       "      <td>5</td>\n",
       "      <td>2022-07-08 21:09:48.141</td>\n",
       "      <td>84</td>\n",
       "      <td>MULTIPOLYGON (((-122.44912 37.76165, -122.4505...</td>\n",
       "    </tr>\n",
       "    <tr>\n",
       "      <th>2</th>\n",
       "      <td>012302</td>\n",
       "      <td>MULTIPOLYGON (((-122.41500 37.78745, -122.4133...</td>\n",
       "      <td>06075012302</td>\n",
       "      <td>123.02</td>\n",
       "      <td>Tenderloin</td>\n",
       "      <td>012302</td>\n",
       "      <td>3</td>\n",
       "      <td>2022-07-08 14:12:00</td>\n",
       "      <td>075</td>\n",
       "      <td>06</td>\n",
       "      <td>3</td>\n",
       "      <td>2022-07-08 21:09:48.141</td>\n",
       "      <td>32</td>\n",
       "      <td>MULTIPOLYGON (((-122.40823 37.78736, -122.4098...</td>\n",
       "    </tr>\n",
       "    <tr>\n",
       "      <th>3</th>\n",
       "      <td>016801</td>\n",
       "      <td>MULTIPOLYGON (((-122.43235 37.77378, -122.4308...</td>\n",
       "      <td>06075016801</td>\n",
       "      <td>168.01</td>\n",
       "      <td>Hayes Valley</td>\n",
       "      <td>016801</td>\n",
       "      <td>5</td>\n",
       "      <td>2022-07-08 14:12:00</td>\n",
       "      <td>075</td>\n",
       "      <td>06</td>\n",
       "      <td>5</td>\n",
       "      <td>2022-07-08 21:09:48.141</td>\n",
       "      <td>79</td>\n",
       "      <td>MULTIPOLYGON (((-122.42493 37.77078, -122.4264...</td>\n",
       "    </tr>\n",
       "    <tr>\n",
       "      <th>4</th>\n",
       "      <td>011902</td>\n",
       "      <td>MULTIPOLYGON (((-122.41246 37.79163, -122.4117...</td>\n",
       "      <td>06075011902</td>\n",
       "      <td>119.02</td>\n",
       "      <td>Nob Hill</td>\n",
       "      <td>011902</td>\n",
       "      <td>3</td>\n",
       "      <td>2022-07-08 14:12:00</td>\n",
       "      <td>075</td>\n",
       "      <td>06</td>\n",
       "      <td>3</td>\n",
       "      <td>2022-07-08 21:09:48.141</td>\n",
       "      <td>24</td>\n",
       "      <td>MULTIPOLYGON (((-122.40879 37.79016, -122.4104...</td>\n",
       "    </tr>\n",
       "  </tbody>\n",
       "</table>\n",
       "</div>"
      ],
      "text/plain": [
       "  tractce                                           geometry         FIPS  \\\n",
       "0  980501  MULTIPOLYGON (((-122.42722 37.71555, -122.4271...  06075980501   \n",
       "1  017102  MULTIPOLYGON (((-122.45321 37.76825, -122.4516...  06075017102   \n",
       "2  012302  MULTIPOLYGON (((-122.41500 37.78745, -122.4133...  06075012302   \n",
       "3  016801  MULTIPOLYGON (((-122.43235 37.77378, -122.4308...  06075016801   \n",
       "4  011902  MULTIPOLYGON (((-122.41246 37.79163, -122.4117...  06075011902   \n",
       "\n",
       "      Name    Neighborhood Census Tract Supervisor District 2022  \\\n",
       "0  9805.01    McLaren Park       980501                       10   \n",
       "1   171.02  Haight Ashbury       017102                        8   \n",
       "2   123.02      Tenderloin       012302                        3   \n",
       "3   168.01    Hayes Valley       016801                        5   \n",
       "4   119.02        Nob Hill       011902                        3   \n",
       "\n",
       "          Data Loaded County Code State Code Supervisor District 2012  \\\n",
       "0 2022-07-08 14:12:00         075         06                       10   \n",
       "1 2022-07-08 14:12:00         075         06                        5   \n",
       "2 2022-07-08 14:12:00         075         06                        3   \n",
       "3 2022-07-08 14:12:00         075         06                        5   \n",
       "4 2022-07-08 14:12:00         075         06                        3   \n",
       "\n",
       "               Data as of Object ID  \\\n",
       "0 2022-07-08 21:09:48.141       240   \n",
       "1 2022-07-08 21:09:48.141        84   \n",
       "2 2022-07-08 21:09:48.141        32   \n",
       "3 2022-07-08 21:09:48.141        79   \n",
       "4 2022-07-08 21:09:48.141        24   \n",
       "\n",
       "                                            Geometry  \n",
       "0  MULTIPOLYGON (((-122.40667 37.71921, -122.4069...  \n",
       "1  MULTIPOLYGON (((-122.44912 37.76165, -122.4505...  \n",
       "2  MULTIPOLYGON (((-122.40823 37.78736, -122.4098...  \n",
       "3  MULTIPOLYGON (((-122.42493 37.77078, -122.4264...  \n",
       "4  MULTIPOLYGON (((-122.40879 37.79016, -122.4104...  "
      ]
     },
     "execution_count": 56,
     "metadata": {},
     "output_type": "execute_result"
    }
   ],
   "source": [
    "nhoods.head(5)"
   ]
  },
  {
   "cell_type": "code",
   "execution_count": 57,
   "id": "d4c86ba9-e13b-4d4e-a069-430be85dd261",
   "metadata": {},
   "outputs": [],
   "source": [
    "# define the columns to keep, which include: geometry, FIPS and Neighborhood\n",
    "columns_to_keep = ['geometry',\n",
    "                   'FIPS',\n",
    "                   'Neighborhood']"
   ]
  },
  {
   "cell_type": "code",
   "execution_count": 58,
   "id": "12235028-60a8-4f32-ba55-ea7d9269a445",
   "metadata": {},
   "outputs": [
    {
     "data": {
      "text/html": [
       "<div>\n",
       "<style scoped>\n",
       "    .dataframe tbody tr th:only-of-type {\n",
       "        vertical-align: middle;\n",
       "    }\n",
       "\n",
       "    .dataframe tbody tr th {\n",
       "        vertical-align: top;\n",
       "    }\n",
       "\n",
       "    .dataframe thead th {\n",
       "        text-align: right;\n",
       "    }\n",
       "</style>\n",
       "<table border=\"1\" class=\"dataframe\">\n",
       "  <thead>\n",
       "    <tr style=\"text-align: right;\">\n",
       "      <th></th>\n",
       "      <th>geometry</th>\n",
       "      <th>FIPS</th>\n",
       "      <th>Neighborhood</th>\n",
       "    </tr>\n",
       "  </thead>\n",
       "  <tbody>\n",
       "    <tr>\n",
       "      <th>0</th>\n",
       "      <td>MULTIPOLYGON (((-122.42722 37.71555, -122.4271...</td>\n",
       "      <td>06075980501</td>\n",
       "      <td>McLaren Park</td>\n",
       "    </tr>\n",
       "    <tr>\n",
       "      <th>1</th>\n",
       "      <td>MULTIPOLYGON (((-122.45321 37.76825, -122.4516...</td>\n",
       "      <td>06075017102</td>\n",
       "      <td>Haight Ashbury</td>\n",
       "    </tr>\n",
       "    <tr>\n",
       "      <th>2</th>\n",
       "      <td>MULTIPOLYGON (((-122.41500 37.78745, -122.4133...</td>\n",
       "      <td>06075012302</td>\n",
       "      <td>Tenderloin</td>\n",
       "    </tr>\n",
       "    <tr>\n",
       "      <th>3</th>\n",
       "      <td>MULTIPOLYGON (((-122.43235 37.77378, -122.4308...</td>\n",
       "      <td>06075016801</td>\n",
       "      <td>Hayes Valley</td>\n",
       "    </tr>\n",
       "    <tr>\n",
       "      <th>4</th>\n",
       "      <td>MULTIPOLYGON (((-122.41246 37.79163, -122.4117...</td>\n",
       "      <td>06075011902</td>\n",
       "      <td>Nob Hill</td>\n",
       "    </tr>\n",
       "    <tr>\n",
       "      <th>...</th>\n",
       "      <td>...</td>\n",
       "      <td>...</td>\n",
       "      <td>...</td>\n",
       "    </tr>\n",
       "    <tr>\n",
       "      <th>236</th>\n",
       "      <td>MULTIPOLYGON (((-122.42646 37.76627, -122.4252...</td>\n",
       "      <td>06075020201</td>\n",
       "      <td>Mission</td>\n",
       "    </tr>\n",
       "    <tr>\n",
       "      <th>237</th>\n",
       "      <td>MULTIPOLYGON (((-122.39362 37.78308, -122.3928...</td>\n",
       "      <td>06075061508</td>\n",
       "      <td>Financial District/South Beach</td>\n",
       "    </tr>\n",
       "    <tr>\n",
       "      <th>238</th>\n",
       "      <td>MULTIPOLYGON (((-122.43075 37.79865, -122.4291...</td>\n",
       "      <td>06075013001</td>\n",
       "      <td>Marina</td>\n",
       "    </tr>\n",
       "    <tr>\n",
       "      <th>239</th>\n",
       "      <td>MULTIPOLYGON (((-122.42484 37.80227, -122.4246...</td>\n",
       "      <td>06075010201</td>\n",
       "      <td>Russian Hill</td>\n",
       "    </tr>\n",
       "    <tr>\n",
       "      <th>240</th>\n",
       "      <td>MULTIPOLYGON (((-122.42280 37.79216, -122.4225...</td>\n",
       "      <td>06075011101</td>\n",
       "      <td>Nob Hill</td>\n",
       "    </tr>\n",
       "  </tbody>\n",
       "</table>\n",
       "<p>241 rows × 3 columns</p>\n",
       "</div>"
      ],
      "text/plain": [
       "                                              geometry         FIPS  \\\n",
       "0    MULTIPOLYGON (((-122.42722 37.71555, -122.4271...  06075980501   \n",
       "1    MULTIPOLYGON (((-122.45321 37.76825, -122.4516...  06075017102   \n",
       "2    MULTIPOLYGON (((-122.41500 37.78745, -122.4133...  06075012302   \n",
       "3    MULTIPOLYGON (((-122.43235 37.77378, -122.4308...  06075016801   \n",
       "4    MULTIPOLYGON (((-122.41246 37.79163, -122.4117...  06075011902   \n",
       "..                                                 ...          ...   \n",
       "236  MULTIPOLYGON (((-122.42646 37.76627, -122.4252...  06075020201   \n",
       "237  MULTIPOLYGON (((-122.39362 37.78308, -122.3928...  06075061508   \n",
       "238  MULTIPOLYGON (((-122.43075 37.79865, -122.4291...  06075013001   \n",
       "239  MULTIPOLYGON (((-122.42484 37.80227, -122.4246...  06075010201   \n",
       "240  MULTIPOLYGON (((-122.42280 37.79216, -122.4225...  06075011101   \n",
       "\n",
       "                       Neighborhood  \n",
       "0                      McLaren Park  \n",
       "1                    Haight Ashbury  \n",
       "2                        Tenderloin  \n",
       "3                      Hayes Valley  \n",
       "4                          Nob Hill  \n",
       "..                              ...  \n",
       "236                         Mission  \n",
       "237  Financial District/South Beach  \n",
       "238                          Marina  \n",
       "239                    Russian Hill  \n",
       "240                        Nob Hill  \n",
       "\n",
       "[241 rows x 3 columns]"
      ]
     },
     "execution_count": 58,
     "metadata": {},
     "output_type": "execute_result"
    }
   ],
   "source": [
    "# copy and create a new function, nhoods2, that just displays the defined columns to keep\n",
    "nhoods2 = nhoods[columns_to_keep].copy()\n",
    "nhoods2"
   ]
  },
  {
   "cell_type": "markdown",
   "id": "fe0a4e55-9276-4d9e-a7f1-2b2cd3293bec",
   "metadata": {},
   "source": [
    "This is exactly what we need in order to start mapping our neighborhoods of census tracts! In the next section, I will import the COVID-19 data and then the health insurance data and then map it over the neighborhoods. But first, I want to see what the neighborhoods look like mapped out!"
   ]
  },
  {
   "cell_type": "code",
   "execution_count": 59,
   "id": "7389c64f-4c3a-45f9-9c67-1bdc153499c4",
   "metadata": {},
   "outputs": [
    {
     "data": {
      "text/plain": [
       "<AxesSubplot: >"
      ]
     },
     "execution_count": 59,
     "metadata": {},
     "output_type": "execute_result"
    },
    {
     "data": {
      "image/png": "[encoded data removed]",
      "text/plain": [
       "<Figure size 640x480 with 1 Axes>"
      ]
     },
     "metadata": {},
     "output_type": "display_data"
    }
   ],
   "source": [
    "#simple plot map with colors\n",
    "nhoods.plot(column='Neighborhood')"
   ]
  },
  {
   "cell_type": "markdown",
   "id": "b634642a-f62f-47bc-8734-ae8bd03d8a65",
   "metadata": {},
   "source": [
    "### COVID-19 DATA ###"
   ]
  },
  {
   "cell_type": "code",
   "execution_count": 60,
   "id": "8a64fbd6-0195-4a25-b4fc-9f1e1cdba7dd",
   "metadata": {},
   "outputs": [],
   "source": [
    "# import the data and create it as a new variable\n",
    "COVIDdf = pd.read_csv('data/COVID-19 Data SF.csv')"
   ]
  },
  {
   "cell_type": "code",
   "execution_count": 61,
   "id": "341f040f-fb51-4ad0-9bb7-2fe0463f59f1",
   "metadata": {},
   "outputs": [
    {
     "data": {
      "text/plain": [
       "<bound method DataFrame.info of         area_type          id  acs_population  count  count_last_60_days  \\\n",
       "0    Census Tract  6075010101            2045    360                  13   \n",
       "1    Census Tract  6075010102            1920    374                  15   \n",
       "2    Census Tract  6075010201            2331    384                  10   \n",
       "3    Census Tract  6075010202            1984    352                   6   \n",
       "4    Census Tract  6075010300            4282    657                  16   \n",
       "..            ...         ...             ...    ...                 ...   \n",
       "236  Census Tract  6075980200             185   1009                 104   \n",
       "237  Census Tract  6075980300              32     10                   0   \n",
       "238  Census Tract  6075980501             153     17                   2   \n",
       "239  Census Tract  6075980600             747    362                  18   \n",
       "240  Census Tract  6075980900             242    245                   7   \n",
       "\n",
       "             rate  deaths                                       multipolygon  \n",
       "0     1760.391198       3  MULTIPOLYGON (((-122.4210759996576 37.81288900...  \n",
       "1     1947.916667       0  MULTIPOLYGON (((-122.41688799988128 37.8052120...  \n",
       "2     1647.361647       3  MULTIPOLYGON (((-122.42483500033495 37.8022680...  \n",
       "3     1774.193548       2  MULTIPOLYGON (((-122.42684799963547 37.8090189...  \n",
       "4     1534.329752       2  MULTIPOLYGON (((-122.41871799973586 37.8059320...  \n",
       "..            ...     ...                                                ...  \n",
       "236  54540.540540       0  MULTIPOLYGON (((-122.5106360000513 37.78212300...  \n",
       "237   3125.000000       0  MULTIPOLYGON (((-122.51725599956467 37.7706839...  \n",
       "238   1111.111111       1  MULTIPOLYGON (((-122.42722299984155 37.7155489...  \n",
       "239   4846.050870       1  MULTIPOLYGON (((-122.38693599999635 37.7242449...  \n",
       "240  10123.966940       1  MULTIPOLYGON (((-122.40711399971127 37.7390600...  \n",
       "\n",
       "[241 rows x 8 columns]>"
      ]
     },
     "execution_count": 61,
     "metadata": {},
     "output_type": "execute_result"
    }
   ],
   "source": [
    "COVIDdf.info"
   ]
  },
  {
   "cell_type": "markdown",
   "id": "81281c66-9896-4f0f-95fe-c91a709fc92a",
   "metadata": {},
   "source": [
    "Great news, there are 241 rows AKA 241 census tracts. This matches the neighborhood data!"
   ]
  },
  {
   "cell_type": "code",
   "execution_count": 62,
   "id": "e16e2032-d3f9-478c-8cae-807e137ca71c",
   "metadata": {},
   "outputs": [
    {
     "data": {
      "text/plain": [
       "66     6075015802\n",
       "177    6075031302\n",
       "203    6075042700\n",
       "47     6075013002\n",
       "151    6075026201\n",
       "Name: id, dtype: int64"
      ]
     },
     "execution_count": 62,
     "metadata": {},
     "output_type": "execute_result"
    }
   ],
   "source": [
    "# check for leading zeros\n",
    "COVIDdf['id'].sample(5)"
   ]
  },
  {
   "cell_type": "code",
   "execution_count": 63,
   "id": "5ebdab5d-9194-46e7-a0f8-4ee59bc026a7",
   "metadata": {},
   "outputs": [],
   "source": [
    "# adding leading zeros because I can see this column does not have them\n",
    "COVIDdf = pd.read_csv(\n",
    "    'data/COVID-19 Data SF.csv',\n",
    "    dtype=\n",
    "    {\n",
    "        'id':str,\n",
    "    }\n",
    ")"
   ]
  },
  {
   "cell_type": "code",
   "execution_count": 64,
   "id": "21054221-f0fb-4502-8773-e0247914584d",
   "metadata": {},
   "outputs": [
    {
     "data": {
      "text/plain": [
       "42     06075012801\n",
       "50     06075013200\n",
       "161    06075030102\n",
       "66     06075015802\n",
       "39     06075012601\n",
       "Name: id, dtype: object"
      ]
     },
     "execution_count": 64,
     "metadata": {},
     "output_type": "execute_result"
    }
   ],
   "source": [
    "# making sure leading zeros made it in\n",
    "COVIDdf['id'].sample(5)"
   ]
  },
  {
   "cell_type": "code",
   "execution_count": 65,
   "id": "fe2f60d5-a07f-4bdf-b07b-6deed177e41b",
   "metadata": {},
   "outputs": [
    {
     "data": {
      "text/html": [
       "<div>\n",
       "<style scoped>\n",
       "    .dataframe tbody tr th:only-of-type {\n",
       "        vertical-align: middle;\n",
       "    }\n",
       "\n",
       "    .dataframe tbody tr th {\n",
       "        vertical-align: top;\n",
       "    }\n",
       "\n",
       "    .dataframe thead th {\n",
       "        text-align: right;\n",
       "    }\n",
       "</style>\n",
       "<table border=\"1\" class=\"dataframe\">\n",
       "  <thead>\n",
       "    <tr style=\"text-align: right;\">\n",
       "      <th></th>\n",
       "      <th>area_type</th>\n",
       "      <th>id</th>\n",
       "      <th>acs_population</th>\n",
       "      <th>count</th>\n",
       "      <th>count_last_60_days</th>\n",
       "      <th>rate</th>\n",
       "      <th>deaths</th>\n",
       "      <th>multipolygon</th>\n",
       "    </tr>\n",
       "  </thead>\n",
       "  <tbody>\n",
       "    <tr>\n",
       "      <th>0</th>\n",
       "      <td>Census Tract</td>\n",
       "      <td>06075010101</td>\n",
       "      <td>2045</td>\n",
       "      <td>360</td>\n",
       "      <td>13</td>\n",
       "      <td>1760.391198</td>\n",
       "      <td>3</td>\n",
       "      <td>MULTIPOLYGON (((-122.4210759996576 37.81288900...</td>\n",
       "    </tr>\n",
       "    <tr>\n",
       "      <th>1</th>\n",
       "      <td>Census Tract</td>\n",
       "      <td>06075010102</td>\n",
       "      <td>1920</td>\n",
       "      <td>374</td>\n",
       "      <td>15</td>\n",
       "      <td>1947.916667</td>\n",
       "      <td>0</td>\n",
       "      <td>MULTIPOLYGON (((-122.41688799988128 37.8052120...</td>\n",
       "    </tr>\n",
       "    <tr>\n",
       "      <th>2</th>\n",
       "      <td>Census Tract</td>\n",
       "      <td>06075010201</td>\n",
       "      <td>2331</td>\n",
       "      <td>384</td>\n",
       "      <td>10</td>\n",
       "      <td>1647.361647</td>\n",
       "      <td>3</td>\n",
       "      <td>MULTIPOLYGON (((-122.42483500033495 37.8022680...</td>\n",
       "    </tr>\n",
       "    <tr>\n",
       "      <th>3</th>\n",
       "      <td>Census Tract</td>\n",
       "      <td>06075010202</td>\n",
       "      <td>1984</td>\n",
       "      <td>352</td>\n",
       "      <td>6</td>\n",
       "      <td>1774.193548</td>\n",
       "      <td>2</td>\n",
       "      <td>MULTIPOLYGON (((-122.42684799963547 37.8090189...</td>\n",
       "    </tr>\n",
       "    <tr>\n",
       "      <th>4</th>\n",
       "      <td>Census Tract</td>\n",
       "      <td>06075010300</td>\n",
       "      <td>4282</td>\n",
       "      <td>657</td>\n",
       "      <td>16</td>\n",
       "      <td>1534.329752</td>\n",
       "      <td>2</td>\n",
       "      <td>MULTIPOLYGON (((-122.41871799973586 37.8059320...</td>\n",
       "    </tr>\n",
       "  </tbody>\n",
       "</table>\n",
       "</div>"
      ],
      "text/plain": [
       "      area_type           id  acs_population  count  count_last_60_days  \\\n",
       "0  Census Tract  06075010101            2045    360                  13   \n",
       "1  Census Tract  06075010102            1920    374                  15   \n",
       "2  Census Tract  06075010201            2331    384                  10   \n",
       "3  Census Tract  06075010202            1984    352                   6   \n",
       "4  Census Tract  06075010300            4282    657                  16   \n",
       "\n",
       "          rate  deaths                                       multipolygon  \n",
       "0  1760.391198       3  MULTIPOLYGON (((-122.4210759996576 37.81288900...  \n",
       "1  1947.916667       0  MULTIPOLYGON (((-122.41688799988128 37.8052120...  \n",
       "2  1647.361647       3  MULTIPOLYGON (((-122.42483500033495 37.8022680...  \n",
       "3  1774.193548       2  MULTIPOLYGON (((-122.42684799963547 37.8090189...  \n",
       "4  1534.329752       2  MULTIPOLYGON (((-122.41871799973586 37.8059320...  "
      ]
     },
     "execution_count": 65,
     "metadata": {},
     "output_type": "execute_result"
    }
   ],
   "source": [
    "COVIDdf.head(5)"
   ]
  },
  {
   "cell_type": "markdown",
   "id": "57350548-e2e9-468f-bcc3-fbf142101c97",
   "metadata": {},
   "source": [
    "Now that the COVID-19 data is uploaded, I will try to merge the COVID-19 data with the neighborhood data. "
   ]
  },
  {
   "cell_type": "code",
   "execution_count": 66,
   "id": "250be730-4532-4919-abf5-8d78bc18233f",
   "metadata": {},
   "outputs": [],
   "source": [
    "#renaming the COVID-19 data file column from id to FIPS\n",
    "COVIDdf = COVIDdf.rename(columns={'id': 'FIPS'})"
   ]
  },
  {
   "cell_type": "code",
   "execution_count": 67,
   "id": "48c18c84-82f1-467e-b69e-edd7d92c64ca",
   "metadata": {},
   "outputs": [],
   "source": [
    "COVIDdf = COVIDdf.rename(columns={'rate': 'Rate'})"
   ]
  },
  {
   "cell_type": "code",
   "execution_count": 68,
   "id": "b451b325-4390-4ca8-8e9d-03577d910e4e",
   "metadata": {},
   "outputs": [
    {
     "data": {
      "text/html": [
       "<div>\n",
       "<style scoped>\n",
       "    .dataframe tbody tr th:only-of-type {\n",
       "        vertical-align: middle;\n",
       "    }\n",
       "\n",
       "    .dataframe tbody tr th {\n",
       "        vertical-align: top;\n",
       "    }\n",
       "\n",
       "    .dataframe thead th {\n",
       "        text-align: right;\n",
       "    }\n",
       "</style>\n",
       "<table border=\"1\" class=\"dataframe\">\n",
       "  <thead>\n",
       "    <tr style=\"text-align: right;\">\n",
       "      <th></th>\n",
       "      <th>area_type</th>\n",
       "      <th>FIPS</th>\n",
       "      <th>acs_population</th>\n",
       "      <th>count</th>\n",
       "      <th>count_last_60_days</th>\n",
       "      <th>Rate</th>\n",
       "      <th>deaths</th>\n",
       "      <th>multipolygon</th>\n",
       "    </tr>\n",
       "  </thead>\n",
       "  <tbody>\n",
       "    <tr>\n",
       "      <th>0</th>\n",
       "      <td>Census Tract</td>\n",
       "      <td>06075010101</td>\n",
       "      <td>2045</td>\n",
       "      <td>360</td>\n",
       "      <td>13</td>\n",
       "      <td>1760.391198</td>\n",
       "      <td>3</td>\n",
       "      <td>MULTIPOLYGON (((-122.4210759996576 37.81288900...</td>\n",
       "    </tr>\n",
       "    <tr>\n",
       "      <th>1</th>\n",
       "      <td>Census Tract</td>\n",
       "      <td>06075010102</td>\n",
       "      <td>1920</td>\n",
       "      <td>374</td>\n",
       "      <td>15</td>\n",
       "      <td>1947.916667</td>\n",
       "      <td>0</td>\n",
       "      <td>MULTIPOLYGON (((-122.41688799988128 37.8052120...</td>\n",
       "    </tr>\n",
       "    <tr>\n",
       "      <th>2</th>\n",
       "      <td>Census Tract</td>\n",
       "      <td>06075010201</td>\n",
       "      <td>2331</td>\n",
       "      <td>384</td>\n",
       "      <td>10</td>\n",
       "      <td>1647.361647</td>\n",
       "      <td>3</td>\n",
       "      <td>MULTIPOLYGON (((-122.42483500033495 37.8022680...</td>\n",
       "    </tr>\n",
       "    <tr>\n",
       "      <th>3</th>\n",
       "      <td>Census Tract</td>\n",
       "      <td>06075010202</td>\n",
       "      <td>1984</td>\n",
       "      <td>352</td>\n",
       "      <td>6</td>\n",
       "      <td>1774.193548</td>\n",
       "      <td>2</td>\n",
       "      <td>MULTIPOLYGON (((-122.42684799963547 37.8090189...</td>\n",
       "    </tr>\n",
       "    <tr>\n",
       "      <th>4</th>\n",
       "      <td>Census Tract</td>\n",
       "      <td>06075010300</td>\n",
       "      <td>4282</td>\n",
       "      <td>657</td>\n",
       "      <td>16</td>\n",
       "      <td>1534.329752</td>\n",
       "      <td>2</td>\n",
       "      <td>MULTIPOLYGON (((-122.41871799973586 37.8059320...</td>\n",
       "    </tr>\n",
       "  </tbody>\n",
       "</table>\n",
       "</div>"
      ],
      "text/plain": [
       "      area_type         FIPS  acs_population  count  count_last_60_days  \\\n",
       "0  Census Tract  06075010101            2045    360                  13   \n",
       "1  Census Tract  06075010102            1920    374                  15   \n",
       "2  Census Tract  06075010201            2331    384                  10   \n",
       "3  Census Tract  06075010202            1984    352                   6   \n",
       "4  Census Tract  06075010300            4282    657                  16   \n",
       "\n",
       "          Rate  deaths                                       multipolygon  \n",
       "0  1760.391198       3  MULTIPOLYGON (((-122.4210759996576 37.81288900...  \n",
       "1  1947.916667       0  MULTIPOLYGON (((-122.41688799988128 37.8052120...  \n",
       "2  1647.361647       3  MULTIPOLYGON (((-122.42483500033495 37.8022680...  \n",
       "3  1774.193548       2  MULTIPOLYGON (((-122.42684799963547 37.8090189...  \n",
       "4  1534.329752       2  MULTIPOLYGON (((-122.41871799973586 37.8059320...  "
      ]
     },
     "execution_count": 68,
     "metadata": {},
     "output_type": "execute_result"
    }
   ],
   "source": [
    "COVIDdf.head(5)"
   ]
  },
  {
   "cell_type": "code",
   "execution_count": 69,
   "id": "de6cca4a-b2f2-4259-90af-1babdb16066f",
   "metadata": {},
   "outputs": [],
   "source": [
    "# create a new dataframe based on the join\n",
    "tracts_COVID=nhoods2.merge(COVIDdf,on=\"FIPS\")"
   ]
  },
  {
   "cell_type": "code",
   "execution_count": 70,
   "id": "1e87cad3-1179-4b15-8031-76a04db2179d",
   "metadata": {},
   "outputs": [
    {
     "data": {
      "text/html": [
       "<div>\n",
       "<style scoped>\n",
       "    .dataframe tbody tr th:only-of-type {\n",
       "        vertical-align: middle;\n",
       "    }\n",
       "\n",
       "    .dataframe tbody tr th {\n",
       "        vertical-align: top;\n",
       "    }\n",
       "\n",
       "    .dataframe thead th {\n",
       "        text-align: right;\n",
       "    }\n",
       "</style>\n",
       "<table border=\"1\" class=\"dataframe\">\n",
       "  <thead>\n",
       "    <tr style=\"text-align: right;\">\n",
       "      <th></th>\n",
       "      <th>geometry</th>\n",
       "      <th>FIPS</th>\n",
       "      <th>Neighborhood</th>\n",
       "      <th>area_type</th>\n",
       "      <th>acs_population</th>\n",
       "      <th>count</th>\n",
       "      <th>count_last_60_days</th>\n",
       "      <th>Rate</th>\n",
       "      <th>deaths</th>\n",
       "      <th>multipolygon</th>\n",
       "    </tr>\n",
       "  </thead>\n",
       "  <tbody>\n",
       "    <tr>\n",
       "      <th>0</th>\n",
       "      <td>MULTIPOLYGON (((-122.42722 37.71555, -122.4271...</td>\n",
       "      <td>06075980501</td>\n",
       "      <td>McLaren Park</td>\n",
       "      <td>Census Tract</td>\n",
       "      <td>153</td>\n",
       "      <td>17</td>\n",
       "      <td>2</td>\n",
       "      <td>1111.111111</td>\n",
       "      <td>1</td>\n",
       "      <td>MULTIPOLYGON (((-122.42722299984155 37.7155489...</td>\n",
       "    </tr>\n",
       "    <tr>\n",
       "      <th>1</th>\n",
       "      <td>MULTIPOLYGON (((-122.45321 37.76825, -122.4516...</td>\n",
       "      <td>06075017102</td>\n",
       "      <td>Haight Ashbury</td>\n",
       "      <td>Census Tract</td>\n",
       "      <td>3893</td>\n",
       "      <td>625</td>\n",
       "      <td>27</td>\n",
       "      <td>1605.445672</td>\n",
       "      <td>0</td>\n",
       "      <td>MULTIPOLYGON (((-122.45320600015674 37.7682489...</td>\n",
       "    </tr>\n",
       "    <tr>\n",
       "      <th>2</th>\n",
       "      <td>MULTIPOLYGON (((-122.41500 37.78745, -122.4133...</td>\n",
       "      <td>06075012302</td>\n",
       "      <td>Tenderloin</td>\n",
       "      <td>Census Tract</td>\n",
       "      <td>2656</td>\n",
       "      <td>620</td>\n",
       "      <td>13</td>\n",
       "      <td>2334.337349</td>\n",
       "      <td>6</td>\n",
       "      <td>MULTIPOLYGON (((-122.41499499981933 37.7874539...</td>\n",
       "    </tr>\n",
       "    <tr>\n",
       "      <th>3</th>\n",
       "      <td>MULTIPOLYGON (((-122.43235 37.77378, -122.4308...</td>\n",
       "      <td>06075016801</td>\n",
       "      <td>Hayes Valley</td>\n",
       "      <td>Census Tract</td>\n",
       "      <td>4087</td>\n",
       "      <td>900</td>\n",
       "      <td>28</td>\n",
       "      <td>2202.104233</td>\n",
       "      <td>3</td>\n",
       "      <td>MULTIPOLYGON (((-122.43235099979876 37.7737789...</td>\n",
       "    </tr>\n",
       "    <tr>\n",
       "      <th>4</th>\n",
       "      <td>MULTIPOLYGON (((-122.41246 37.79163, -122.4117...</td>\n",
       "      <td>06075011902</td>\n",
       "      <td>Nob Hill</td>\n",
       "      <td>Census Tract</td>\n",
       "      <td>2957</td>\n",
       "      <td>463</td>\n",
       "      <td>14</td>\n",
       "      <td>1565.776124</td>\n",
       "      <td>3</td>\n",
       "      <td>MULTIPOLYGON (((-122.41246099987524 37.7916269...</td>\n",
       "    </tr>\n",
       "  </tbody>\n",
       "</table>\n",
       "</div>"
      ],
      "text/plain": [
       "                                            geometry         FIPS  \\\n",
       "0  MULTIPOLYGON (((-122.42722 37.71555, -122.4271...  06075980501   \n",
       "1  MULTIPOLYGON (((-122.45321 37.76825, -122.4516...  06075017102   \n",
       "2  MULTIPOLYGON (((-122.41500 37.78745, -122.4133...  06075012302   \n",
       "3  MULTIPOLYGON (((-122.43235 37.77378, -122.4308...  06075016801   \n",
       "4  MULTIPOLYGON (((-122.41246 37.79163, -122.4117...  06075011902   \n",
       "\n",
       "     Neighborhood     area_type  acs_population  count  count_last_60_days  \\\n",
       "0    McLaren Park  Census Tract             153     17                   2   \n",
       "1  Haight Ashbury  Census Tract            3893    625                  27   \n",
       "2      Tenderloin  Census Tract            2656    620                  13   \n",
       "3    Hayes Valley  Census Tract            4087    900                  28   \n",
       "4        Nob Hill  Census Tract            2957    463                  14   \n",
       "\n",
       "          Rate  deaths                                       multipolygon  \n",
       "0  1111.111111       1  MULTIPOLYGON (((-122.42722299984155 37.7155489...  \n",
       "1  1605.445672       0  MULTIPOLYGON (((-122.45320600015674 37.7682489...  \n",
       "2  2334.337349       6  MULTIPOLYGON (((-122.41499499981933 37.7874539...  \n",
       "3  2202.104233       3  MULTIPOLYGON (((-122.43235099979876 37.7737789...  \n",
       "4  1565.776124       3  MULTIPOLYGON (((-122.41246099987524 37.7916269...  "
      ]
     },
     "execution_count": 70,
     "metadata": {},
     "output_type": "execute_result"
    }
   ],
   "source": [
    "# what does it look like now?\n",
    "tracts_COVID.head()"
   ]
  },
  {
   "cell_type": "markdown",
   "id": "9139d924-ff89-43a2-8f94-012b24182972",
   "metadata": {},
   "source": [
    "Now I will make a bar chart that shows the 5 census tracts in SF with the highest rate of COVID-19 cases and highest number of COVID-19 deaths."
   ]
  },
  {
   "cell_type": "code",
   "execution_count": 71,
   "id": "6ed30420-6f6d-487b-ba08-237e843c4702",
   "metadata": {},
   "outputs": [],
   "source": [
    "COVIDdf=COVIDdf.sort_values(by='Rate',ascending = False)"
   ]
  },
  {
   "cell_type": "code",
   "execution_count": 72,
   "id": "97c1d444-b35e-4696-824f-2621db7339b8",
   "metadata": {},
   "outputs": [
    {
     "data": {
      "text/plain": [
       "<AxesSubplot: title={'center': 'Top 5 Census Tracts in SF with Highest Rate of COVID-19 Cases'}, ylabel='FIPS'>"
      ]
     },
     "execution_count": 72,
     "metadata": {},
     "output_type": "execute_result"
    },
    {
     "data": {
      "image/png": "[encoded data removed]",
      "text/plain": [
       "<Figure size 640x480 with 1 Axes>"
      ]
     },
     "metadata": {},
     "output_type": "display_data"
    }
   ],
   "source": [
    "COVIDdf.head(5).plot.barh(x='FIPS',\n",
    "    y='Rate', \n",
    "    title='Top 5 Census Tracts in SF with Highest Rate of COVID-19 Cases')"
   ]
  },
  {
   "cell_type": "code",
   "execution_count": 75,
   "id": "a39d733d-b55e-4ab5-b28d-795a526e8a24",
   "metadata": {},
   "outputs": [
    {
     "data": {
      "application/vnd.plotly.v1+json": {
       "config": {
        "plotlyServerURL": "https://plot.ly"
       },
       "data": [
        {
         "alignmentgroup": "True",
         "hovertemplate": "FIPS=%{x}<br>Rate=%{y}<extra></extra>",
         "legendgroup": "",
         "marker": {
          "color": "#636efa",
          "line": {
           "width": 0
          },
          "pattern": {
           "shape": ""
          }
         },
         "name": "",
         "offsetgroup": "",
         "orientation": "v",
         "showlegend": false,
         "textposition": "auto",
         "type": "bar",
         "x": [
          "06075980200",
          "06075980900",
          "06075060702",
          "06075980600",
          "06075023200"
         ],
         "xaxis": "x",
         "y": [
          54540.54054,
          10123.96694,
          5469.659185,
          4846.05087,
          4798.89043
         ],
         "yaxis": "y"
        }
       ],
       "layout": {
        "autosize": true,
        "barmode": "relative",
        "legend": {
         "tracegroupgap": 0
        },
        "template": {
         "data": {
          "bar": [
           {
            "error_x": {
             "color": "#2a3f5f"
            },
            "error_y": {
             "color": "#2a3f5f"
            },
            "marker": {
             "line": {
              "color": "#E5ECF6",
              "width": 0.5
             },
             "pattern": {
              "fillmode": "overlay",
              "size": 10,
              "solidity": 0.2
             }
            },
            "type": "bar"
           }
          ],
          "barpolar": [
           {
            "marker": {
             "line": {
              "color": "#E5ECF6",
              "width": 0.5
             },
             "pattern": {
              "fillmode": "overlay",
              "size": 10,
              "solidity": 0.2
             }
            },
            "type": "barpolar"
           }
          ],
          "carpet": [
           {
            "aaxis": {
             "endlinecolor": "#2a3f5f",
             "gridcolor": "white",
             "linecolor": "white",
             "minorgridcolor": "white",
             "startlinecolor": "#2a3f5f"
            },
            "baxis": {
             "endlinecolor": "#2a3f5f",
             "gridcolor": "white",
             "linecolor": "white",
             "minorgridcolor": "white",
             "startlinecolor": "#2a3f5f"
            },
            "type": "carpet"
           }
          ],
          "choropleth": [
           {
            "colorbar": {
             "outlinewidth": 0,
             "ticks": ""
            },
            "type": "choropleth"
           }
          ],
          "contour": [
           {
            "colorbar": {
             "outlinewidth": 0,
             "ticks": ""
            },
            "colorscale": [
             [
              0,
              "#0d0887"
             ],
             [
              0.1111111111111111,
              "#46039f"
             ],
             [
              0.2222222222222222,
              "#7201a8"
             ],
             [
              0.3333333333333333,
              "#9c179e"
             ],
             [
              0.4444444444444444,
              "#bd3786"
             ],
             [
              0.5555555555555556,
              "#d8576b"
             ],
             [
              0.6666666666666666,
              "#ed7953"
             ],
             [
              0.7777777777777778,
              "#fb9f3a"
             ],
             [
              0.8888888888888888,
              "#fdca26"
             ],
             [
              1,
              "#f0f921"
             ]
            ],
            "type": "contour"
           }
          ],
          "contourcarpet": [
           {
            "colorbar": {
             "outlinewidth": 0,
             "ticks": ""
            },
            "type": "contourcarpet"
           }
          ],
          "heatmap": [
           {
            "colorbar": {
             "outlinewidth": 0,
             "ticks": ""
            },
            "colorscale": [
             [
              0,
              "#0d0887"
             ],
             [
              0.1111111111111111,
              "#46039f"
             ],
             [
              0.2222222222222222,
              "#7201a8"
             ],
             [
              0.3333333333333333,
              "#9c179e"
             ],
             [
              0.4444444444444444,
              "#bd3786"
             ],
             [
              0.5555555555555556,
              "#d8576b"
             ],
             [
              0.6666666666666666,
              "#ed7953"
             ],
             [
              0.7777777777777778,
              "#fb9f3a"
             ],
             [
              0.8888888888888888,
              "#fdca26"
             ],
             [
              1,
              "#f0f921"
             ]
            ],
            "type": "heatmap"
           }
          ],
          "heatmapgl": [
           {
            "colorbar": {
             "outlinewidth": 0,
             "ticks": ""
            },
            "colorscale": [
             [
              0,
              "#0d0887"
             ],
             [
              0.1111111111111111,
              "#46039f"
             ],
             [
              0.2222222222222222,
              "#7201a8"
             ],
             [
              0.3333333333333333,
              "#9c179e"
             ],
             [
              0.4444444444444444,
              "#bd3786"
             ],
             [
              0.5555555555555556,
              "#d8576b"
             ],
             [
              0.6666666666666666,
              "#ed7953"
             ],
             [
              0.7777777777777778,
              "#fb9f3a"
             ],
             [
              0.8888888888888888,
              "#fdca26"
             ],
             [
              1,
              "#f0f921"
             ]
            ],
            "type": "heatmapgl"
           }
          ],
          "histogram": [
           {
            "marker": {
             "pattern": {
              "fillmode": "overlay",
              "size": 10,
              "solidity": 0.2
             }
            },
            "type": "histogram"
           }
          ],
          "histogram2d": [
           {
            "colorbar": {
             "outlinewidth": 0,
             "ticks": ""
            },
            "colorscale": [
             [
              0,
              "#0d0887"
             ],
             [
              0.1111111111111111,
              "#46039f"
             ],
             [
              0.2222222222222222,
              "#7201a8"
             ],
             [
              0.3333333333333333,
              "#9c179e"
             ],
             [
              0.4444444444444444,
              "#bd3786"
             ],
             [
              0.5555555555555556,
              "#d8576b"
             ],
             [
              0.6666666666666666,
              "#ed7953"
             ],
             [
              0.7777777777777778,
              "#fb9f3a"
             ],
             [
              0.8888888888888888,
              "#fdca26"
             ],
             [
              1,
              "#f0f921"
             ]
            ],
            "type": "histogram2d"
           }
          ],
          "histogram2dcontour": [
           {
            "colorbar": {
             "outlinewidth": 0,
             "ticks": ""
            },
            "colorscale": [
             [
              0,
              "#0d0887"
             ],
             [
              0.1111111111111111,
              "#46039f"
             ],
             [
              0.2222222222222222,
              "#7201a8"
             ],
             [
              0.3333333333333333,
              "#9c179e"
             ],
             [
              0.4444444444444444,
              "#bd3786"
             ],
             [
              0.5555555555555556,
              "#d8576b"
             ],
             [
              0.6666666666666666,
              "#ed7953"
             ],
             [
              0.7777777777777778,
              "#fb9f3a"
             ],
             [
              0.8888888888888888,
              "#fdca26"
             ],
             [
              1,
              "#f0f921"
             ]
            ],
            "type": "histogram2dcontour"
           }
          ],
          "mesh3d": [
           {
            "colorbar": {
             "outlinewidth": 0,
             "ticks": ""
            },
            "type": "mesh3d"
           }
          ],
          "parcoords": [
           {
            "line": {
             "colorbar": {
              "outlinewidth": 0,
              "ticks": ""
             }
            },
            "type": "parcoords"
           }
          ],
          "pie": [
           {
            "automargin": true,
            "type": "pie"
           }
          ],
          "scatter": [
           {
            "fillpattern": {
             "fillmode": "overlay",
             "size": 10,
             "solidity": 0.2
            },
            "type": "scatter"
           }
          ],
          "scatter3d": [
           {
            "line": {
             "colorbar": {
              "outlinewidth": 0,
              "ticks": ""
             }
            },
            "marker": {
             "colorbar": {
              "outlinewidth": 0,
              "ticks": ""
             }
            },
            "type": "scatter3d"
           }
          ],
          "scattercarpet": [
           {
            "marker": {
             "colorbar": {
              "outlinewidth": 0,
              "ticks": ""
             }
            },
            "type": "scattercarpet"
           }
          ],
          "scattergeo": [
           {
            "marker": {
             "colorbar": {
              "outlinewidth": 0,
              "ticks": ""
             }
            },
            "type": "scattergeo"
           }
          ],
          "scattergl": [
           {
            "marker": {
             "colorbar": {
              "outlinewidth": 0,
              "ticks": ""
             }
            },
            "type": "scattergl"
           }
          ],
          "scattermapbox": [
           {
            "marker": {
             "colorbar": {
              "outlinewidth": 0,
              "ticks": ""
             }
            },
            "type": "scattermapbox"
           }
          ],
          "scatterpolar": [
           {
            "marker": {
             "colorbar": {
              "outlinewidth": 0,
              "ticks": ""
             }
            },
            "type": "scatterpolar"
           }
          ],
          "scatterpolargl": [
           {
            "marker": {
             "colorbar": {
              "outlinewidth": 0,
              "ticks": ""
             }
            },
            "type": "scatterpolargl"
           }
          ],
          "scatterternary": [
           {
            "marker": {
             "colorbar": {
              "outlinewidth": 0,
              "ticks": ""
             }
            },
            "type": "scatterternary"
           }
          ],
          "surface": [
           {
            "colorbar": {
             "outlinewidth": 0,
             "ticks": ""
            },
            "colorscale": [
             [
              0,
              "#0d0887"
             ],
             [
              0.1111111111111111,
              "#46039f"
             ],
             [
              0.2222222222222222,
              "#7201a8"
             ],
             [
              0.3333333333333333,
              "#9c179e"
             ],
             [
              0.4444444444444444,
              "#bd3786"
             ],
             [
              0.5555555555555556,
              "#d8576b"
             ],
             [
              0.6666666666666666,
              "#ed7953"
             ],
             [
              0.7777777777777778,
              "#fb9f3a"
             ],
             [
              0.8888888888888888,
              "#fdca26"
             ],
             [
              1,
              "#f0f921"
             ]
            ],
            "type": "surface"
           }
          ],
          "table": [
           {
            "cells": {
             "fill": {
              "color": "#EBF0F8"
             },
             "line": {
              "color": "white"
             }
            },
            "header": {
             "fill": {
              "color": "#C8D4E3"
             },
             "line": {
              "color": "white"
             }
            },
            "type": "table"
           }
          ]
         },
         "layout": {
          "annotationdefaults": {
           "arrowcolor": "#2a3f5f",
           "arrowhead": 0,
           "arrowwidth": 1
          },
          "autotypenumbers": "strict",
          "coloraxis": {
           "colorbar": {
            "outlinewidth": 0,
            "ticks": ""
           }
          },
          "colorscale": {
           "diverging": [
            [
             0,
             "#8e0152"
            ],
            [
             0.1,
             "#c51b7d"
            ],
            [
             0.2,
             "#de77ae"
            ],
            [
             0.3,
             "#f1b6da"
            ],
            [
             0.4,
             "#fde0ef"
            ],
            [
             0.5,
             "#f7f7f7"
            ],
            [
             0.6,
             "#e6f5d0"
            ],
            [
             0.7,
             "#b8e186"
            ],
            [
             0.8,
             "#7fbc41"
            ],
            [
             0.9,
             "#4d9221"
            ],
            [
             1,
             "#276419"
            ]
           ],
           "sequential": [
            [
             0,
             "#0d0887"
            ],
            [
             0.1111111111111111,
             "#46039f"
            ],
            [
             0.2222222222222222,
             "#7201a8"
            ],
            [
             0.3333333333333333,
             "#9c179e"
            ],
            [
             0.4444444444444444,
             "#bd3786"
            ],
            [
             0.5555555555555556,
             "#d8576b"
            ],
            [
             0.6666666666666666,
             "#ed7953"
            ],
            [
             0.7777777777777778,
             "#fb9f3a"
            ],
            [
             0.8888888888888888,
             "#fdca26"
            ],
            [
             1,
             "#f0f921"
            ]
           ],
           "sequentialminus": [
            [
             0,
             "#0d0887"
            ],
            [
             0.1111111111111111,
             "#46039f"
            ],
            [
             0.2222222222222222,
             "#7201a8"
            ],
            [
             0.3333333333333333,
             "#9c179e"
            ],
            [
             0.4444444444444444,
             "#bd3786"
            ],
            [
             0.5555555555555556,
             "#d8576b"
            ],
            [
             0.6666666666666666,
             "#ed7953"
            ],
            [
             0.7777777777777778,
             "#fb9f3a"
            ],
            [
             0.8888888888888888,
             "#fdca26"
            ],
            [
             1,
             "#f0f921"
            ]
           ]
          },
          "colorway": [
           "#636efa",
           "#EF553B",
           "#00cc96",
           "#ab63fa",
           "#FFA15A",
           "#19d3f3",
           "#FF6692",
           "#B6E880",
           "#FF97FF",
           "#FECB52"
          ],
          "font": {
           "color": "#2a3f5f"
          },
          "geo": {
           "bgcolor": "white",
           "lakecolor": "white",
           "landcolor": "#E5ECF6",
           "showlakes": true,
           "showland": true,
           "subunitcolor": "white"
          },
          "hoverlabel": {
           "align": "left"
          },
          "hovermode": "closest",
          "mapbox": {
           "style": "light"
          },
          "paper_bgcolor": "white",
          "plot_bgcolor": "#E5ECF6",
          "polar": {
           "angularaxis": {
            "gridcolor": "white",
            "linecolor": "white",
            "ticks": ""
           },
           "bgcolor": "#E5ECF6",
           "radialaxis": {
            "gridcolor": "white",
            "linecolor": "white",
            "ticks": ""
           }
          },
          "scene": {
           "xaxis": {
            "backgroundcolor": "#E5ECF6",
            "gridcolor": "white",
            "gridwidth": 2,
            "linecolor": "white",
            "showbackground": true,
            "ticks": "",
            "zerolinecolor": "white"
           },
           "yaxis": {
            "backgroundcolor": "#E5ECF6",
            "gridcolor": "white",
            "gridwidth": 2,
            "linecolor": "white",
            "showbackground": true,
            "ticks": "",
            "zerolinecolor": "white"
           },
           "zaxis": {
            "backgroundcolor": "#E5ECF6",
            "gridcolor": "white",
            "gridwidth": 2,
            "linecolor": "white",
            "showbackground": true,
            "ticks": "",
            "zerolinecolor": "white"
           }
          },
          "shapedefaults": {
           "line": {
            "color": "#2a3f5f"
           }
          },
          "ternary": {
           "aaxis": {
            "gridcolor": "white",
            "linecolor": "white",
            "ticks": ""
           },
           "baxis": {
            "gridcolor": "white",
            "linecolor": "white",
            "ticks": ""
           },
           "bgcolor": "#E5ECF6",
           "caxis": {
            "gridcolor": "white",
            "linecolor": "white",
            "ticks": ""
           }
          },
          "title": {
           "x": 0.05
          },
          "xaxis": {
           "automargin": true,
           "gridcolor": "white",
           "linecolor": "white",
           "ticks": "",
           "title": {
            "standoff": 15
           },
           "zerolinecolor": "white",
           "zerolinewidth": 2
          },
          "yaxis": {
           "automargin": true,
           "gridcolor": "white",
           "linecolor": "white",
           "ticks": "",
           "title": {
            "standoff": 15
           },
           "zerolinecolor": "white",
           "zerolinewidth": 2
          }
         }
        },
        "title": {
         "text": "COVID-19 Rate by San Francisco Census Tracts"
        },
        "xaxis": {
         "anchor": "y",
         "autorange": true,
         "domain": [
          0,
          1
         ],
         "range": [
          -0.5,
          4.5
         ],
         "title": {
          "text": "FIPS"
         },
         "type": "category"
        },
        "yaxis": {
         "anchor": "x",
         "autorange": true,
         "domain": [
          0,
          1
         ],
         "range": [
          0,
          57411.09530526316
         ],
         "title": {
          "text": "Rate"
         },
         "type": "linear"
        }
       }
      },
      "image/png": "[encoded data removed]",
      "text/html": [
       "<div>                            <div id=\"7e75d10e-8474-40ae-902a-66c1e25f4ace\" class=\"plotly-graph-div\" style=\"height:525px; width:100%;\"></div>            <script type=\"text/javascript\">                require([\"plotly\"], function(Plotly) {                    window.PLOTLYENV=window.PLOTLYENV || {};                                    if (document.getElementById(\"7e75d10e-8474-40ae-902a-66c1e25f4ace\")) {                    Plotly.newPlot(                        \"7e75d10e-8474-40ae-902a-66c1e25f4ace\",                        [{\"alignmentgroup\":\"True\",\"hovertemplate\":\"FIPS=%{x}<br>Rate=%{y}<extra></extra>\",\"legendgroup\":\"\",\"marker\":{\"color\":\"#636efa\",\"pattern\":{\"shape\":\"\"},\"line\":{\"width\":0}},\"name\":\"\",\"offsetgroup\":\"\",\"orientation\":\"v\",\"showlegend\":false,\"textposition\":\"auto\",\"x\":[\"06075980200\",\"06075980900\",\"06075060702\",\"06075980600\",\"06075023200\"],\"xaxis\":\"x\",\"y\":[54540.54054,10123.96694,5469.659185,4846.05087,4798.89043],\"yaxis\":\"y\",\"type\":\"bar\"}],                        {\"template\":{\"data\":{\"histogram2dcontour\":[{\"type\":\"histogram2dcontour\",\"colorbar\":{\"outlinewidth\":0,\"ticks\":\"\"},\"colorscale\":[[0.0,\"#0d0887\"],[0.1111111111111111,\"#46039f\"],[0.2222222222222222,\"#7201a8\"],[0.3333333333333333,\"#9c179e\"],[0.4444444444444444,\"#bd3786\"],[0.5555555555555556,\"#d8576b\"],[0.6666666666666666,\"#ed7953\"],[0.7777777777777778,\"#fb9f3a\"],[0.8888888888888888,\"#fdca26\"],[1.0,\"#f0f921\"]]}],\"choropleth\":[{\"type\":\"choropleth\",\"colorbar\":{\"outlinewidth\":0,\"ticks\":\"\"}}],\"histogram2d\":[{\"type\":\"histogram2d\",\"colorbar\":{\"outlinewidth\":0,\"ticks\":\"\"},\"colorscale\":[[0.0,\"#0d0887\"],[0.1111111111111111,\"#46039f\"],[0.2222222222222222,\"#7201a8\"],[0.3333333333333333,\"#9c179e\"],[0.4444444444444444,\"#bd3786\"],[0.5555555555555556,\"#d8576b\"],[0.6666666666666666,\"#ed7953\"],[0.7777777777777778,\"#fb9f3a\"],[0.8888888888888888,\"#fdca26\"],[1.0,\"#f0f921\"]]}],\"heatmap\":[{\"type\":\"heatmap\",\"colorbar\":{\"outlinewidth\":0,\"ticks\":\"\"},\"colorscale\":[[0.0,\"#0d0887\"],[0.1111111111111111,\"#46039f\"],[0.2222222222222222,\"#7201a8\"],[0.3333333333333333,\"#9c179e\"],[0.4444444444444444,\"#bd3786\"],[0.5555555555555556,\"#d8576b\"],[0.6666666666666666,\"#ed7953\"],[0.7777777777777778,\"#fb9f3a\"],[0.8888888888888888,\"#fdca26\"],[1.0,\"#f0f921\"]]}],\"heatmapgl\":[{\"type\":\"heatmapgl\",\"colorbar\":{\"outlinewidth\":0,\"ticks\":\"\"},\"colorscale\":[[0.0,\"#0d0887\"],[0.1111111111111111,\"#46039f\"],[0.2222222222222222,\"#7201a8\"],[0.3333333333333333,\"#9c179e\"],[0.4444444444444444,\"#bd3786\"],[0.5555555555555556,\"#d8576b\"],[0.6666666666666666,\"#ed7953\"],[0.7777777777777778,\"#fb9f3a\"],[0.8888888888888888,\"#fdca26\"],[1.0,\"#f0f921\"]]}],\"contourcarpet\":[{\"type\":\"contourcarpet\",\"colorbar\":{\"outlinewidth\":0,\"ticks\":\"\"}}],\"contour\":[{\"type\":\"contour\",\"colorbar\":{\"outlinewidth\":0,\"ticks\":\"\"},\"colorscale\":[[0.0,\"#0d0887\"],[0.1111111111111111,\"#46039f\"],[0.2222222222222222,\"#7201a8\"],[0.3333333333333333,\"#9c179e\"],[0.4444444444444444,\"#bd3786\"],[0.5555555555555556,\"#d8576b\"],[0.6666666666666666,\"#ed7953\"],[0.7777777777777778,\"#fb9f3a\"],[0.8888888888888888,\"#fdca26\"],[1.0,\"#f0f921\"]]}],\"surface\":[{\"type\":\"surface\",\"colorbar\":{\"outlinewidth\":0,\"ticks\":\"\"},\"colorscale\":[[0.0,\"#0d0887\"],[0.1111111111111111,\"#46039f\"],[0.2222222222222222,\"#7201a8\"],[0.3333333333333333,\"#9c179e\"],[0.4444444444444444,\"#bd3786\"],[0.5555555555555556,\"#d8576b\"],[0.6666666666666666,\"#ed7953\"],[0.7777777777777778,\"#fb9f3a\"],[0.8888888888888888,\"#fdca26\"],[1.0,\"#f0f921\"]]}],\"mesh3d\":[{\"type\":\"mesh3d\",\"colorbar\":{\"outlinewidth\":0,\"ticks\":\"\"}}],\"scatter\":[{\"fillpattern\":{\"fillmode\":\"overlay\",\"size\":10,\"solidity\":0.2},\"type\":\"scatter\"}],\"parcoords\":[{\"type\":\"parcoords\",\"line\":{\"colorbar\":{\"outlinewidth\":0,\"ticks\":\"\"}}}],\"scatterpolargl\":[{\"type\":\"scatterpolargl\",\"marker\":{\"colorbar\":{\"outlinewidth\":0,\"ticks\":\"\"}}}],\"bar\":[{\"error_x\":{\"color\":\"#2a3f5f\"},\"error_y\":{\"color\":\"#2a3f5f\"},\"marker\":{\"line\":{\"color\":\"#E5ECF6\",\"width\":0.5},\"pattern\":{\"fillmode\":\"overlay\",\"size\":10,\"solidity\":0.2}},\"type\":\"bar\"}],\"scattergeo\":[{\"type\":\"scattergeo\",\"marker\":{\"colorbar\":{\"outlinewidth\":0,\"ticks\":\"\"}}}],\"scatterpolar\":[{\"type\":\"scatterpolar\",\"marker\":{\"colorbar\":{\"outlinewidth\":0,\"ticks\":\"\"}}}],\"histogram\":[{\"marker\":{\"pattern\":{\"fillmode\":\"overlay\",\"size\":10,\"solidity\":0.2}},\"type\":\"histogram\"}],\"scattergl\":[{\"type\":\"scattergl\",\"marker\":{\"colorbar\":{\"outlinewidth\":0,\"ticks\":\"\"}}}],\"scatter3d\":[{\"type\":\"scatter3d\",\"line\":{\"colorbar\":{\"outlinewidth\":0,\"ticks\":\"\"}},\"marker\":{\"colorbar\":{\"outlinewidth\":0,\"ticks\":\"\"}}}],\"scattermapbox\":[{\"type\":\"scattermapbox\",\"marker\":{\"colorbar\":{\"outlinewidth\":0,\"ticks\":\"\"}}}],\"scatterternary\":[{\"type\":\"scatterternary\",\"marker\":{\"colorbar\":{\"outlinewidth\":0,\"ticks\":\"\"}}}],\"scattercarpet\":[{\"type\":\"scattercarpet\",\"marker\":{\"colorbar\":{\"outlinewidth\":0,\"ticks\":\"\"}}}],\"carpet\":[{\"aaxis\":{\"endlinecolor\":\"#2a3f5f\",\"gridcolor\":\"white\",\"linecolor\":\"white\",\"minorgridcolor\":\"white\",\"startlinecolor\":\"#2a3f5f\"},\"baxis\":{\"endlinecolor\":\"#2a3f5f\",\"gridcolor\":\"white\",\"linecolor\":\"white\",\"minorgridcolor\":\"white\",\"startlinecolor\":\"#2a3f5f\"},\"type\":\"carpet\"}],\"table\":[{\"cells\":{\"fill\":{\"color\":\"#EBF0F8\"},\"line\":{\"color\":\"white\"}},\"header\":{\"fill\":{\"color\":\"#C8D4E3\"},\"line\":{\"color\":\"white\"}},\"type\":\"table\"}],\"barpolar\":[{\"marker\":{\"line\":{\"color\":\"#E5ECF6\",\"width\":0.5},\"pattern\":{\"fillmode\":\"overlay\",\"size\":10,\"solidity\":0.2}},\"type\":\"barpolar\"}],\"pie\":[{\"automargin\":true,\"type\":\"pie\"}]},\"layout\":{\"autotypenumbers\":\"strict\",\"colorway\":[\"#636efa\",\"#EF553B\",\"#00cc96\",\"#ab63fa\",\"#FFA15A\",\"#19d3f3\",\"#FF6692\",\"#B6E880\",\"#FF97FF\",\"#FECB52\"],\"font\":{\"color\":\"#2a3f5f\"},\"hovermode\":\"closest\",\"hoverlabel\":{\"align\":\"left\"},\"paper_bgcolor\":\"white\",\"plot_bgcolor\":\"#E5ECF6\",\"polar\":{\"bgcolor\":\"#E5ECF6\",\"angularaxis\":{\"gridcolor\":\"white\",\"linecolor\":\"white\",\"ticks\":\"\"},\"radialaxis\":{\"gridcolor\":\"white\",\"linecolor\":\"white\",\"ticks\":\"\"}},\"ternary\":{\"bgcolor\":\"#E5ECF6\",\"aaxis\":{\"gridcolor\":\"white\",\"linecolor\":\"white\",\"ticks\":\"\"},\"baxis\":{\"gridcolor\":\"white\",\"linecolor\":\"white\",\"ticks\":\"\"},\"caxis\":{\"gridcolor\":\"white\",\"linecolor\":\"white\",\"ticks\":\"\"}},\"coloraxis\":{\"colorbar\":{\"outlinewidth\":0,\"ticks\":\"\"}},\"colorscale\":{\"sequential\":[[0.0,\"#0d0887\"],[0.1111111111111111,\"#46039f\"],[0.2222222222222222,\"#7201a8\"],[0.3333333333333333,\"#9c179e\"],[0.4444444444444444,\"#bd3786\"],[0.5555555555555556,\"#d8576b\"],[0.6666666666666666,\"#ed7953\"],[0.7777777777777778,\"#fb9f3a\"],[0.8888888888888888,\"#fdca26\"],[1.0,\"#f0f921\"]],\"sequentialminus\":[[0.0,\"#0d0887\"],[0.1111111111111111,\"#46039f\"],[0.2222222222222222,\"#7201a8\"],[0.3333333333333333,\"#9c179e\"],[0.4444444444444444,\"#bd3786\"],[0.5555555555555556,\"#d8576b\"],[0.6666666666666666,\"#ed7953\"],[0.7777777777777778,\"#fb9f3a\"],[0.8888888888888888,\"#fdca26\"],[1.0,\"#f0f921\"]],\"diverging\":[[0,\"#8e0152\"],[0.1,\"#c51b7d\"],[0.2,\"#de77ae\"],[0.3,\"#f1b6da\"],[0.4,\"#fde0ef\"],[0.5,\"#f7f7f7\"],[0.6,\"#e6f5d0\"],[0.7,\"#b8e186\"],[0.8,\"#7fbc41\"],[0.9,\"#4d9221\"],[1,\"#276419\"]]},\"xaxis\":{\"gridcolor\":\"white\",\"linecolor\":\"white\",\"ticks\":\"\",\"title\":{\"standoff\":15},\"zerolinecolor\":\"white\",\"automargin\":true,\"zerolinewidth\":2},\"yaxis\":{\"gridcolor\":\"white\",\"linecolor\":\"white\",\"ticks\":\"\",\"title\":{\"standoff\":15},\"zerolinecolor\":\"white\",\"automargin\":true,\"zerolinewidth\":2},\"scene\":{\"xaxis\":{\"backgroundcolor\":\"#E5ECF6\",\"gridcolor\":\"white\",\"linecolor\":\"white\",\"showbackground\":true,\"ticks\":\"\",\"zerolinecolor\":\"white\",\"gridwidth\":2},\"yaxis\":{\"backgroundcolor\":\"#E5ECF6\",\"gridcolor\":\"white\",\"linecolor\":\"white\",\"showbackground\":true,\"ticks\":\"\",\"zerolinecolor\":\"white\",\"gridwidth\":2},\"zaxis\":{\"backgroundcolor\":\"#E5ECF6\",\"gridcolor\":\"white\",\"linecolor\":\"white\",\"showbackground\":true,\"ticks\":\"\",\"zerolinecolor\":\"white\",\"gridwidth\":2}},\"shapedefaults\":{\"line\":{\"color\":\"#2a3f5f\"}},\"annotationdefaults\":{\"arrowcolor\":\"#2a3f5f\",\"arrowhead\":0,\"arrowwidth\":1},\"geo\":{\"bgcolor\":\"white\",\"landcolor\":\"#E5ECF6\",\"subunitcolor\":\"white\",\"showland\":true,\"showlakes\":true,\"lakecolor\":\"white\"},\"title\":{\"x\":0.05},\"mapbox\":{\"style\":\"light\"}}},\"xaxis\":{\"anchor\":\"y\",\"domain\":[0.0,1.0],\"title\":{\"text\":\"FIPS\"}},\"yaxis\":{\"anchor\":\"x\",\"domain\":[0.0,1.0],\"title\":{\"text\":\"Rate\"}},\"legend\":{\"tracegroupgap\":0},\"title\":{\"text\":\"COVID-19 Rate by San Francisco Census Tracts\"},\"barmode\":\"relative\"},                        {\"responsive\": true}                    ).then(function(){\n",
       "                            \n",
       "var gd = document.getElementById('7e75d10e-8474-40ae-902a-66c1e25f4ace');\n",
       "var x = new MutationObserver(function (mutations, observer) {{\n",
       "        var display = window.getComputedStyle(gd).display;\n",
       "        if (!display || display === 'none') {{\n",
       "            console.log([gd, 'removed!']);\n",
       "            Plotly.purge(gd);\n",
       "            observer.disconnect();\n",
       "        }}\n",
       "}});\n",
       "\n",
       "// Listen for the removal of the full notebook cells\n",
       "var notebookContainer = gd.closest('#notebook-container');\n",
       "if (notebookContainer) {{\n",
       "    x.observe(notebookContainer, {childList: true});\n",
       "}}\n",
       "\n",
       "// Listen for the clearing of the current output cell\n",
       "var outputEl = gd.closest('.output');\n",
       "if (outputEl) {{\n",
       "    x.observe(outputEl, {childList: true});\n",
       "}}\n",
       "\n",
       "                        })                };                });            </script>        </div>"
      ]
     },
     "metadata": {},
     "output_type": "display_data"
    }
   ],
   "source": [
    "# creating an interactive bar chart\n",
    "\n",
    "COVIDdf=COVIDdf.sort_values(by='Rate',ascending = False)\n",
    "\n",
    "fig=px.bar(COVIDdf.head(5),\n",
    "           x='FIPS',\n",
    "           y='Rate',\n",
    "           title='COVID-19 Rate by San Francisco Census Tracts'\n",
    "          )\n",
    "fig.update_traces(marker_line_width=0)\n",
    "           \n",
    "fig.show()"
   ]
  },
  {
   "cell_type": "code",
   "execution_count": 76,
   "id": "2031595c-7ebe-466a-9682-12256d8a9c72",
   "metadata": {},
   "outputs": [],
   "source": [
    "fig.write_html('COVID-19_Graph.html')"
   ]
  },
  {
   "cell_type": "code",
   "execution_count": null,
   "id": "ffe43e74-c9de-4b04-abb6-2b9149eefdd1",
   "metadata": {},
   "outputs": [],
   "source": [
    "COVIDdf=COVIDdf.sort_values(by='deaths',ascending = False)"
   ]
  },
  {
   "cell_type": "code",
   "execution_count": null,
   "id": "5c7f873d-3331-4c09-a43d-1f51900e7e92",
   "metadata": {},
   "outputs": [],
   "source": [
    "# creating a bar chart\n",
    "COVIDdf.head(5).plot.barh(x='FIPS',\n",
    "    y='deaths', \n",
    "    title='Top 5 Census Tracts in SF with Highest Number of COVID-19 Deaths')"
   ]
  },
  {
   "cell_type": "code",
   "execution_count": null,
   "id": "13a00975-16a1-42c9-957c-ed3580e82948",
   "metadata": {},
   "outputs": [],
   "source": [
    "# creating an interactive bar chart for COVID death count by census tract\n",
    "COVIDdf=COVIDdf.sort_values(by='deaths',ascending = False)\n",
    "\n",
    "fig=px.bar(COVIDdf.head(5),\n",
    "           x='FIPS',\n",
    "           y='deaths',\n",
    "           title='COVID-19 Death Count by SF Census Tracts'\n",
    "          )\n",
    "fig.update_traces(marker_line_width=0)\n",
    "           \n",
    "fig.show()"
   ]
  },
  {
   "cell_type": "markdown",
   "id": "0b66e08b-630b-415f-b981-66a1f6e81eb0",
   "metadata": {},
   "source": [
    "### MAPPING ###"
   ]
  },
  {
   "cell_type": "code",
   "execution_count": null,
   "id": "c5cff9bf-b354-4900-9a32-6ec0b827915f",
   "metadata": {},
   "outputs": [],
   "source": [
    "import folium"
   ]
  },
  {
   "cell_type": "code",
   "execution_count": null,
   "id": "c7c103fa-64d8-4c14-917a-fff7a9e07c43",
   "metadata": {},
   "outputs": [],
   "source": [
    "# mapping COVID deaths by census tract and neighborhood\n",
    "tracts_COVID.explore(\n",
    "    column=\"deaths\",\n",
    "    tooltip=\"Neighborhood\",\n",
    "    popup=True,\n",
    "    tiles=\"cartodbpositron\",\n",
    "    cmap=\"Reds\",\n",
    "    style_kwds=dict(color=\"white\")\n",
    " )"
   ]
  },
  {
   "cell_type": "code",
   "execution_count": null,
   "id": "cb90aa2a-c557-49ae-b306-8c039c631a5b",
   "metadata": {},
   "outputs": [],
   "source": [
    "# mapping COVID rate by census tract and neighborhood\n",
    "tracts_COVID.explore(\n",
    "    column=\"Rate\",\n",
    "    tooltip=\"Neighborhood\",\n",
    "    popup=True,\n",
    "    tiles=\"cartodbpositron\",\n",
    "    cmap=\"Blues\",\n",
    "    style_kwds=dict(color=\"white\")\n",
    " )"
   ]
  },
  {
   "cell_type": "markdown",
   "id": "c438b24b-8d68-4426-96df-cd31c6102399",
   "metadata": {},
   "source": [
    "### HEALTH INSURANCE DATA ###"
   ]
  },
  {
   "cell_type": "code",
   "execution_count": null,
   "id": "b387bfe8-ed06-4597-bc8c-583c34fb5c07",
   "metadata": {},
   "outputs": [],
   "source": [
    "# importing health insurance coverage data\n",
    "HIdf = pd.read_csv('data/Health Insurance.csv')"
   ]
  },
  {
   "cell_type": "code",
   "execution_count": null,
   "id": "1488402e-8c0b-43aa-b59f-a7df5d6a511c",
   "metadata": {},
   "outputs": [],
   "source": [
    "HIdf.shape"
   ]
  },
  {
   "cell_type": "code",
   "execution_count": null,
   "id": "93cd7fe5-0df2-41ee-87fd-5a8d39fc2807",
   "metadata": {},
   "outputs": [],
   "source": [
    "HIdf.head(5)"
   ]
  },
  {
   "cell_type": "markdown",
   "id": "eb4210ea-97e5-4cbe-ab9c-ff40874351e1",
   "metadata": {},
   "source": [
    "I am now going to add back in the leading zeros to the FIPS codes so that they match with the other data sets I want to merge with. "
   ]
  },
  {
   "cell_type": "code",
   "execution_count": null,
   "id": "70bb93a4-870f-4538-8c9b-7117337d8067",
   "metadata": {},
   "outputs": [],
   "source": [
    "# add in leading zeros\n",
    "HIdf = pd.read_csv(\n",
    "    'data/Health Insurance.csv',\n",
    "    dtype=\n",
    "    {\n",
    "        'FIPS':str,\n",
    "        'Geo_STATE':str,\n",
    "        'Geo_COUNTY': str\n",
    "    }\n",
    "    \n",
    ")"
   ]
  },
  {
   "cell_type": "code",
   "execution_count": null,
   "id": "2fd46f18-2e4d-4e99-b22f-216d2e9abc87",
   "metadata": {},
   "outputs": [],
   "source": [
    "# checking to make sure that worked\n",
    "HIdf.head(5)"
   ]
  },
  {
   "cell_type": "markdown",
   "id": "76cc10ec-c3a6-48dd-8f1d-2c44cc7ce1a8",
   "metadata": {},
   "source": [
    "Now I will go ahead and identify which columns I want to keep. For this data set, I am keeping information on the total number of people, how many have health insurance, how many do not, and if it is private or public insurance. I am also keeping the columns with the percent calculation for each category I am keeping because this is the data I will map."
   ]
  },
  {
   "cell_type": "code",
   "execution_count": null,
   "id": "abc6708f-50fa-4302-b476-89ca1e81a094",
   "metadata": {},
   "outputs": [],
   "source": [
    "columns_to_keep = ['FIPS',\n",
    "                   'No Health Insurance', \n",
    "                   'With Health Insurance',\n",
    "                   'Public Health Insurance',\n",
    "                   'Private Health Insurance',\n",
    "                   'Percent No Health Insurance',\n",
    "                   'Percent With Health Insurance',\n",
    "                   'Percent Public Health Insurance',\n",
    "                   'Percent Private Health Insurance']\n",
    "HIdf2 = HIdf[columns_to_keep]"
   ]
  },
  {
   "cell_type": "code",
   "execution_count": null,
   "id": "a1db59b3-18ee-4672-b19e-b0b0519e858b",
   "metadata": {},
   "outputs": [],
   "source": [
    "# taking a sample to make sure that the columns were saved correctly\n",
    "HIdf2.head(10)"
   ]
  },
  {
   "cell_type": "code",
   "execution_count": null,
   "id": "4e9d79ac-7682-41a6-a707-aa4f40ab26b7",
   "metadata": {},
   "outputs": [],
   "source": [
    "# what is the average number of people with health insurance per census tract?\n",
    "HIdf2['With Health Insurance'].mean()"
   ]
  },
  {
   "cell_type": "code",
   "execution_count": null,
   "id": "0d0bbf59-d9a6-43a1-9230-79e149af35bb",
   "metadata": {},
   "outputs": [],
   "source": [
    "# what is the average number of people without health insurance per census tract?\n",
    "HIdf2['No Health Insurance'].mean()"
   ]
  },
  {
   "cell_type": "code",
   "execution_count": null,
   "id": "60d2165c-c5bb-44b8-ac00-0622caa73daf",
   "metadata": {},
   "outputs": [],
   "source": [
    "# what is the average number of people with public health coverage per census tract?\n",
    "HIdf2['Public Health Insurance'].mean()"
   ]
  },
  {
   "cell_type": "markdown",
   "id": "d3c0cdba-c332-42ea-873b-e768061029f0",
   "metadata": {},
   "source": [
    "I am now going to look for which census tracts have the highest number of publicaly insured individuals. I am using this data point instead of uninsured because many people in California are insured due to Covered CA. We can also see above that the average number of people without health insurance per census tract is much lower when comparing to people with insurance and with public insurance."
   ]
  },
  {
   "cell_type": "code",
   "execution_count": null,
   "id": "1b86655d-d802-4a32-a057-7083305877d7",
   "metadata": {},
   "outputs": [],
   "source": [
    "# sorting the census tracts by number of residents with public health coverage\n",
    "HIdf_sorted = HIdf2.sort_values(by='Percent Public Health Insurance',ascending = False)"
   ]
  },
  {
   "cell_type": "code",
   "execution_count": null,
   "id": "2ad1a510-dd32-4a05-a82a-6011cb4141d0",
   "metadata": {},
   "outputs": [],
   "source": [
    "# looking at the top 5 census tracts for health insurance coverage\n",
    "HIdf_sorted[['FIPS','Percent Public Health Insurance']].head(5)"
   ]
  },
  {
   "cell_type": "code",
   "execution_count": null,
   "id": "d0841eff-e115-41cb-9897-9c87ebf2b6e6",
   "metadata": {},
   "outputs": [],
   "source": [
    "HIdf_sorted.head(5).plot.bar(x='FIPS',\n",
    "                            y='Percent Public Health Insurance')"
   ]
  },
  {
   "cell_type": "code",
   "execution_count": null,
   "id": "0c9c0d8e-9258-4c49-a16f-e637601abeff",
   "metadata": {},
   "outputs": [],
   "source": [
    "# creating an interactive bar chart for public health insurance coverage by census tract\n",
    "HIdf_sorted[['FIPS','Percent Public Health Insurance']].head(5)\n",
    "\n",
    "fig=px.bar(HIdf_sorted.head(5),\n",
    "           x='FIPS',\n",
    "           y='Percent Public Health Insurance',\n",
    "           title='Top 5 Census Tracts with the Highest Percentage of Individuals with Public Health Insurance Coverage'\n",
    "          )\n",
    "fig.update_traces(marker_line_width=0)\n",
    "           \n",
    "fig.show()"
   ]
  },
  {
   "cell_type": "markdown",
   "id": "dbbbecd0-0712-4e5c-8866-02c6d6ced8a7",
   "metadata": {},
   "source": [
    "I am now going to upload another csv file that only contains information about Bayview/Hunters Point."
   ]
  },
  {
   "cell_type": "code",
   "execution_count": null,
   "id": "1a695227-9f2f-4cb2-be4a-1ac165e912db",
   "metadata": {},
   "outputs": [],
   "source": [
    "# importing public health insurance coverage data for Bayview/Hunters Point\n",
    "HPBV = pd.read_csv('data/HPBV Public Health Coverage.csv')"
   ]
  },
  {
   "cell_type": "code",
   "execution_count": null,
   "id": "de9eee83-f2c5-4a38-8fd4-0f37aed77332",
   "metadata": {},
   "outputs": [],
   "source": [
    "HPBV.head()"
   ]
  },
  {
   "cell_type": "code",
   "execution_count": null,
   "id": "4f0f993a-e8b8-4a83-8be1-b796e58b6874",
   "metadata": {},
   "outputs": [],
   "source": [
    "HPBV.info()"
   ]
  },
  {
   "cell_type": "code",
   "execution_count": null,
   "id": "c4d2b200-a688-4ebe-8ddd-b73522f19308",
   "metadata": {},
   "outputs": [],
   "source": [
    "# changing the FIPS column to string so that it is not read as a number\n",
    "HPBV.FIPS = HPBV.FIPS.astype('Int64').astype(str) "
   ]
  },
  {
   "cell_type": "code",
   "execution_count": null,
   "id": "41dc3c86-e9e2-48b2-b6c4-7663646da762",
   "metadata": {},
   "outputs": [],
   "source": [
    "HPBV.info()"
   ]
  },
  {
   "cell_type": "code",
   "execution_count": null,
   "id": "586948f3-87aa-4b7a-9b6f-5e335917ecbd",
   "metadata": {},
   "outputs": [],
   "source": [
    "HPBV.head(5)"
   ]
  },
  {
   "cell_type": "code",
   "execution_count": null,
   "id": "a5417f2e-8bb4-4d3f-a707-d53a7be727e9",
   "metadata": {},
   "outputs": [],
   "source": [
    "HPBV_sorted = HPBV.sort_values(by='Percent Covered',ascending = False)"
   ]
  },
  {
   "cell_type": "code",
   "execution_count": null,
   "id": "ca303d58-2bd1-4b5e-9bd0-e11d173f1762",
   "metadata": {},
   "outputs": [],
   "source": [
    "HPBV_sorted.head()"
   ]
  },
  {
   "cell_type": "code",
   "execution_count": null,
   "id": "5a0e1f4c-160b-4779-b03d-273ca08ba4e1",
   "metadata": {},
   "outputs": [],
   "source": [
    "# creating an interactive bar chart for public health insurance coverage in Bayview/Hunters Point\n",
    "HPBV_sorted[['FIPS','Percent Covered']].head(5)\n",
    "\n",
    "fig=px.bar(HPBV_sorted.head(11),\n",
    "           x='FIPS',\n",
    "           y='Percent Covered',\n",
    "           title='Percentage of People Covered by Public Health Insurance in Bayview/Hunters Point'\n",
    "          )\n",
    "fig.update_traces(textposition='outside',textfont_size=10,textfont_color='#444')\n",
    "           \n",
    "fig.show()"
   ]
  },
  {
   "cell_type": "markdown",
   "id": "0bfae072-b718-48df-8410-e7806cfb71ce",
   "metadata": {},
   "source": [
    "Now I am going to merge this data set with the neighborhoods data set so that I can map this information."
   ]
  },
  {
   "cell_type": "code",
   "execution_count": null,
   "id": "85861bad-b60e-467b-a943-386ba9133052",
   "metadata": {},
   "outputs": [],
   "source": [
    "# merge the data sets\n",
    "tracts_HI=nhoods2.merge(HIdf,on=\"FIPS\")"
   ]
  },
  {
   "cell_type": "code",
   "execution_count": null,
   "id": "28a85235-7905-4631-82a1-5f48331732e8",
   "metadata": {},
   "outputs": [],
   "source": [
    "# what does it look like now?\n",
    "tracts_HI.head()"
   ]
  },
  {
   "cell_type": "markdown",
   "id": "b7b75ce2-d198-4424-a016-73a83869c919",
   "metadata": {},
   "source": [
    "Okay great, it looks like those two data sets merged correctly. Now I can map type of health insurance coverage by neighborhood in San Francisco."
   ]
  },
  {
   "cell_type": "code",
   "execution_count": null,
   "id": "9fcd8d68-6a04-4547-8bda-29950a27a076",
   "metadata": {},
   "outputs": [],
   "source": [
    "# mapping percentage of people on public health insurance by census tract and neighborhood\n",
    "tracts_HI.explore(\n",
    "    column=\"Percent Public Health Insurance\",\n",
    "    tooltip=\"Neighborhood\",\n",
    "    popup=True,\n",
    "    tiles=\"cartodbpositron\",\n",
    "    cmap=\"Reds\",\n",
    "    style_kwds=dict(color=\"white\")\n",
    " )"
   ]
  },
  {
   "cell_type": "markdown",
   "id": "a028f811-af0c-4350-a4bb-caa889458d8d",
   "metadata": {},
   "source": [
    "### HOSPITALS IN SAN FRANCISCO ###"
   ]
  },
  {
   "cell_type": "markdown",
   "id": "81817285-e5e1-45e5-b0d3-f156e855d814",
   "metadata": {},
   "source": [
    "I am now going to import a new data set that I have not analyzed thus far. This is a data set that has information on where hospitals are in San Francisco. We will use this information to see if there are areas of the city that do not have easy access to emergency health care facilities."
   ]
  },
  {
   "cell_type": "code",
   "execution_count": null,
   "id": "f632108b-aebb-4545-bdfe-8e639a8137a7",
   "metadata": {},
   "outputs": [],
   "source": [
    "#importing libraries\n",
    "import pandas as pd\n",
    "import geopandas as gpd\n",
    "import plotly.express as px"
   ]
  },
  {
   "cell_type": "code",
   "execution_count": null,
   "id": "23a586e8-119f-4833-8325-c73b569bdfc4",
   "metadata": {},
   "outputs": [],
   "source": [
    "hcdf = pd.read_csv('data/Hospitals.csv')"
   ]
  },
  {
   "cell_type": "code",
   "execution_count": null,
   "id": "e4197eac-6db8-4436-be32-eda8dd78f146",
   "metadata": {},
   "outputs": [],
   "source": [
    "hcdf.head(5)"
   ]
  },
  {
   "cell_type": "code",
   "execution_count": null,
   "id": "69cc94ed-5722-4139-9fda-a5ce5cc86bda",
   "metadata": {},
   "outputs": [],
   "source": [
    "m = folium.Map(location=[37.75438181891893\n",
    ",-122.41669952162162])\n",
    "m"
   ]
  },
  {
   "cell_type": "code",
   "execution_count": null,
   "id": "c9993397-3762-4c0e-bb79-17ca72d0b02b",
   "metadata": {},
   "outputs": [],
   "source": [
    "for index, row in hcdf.iterrows():\n",
    "    # add folium marker code\n",
    "    folium.Marker([row.Latitude, row.Longitude], popup=row.Address, tooltip=row.Address).add_to(m)\n",
    "m"
   ]
  },
  {
   "cell_type": "code",
   "execution_count": null,
   "id": "c3d32863-1c61-4c7a-8916-ad1dbc759a71",
   "metadata": {},
   "outputs": [],
   "source": [
    "m.save('Hospitals_Map.html')"
   ]
  },
  {
   "cell_type": "code",
   "execution_count": null,
   "id": "d39a2248-cf3d-4657-bf33-d4bcbacf47af",
   "metadata": {},
   "outputs": [],
   "source": []
  }
 ],
 "metadata": {
  "kernelspec": {
   "display_name": "Python 3 (ipykernel)",
   "language": "python",
   "name": "python3"
  },
  "language_info": {
   "codemirror_mode": {
    "name": "ipython",
    "version": 3
   },
   "file_extension": ".py",
   "mimetype": "text/x-python",
   "name": "python",
   "nbconvert_exporter": "python",
   "pygments_lexer": "ipython3",
   "version": "3.10.8"
  }
 },
 "nbformat": 4,
 "nbformat_minor": 5
}
