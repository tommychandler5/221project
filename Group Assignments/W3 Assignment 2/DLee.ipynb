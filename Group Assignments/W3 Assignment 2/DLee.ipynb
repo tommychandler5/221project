{
 "cells": [
  {
   "cell_type": "markdown",
   "id": "330a39a0-3523-45cc-969e-23e4df2b676d",
   "metadata": {},
   "source": [
    "# [Title]\n",
    "### [description]\n",
    "\n",
    "##### DaYoung Lee\n",
    "\n",
    "**erase later: instructions**\n",
    "\n",
    "1. The first cell of the notebook should be a markdown cell that includes a title, description, and author of the assignment.\n",
    "2. Download census variables relevant to your research question (if you are working outside of the United States, consult with me to find an alternative dataset)\n",
    "3. Create a Jupyter Notebook and use pandas/geopandas to explore and visualize the data\n",
    "4. Produce several charts, including one or more maps\n",
    "5. Make sure to document each procedure with markdown cells with relevant headers\n",
    "6. Run the cells in the notebook, and make sure the notebook \"reads\" from top to bottom, telling a story\n",
    "7. Upload each Jupyter Notebook along with the associated census data file to your group repo\n"
   ]
  },
  {
   "cell_type": "code",
   "execution_count": null,
   "id": "da10a1d4-7ce1-46a5-82cc-e96164b291bb",
   "metadata": {},
   "outputs": [],
   "source": []
  }
 ],
 "metadata": {
  "kernelspec": {
   "display_name": "Python 3 (ipykernel)",
   "language": "python",
   "name": "python3"
  },
  "language_info": {
   "codemirror_mode": {
    "name": "ipython",
    "version": 3
   },
   "file_extension": ".py",
   "mimetype": "text/x-python",
   "name": "python",
   "nbconvert_exporter": "python",
   "pygments_lexer": "ipython3",
   "version": "3.10.8"
  }
 },
 "nbformat": 4,
 "nbformat_minor": 5
}
