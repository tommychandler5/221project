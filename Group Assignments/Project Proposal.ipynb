{
 "cells": [
  {
   "cell_type": "markdown",
   "id": "97d8d2ef-a95c-46ab-8d63-64c786bdb08d",
   "metadata": {},
   "source": [
    "# Project Proposal \n"
   ]
  },
  {
   "cell_type": "code",
   "execution_count": null,
   "id": "5d30ba26-8014-4723-9f2b-e16465096a2d",
   "metadata": {},
   "outputs": [],
   "source": []
  }
 ],
 "metadata": {
  "kernelspec": {
   "display_name": "Python 3 (ipykernel)",
   "language": "python",
   "name": "python3"
  },
  "language_info": {
   "codemirror_mode": {
    "name": "ipython",
    "version": 3
   },
   "file_extension": ".py",
   "mimetype": "text/x-python",
   "name": "python",
   "nbconvert_exporter": "python",
   "pygments_lexer": "ipython3",
   "version": "3.10.8"
  }
 },
 "nbformat": 4,
 "nbformat_minor": 5
}
